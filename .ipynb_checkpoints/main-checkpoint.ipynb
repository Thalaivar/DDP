{
 "cells": [
  {
   "cell_type": "code",
   "execution_count": null,
   "id": "8a66a4ae-4fd8-4b5e-85cb-3dc7996a8dd0",
   "metadata": {},
   "outputs": [],
   "source": [
    "import sys\n",
    "sys.path.insert(0, \"/home/laadd/DDP/behaviourPipeline/\")\n",
    "\n",
    "import logging\n",
    "logging.basicConfig(level=logging.INFO)"
   ]
  },
  {
   "cell_type": "code",
   "execution_count": null,
   "id": "acd9f301-5b7d-4d38-8a72-c01fdc04382d",
   "metadata": {},
   "outputs": [],
   "source": [
    "import pandas as pd\n",
    "from behaviourPipeline.pipeline import BehaviourPipeline"
   ]
  },
  {
   "cell_type": "code",
   "execution_count": 1,
   "id": "cc51910a-2dcb-4b66-a43e-cc8adc80f175",
   "metadata": {},
   "outputs": [
    {
     "ename": "NameError",
     "evalue": "name 'BehaviourPipeline' is not defined",
     "output_type": "error",
     "traceback": [
      "\u001b[0;31m---------------------------------------------------------------------------\u001b[0m",
      "\u001b[0;31mNameError\u001b[0m                                 Traceback (most recent call last)",
      "\u001b[0;32m<ipython-input-1-78c3b1a93d5c>\u001b[0m in \u001b[0;36m<module>\u001b[0;34m\u001b[0m\n\u001b[0;32m----> 1\u001b[0;31m \u001b[0mpipeline\u001b[0m \u001b[0;34m=\u001b[0m \u001b[0mBehaviourPipeline\u001b[0m\u001b[0;34m(\u001b[0m\u001b[0mpipelinename\u001b[0m\u001b[0;34m=\u001b[0m\u001b[0;34m\"trial\"\u001b[0m\u001b[0;34m,\u001b[0m \u001b[0mconfig\u001b[0m\u001b[0;34m=\u001b[0m\u001b[0;34m\"./config.yaml\"\u001b[0m\u001b[0;34m)\u001b[0m\u001b[0;34m\u001b[0m\u001b[0;34m\u001b[0m\u001b[0m\n\u001b[0m",
      "\u001b[0;31mNameError\u001b[0m: name 'BehaviourPipeline' is not defined"
     ]
    }
   ],
   "source": [
    "pipeline = BehaviourPipeline(pipelinename=\"trial\", config=\"./config.yaml\")"
   ]
  },
  {
   "cell_type": "code",
   "execution_count": 7,
   "id": "55c08150-4a14-4c7c-b27d-28bc492968ac",
   "metadata": {},
   "outputs": [
    {
     "name": "stderr",
     "output_type": "stream",
     "text": [
      "INFO:behaviourPipeline.pipeline:extracted data from 10 strains with a total of 50 animals\n"
     ]
    }
   ],
   "source": [
    "data_dir = \"/projects/kumar-lab/StrainSurveyPoses/\"\n",
    "records = pd.read_csv(\"/projects/kumar-lab/StrainSurveyPoses/StrainSurveyMetaList_2019-04-09.tsv\", sep=\"\\t\")\n",
    "fdata = pipeline.ingest_data(data_dir, records, n=5, n_strains=10)"
   ]
  },
  {
   "cell_type": "code",
   "execution_count": 9,
   "id": "24c53238-5f92-4ad3-89c7-9a226dc3326c",
   "metadata": {},
   "outputs": [
    {
     "name": "stderr",
     "output_type": "stream",
     "text": [
      "INFO:behaviourPipeline.pipeline:extracting features from 10 strains\n",
      "100%|██████████| 10/10 [00:12<00:00,  1.17s/it]INFO:behaviourPipeline.pipeline:extracted 10 datasets of 92D features\n",
      "INFO:behaviourPipeline.pipeline:collected features into bins of 100 ms\n"
     ]
    }
   ],
   "source": [
    "feats = pipeline.compute_features()"
   ]
  },
  {
   "cell_type": "code",
   "execution_count": null,
   "id": "2f1af8d2-cc52-4bf9-bb5d-ad0a85abdcef",
   "metadata": {},
   "outputs": [],
   "source": [
    "templates, clustering = pipeline.cluster_strainwise()"
   ]
  },
  {
   "cell_type": "code",
   "execution_count": null,
   "id": "0a9dc07e-6a52-4929-bf43-a6d9bcca1c87",
   "metadata": {},
   "outputs": [],
   "source": []
  }
 ],
 "metadata": {
  "kernelspec": {
   "display_name": "Python 3",
   "language": "python",
   "name": "python3"
  },
  "language_info": {
   "codemirror_mode": {
    "name": "ipython",
    "version": 3
   },
   "file_extension": ".py",
   "mimetype": "text/x-python",
   "name": "python",
   "nbconvert_exporter": "python",
   "pygments_lexer": "ipython3",
   "version": "3.7.9"
  }
 },
 "nbformat": 4,
 "nbformat_minor": 5
}
