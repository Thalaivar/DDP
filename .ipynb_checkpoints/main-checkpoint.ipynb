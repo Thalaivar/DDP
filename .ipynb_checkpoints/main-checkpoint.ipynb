{
 "cells": [
  {
   "cell_type": "code",
   "execution_count": 1,
   "id": "8a66a4ae-4fd8-4b5e-85cb-3dc7996a8dd0",
   "metadata": {},
   "outputs": [],
   "source": [
    "import logging\n",
    "logging.basicConfig(level=logging.INFO)"
   ]
  },
  {
   "cell_type": "code",
   "execution_count": 2,
   "id": "acd9f301-5b7d-4d38-8a72-c01fdc04382d",
   "metadata": {},
   "outputs": [
    {
     "name": "stderr",
     "output_type": "stream",
     "text": [
      "/home/laadd/anaconda3/envs/bsoid/lib/python3.7/site-packages/ray/autoscaler/_private/cli_logger.py:61: FutureWarning: Not all Ray CLI dependencies were found. In Ray 1.4+, the Ray CLI, autoscaler, and dashboard will only be usable via `pip install 'ray[default]'`. Please update your install command.\n",
      "  \"update your install command.\", FutureWarning)\n"
     ]
    }
   ],
   "source": [
    "import pandas as pd\n",
    "from behaviourPipeline.pipeline import BehaviourPipeline"
   ]
  },
  {
   "cell_type": "code",
   "execution_count": 3,
   "id": "cc51910a-2dcb-4b66-a43e-cc8adc80f175",
   "metadata": {},
   "outputs": [],
   "source": [
    "pipeline = BehaviourPipeline(pipelinename=\"trial\", config=\"./config.yaml\")"
   ]
  },
  {
   "cell_type": "code",
   "execution_count": 7,
   "id": "55c08150-4a14-4c7c-b27d-28bc492968ac",
   "metadata": {},
   "outputs": [
    {
     "name": "stderr",
     "output_type": "stream",
     "text": [
      "INFO:behaviourPipeline.pipeline:extracted data from 10 strains with a total of 50 animals\n"
     ]
    }
   ],
   "source": [
    "data_dir = \"/projects/kumar-lab/StrainSurveyPoses/\"\n",
    "records = pd.read_csv(\"/projects/kumar-lab/StrainSurveyPoses/StrainSurveyMetaList_2019-04-09.tsv\", sep=\"\\t\")\n",
    "fdata = pipeline.ingest_data(data_dir, records, n=5, n_strains=10)"
   ]
  },
  {
   "cell_type": "code",
   "execution_count": 9,
   "id": "24c53238-5f92-4ad3-89c7-9a226dc3326c",
   "metadata": {},
   "outputs": [
    {
     "name": "stderr",
     "output_type": "stream",
     "text": [
      "INFO:behaviourPipeline.pipeline:extracting features from 10 strains\n",
      "100%|██████████| 10/10 [00:12<00:00,  1.17s/it]INFO:behaviourPipeline.pipeline:extracted 10 datasets of 92D features\n",
      "INFO:behaviourPipeline.pipeline:collected features into bins of 100 ms\n"
     ]
    }
   ],
   "source": [
    "feats = pipeline.compute_features()"
   ]
  },
  {
   "cell_type": "code",
   "execution_count": 4,
   "id": "2f1af8d2-cc52-4bf9-bb5d-ad0a85abdcef",
   "metadata": {},
   "outputs": [
    {
     "name": "stderr",
     "output_type": "stream",
     "text": [
      "2021-08-25 11:12:48,883\tINFO services.py:1269 -- View the Ray dashboard at \u001b[1m\u001b[32mhttp://127.0.0.1:8265\u001b[39m\u001b[22m\n",
      "100%|██████████| 10/10 [08:47<00:00, 52.72s/it]"
     ]
    }
   ],
   "source": [
    "templates, clustering = pipeline.cluster_strainwise()"
   ]
  },
  {
   "cell_type": "code",
   "execution_count": 4,
   "id": "0a9dc07e-6a52-4929-bf43-a6d9bcca1c87",
   "metadata": {},
   "outputs": [
    {
     "name": "stderr",
     "output_type": "stream",
     "text": [
      "INFO:behaviourPipeline.clustering:pooling 31 clusters from C57BR/cdJ with entropy ratio 0.9754171990325906\n",
      "INFO:behaviourPipeline.clustering:pooling 28 clusters from NU/J with entropy ratio 0.9798342380721551\n",
      "INFO:behaviourPipeline.clustering:pooling 28 clusters from PWD/PhJ with entropy ratio 0.9629549414291035\n",
      "INFO:behaviourPipeline.clustering:pooling 40 clusters from CBA/J with entropy ratio 0.9753141540768984\n",
      "INFO:behaviourPipeline.clustering:pooling 30 clusters from B6AF1/J with entropy ratio 0.9674389125722889\n",
      "INFO:behaviourPipeline.clustering:pooling 32 clusters from C57BL/6NJ with entropy ratio 0.9647903070947553\n",
      "INFO:behaviourPipeline.clustering:pooling 31 clusters from MOLF/EiJ with entropy ratio 0.9761640635564549\n",
      "INFO:behaviourPipeline.clustering:pooling 51 clusters from AKR/J with entropy ratio 0.9773525027119179\n",
      "INFO:behaviourPipeline.clustering:pooling 33 clusters from NON/ShiLtJ with entropy ratio 0.9740431709742531\n",
      "INFO:behaviourPipeline.clustering:pooling 24 clusters from C57L/J with entropy ratio 0.9611157959656386\n",
      "INFO:behaviourPipeline.pipeline:embedding (13692, 92) templates from 328 clusters\n",
      "INFO:behaviourPipeline.clustering:clustering (13692, 35) with range [0.4, 1.2]\n",
      "INFO:behaviourPipeline.clustering:identified 72 clusters with min_sample_prop=0.4 and entropy ratio=0.858\n",
      "INFO:behaviourPipeline.clustering:identified 65 clusters with min_sample_prop=0.43 and entropy ratio=0.857\n",
      "INFO:behaviourPipeline.clustering:identified 60 clusters with min_sample_prop=0.47 and entropy ratio=0.865\n",
      "INFO:behaviourPipeline.clustering:identified 55 clusters with min_sample_prop=0.5 and entropy ratio=0.86\n",
      "INFO:behaviourPipeline.clustering:identified 48 clusters with min_sample_prop=0.53 and entropy ratio=0.869\n",
      "INFO:behaviourPipeline.clustering:identified 42 clusters with min_sample_prop=0.57 and entropy ratio=0.883\n",
      "INFO:behaviourPipeline.clustering:identified 41 clusters with min_sample_prop=0.6 and entropy ratio=0.889\n",
      "INFO:behaviourPipeline.clustering:identified 40 clusters with min_sample_prop=0.63 and entropy ratio=0.887\n",
      "INFO:behaviourPipeline.clustering:identified 33 clusters with min_sample_prop=0.67 and entropy ratio=0.884\n",
      "INFO:behaviourPipeline.clustering:identified 31 clusters with min_sample_prop=0.7 and entropy ratio=0.885\n",
      "INFO:behaviourPipeline.clustering:identified 30 clusters with min_sample_prop=0.73 and entropy ratio=0.89\n",
      "INFO:behaviourPipeline.clustering:identified 30 clusters with min_sample_prop=0.77 and entropy ratio=0.89\n",
      "INFO:behaviourPipeline.clustering:identified 30 clusters with min_sample_prop=0.8 and entropy ratio=0.89\n",
      "INFO:behaviourPipeline.clustering:identified 26 clusters with min_sample_prop=0.83 and entropy ratio=0.889\n",
      "INFO:behaviourPipeline.clustering:identified 25 clusters with min_sample_prop=0.87 and entropy ratio=0.89\n",
      "INFO:behaviourPipeline.clustering:identified 25 clusters with min_sample_prop=0.9 and entropy ratio=0.89\n",
      "INFO:behaviourPipeline.clustering:identified 21 clusters with min_sample_prop=0.93 and entropy ratio=0.903\n",
      "INFO:behaviourPipeline.clustering:identified 21 clusters with min_sample_prop=0.97 and entropy ratio=0.903\n",
      "INFO:behaviourPipeline.clustering:identified 21 clusters with min_sample_prop=1.0 and entropy ratio=0.903\n",
      "INFO:behaviourPipeline.clustering:identified 20 clusters with min_sample_prop=1.03 and entropy ratio=0.907\n",
      "INFO:behaviourPipeline.clustering:identified 20 clusters with min_sample_prop=1.07 and entropy ratio=0.907\n",
      "INFO:behaviourPipeline.clustering:identified 20 clusters with min_sample_prop=1.1 and entropy ratio=0.907\n",
      "INFO:behaviourPipeline.clustering:identified 18 clusters with min_sample_prop=1.13 and entropy ratio=0.921\n",
      "INFO:behaviourPipeline.clustering:identified 19 clusters with min_sample_prop=1.17 and entropy ratio=0.928\n",
      "INFO:behaviourPipeline.clustering:identified 19 clusters with min_sample_prop=1.2 and entropy ratio=0.928\n",
      "INFO:behaviourPipeline.clustering:embedded (13692, 92) to 35D with 19 clusters and entropy ratio=0.944\n"
     ]
    }
   ],
   "source": [
    "# templates, clustering = pipeline.load(\"strainclusters.sav\")\n",
    "templates, clustering = pipeline.pool()"
   ]
  },
  {
   "cell_type": "code",
   "execution_count": null,
   "id": "f94f58d4-89c8-4c10-bfa3-6216be053f3a",
   "metadata": {},
   "outputs": [],
   "source": []
  }
 ],
 "metadata": {
  "kernelspec": {
   "display_name": "Python 3",
   "language": "python",
   "name": "python3"
  },
  "language_info": {
   "codemirror_mode": {
    "name": "ipython",
    "version": 3
   },
   "file_extension": ".py",
   "mimetype": "text/x-python",
   "name": "python",
   "nbconvert_exporter": "python",
   "pygments_lexer": "ipython3",
   "version": "3.7.9"
  }
 },
 "nbformat": 4,
 "nbformat_minor": 5
}
