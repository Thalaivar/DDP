{
 "cells": [
  {
   "cell_type": "code",
   "execution_count": 1,
   "id": "f7bcb78c",
   "metadata": {},
   "outputs": [],
   "source": [
    "%config Completer.use_jedi = False"
   ]
  },
  {
   "cell_type": "code",
   "execution_count": 2,
   "id": "a177cfae",
   "metadata": {},
   "outputs": [
    {
     "name": "stderr",
     "output_type": "stream",
     "text": [
      "/home/laadd/anaconda3/envs/bsoid/lib/python3.7/site-packages/ray/autoscaler/_private/cli_logger.py:61: FutureWarning: Not all Ray CLI dependencies were found. In Ray 1.4+, the Ray CLI, autoscaler, and dashboard will only be usable via `pip install 'ray[default]'`. Please update your install command.\n",
      "  \"update your install command.\", FutureWarning)\n"
     ]
    }
   ],
   "source": [
    "import logging\n",
    "logging.basicConfig(level=logging.INFO)\n",
    "\n",
    "import sys\n",
    "sys.path.insert(0, \"/home/laadd/DDP/B-SOID/\")\n",
    "\n",
    "import seaborn as sns\n",
    "from BSOID.bsoid import *\n",
    "import scipy\n",
    "from scipy.spatial.distance import squareform"
   ]
  },
  {
   "cell_type": "code",
   "execution_count": 3,
   "id": "8dba4a4b",
   "metadata": {
    "scrolled": true
   },
   "outputs": [],
   "source": [
    "ea_mat = np.load(\"/fastscratch/laadd/eac_runs/eac_mat.npy\")"
   ]
  },
  {
   "cell_type": "code",
   "execution_count": 17,
   "id": "95798afe",
   "metadata": {},
   "outputs": [],
   "source": [
    "def cluster_eac(M, pvalue=None):\n",
    "    Z = scipy.cluster.hierarchy.linkage(squareform(M), method=\"single\")\n",
    "    \n",
    "    if pvalue is None:\n",
    "        fig, ax = plt.subplots(figsize=(6, 9))\n",
    "        ddata = scipy.cluster.hierarchy.dendrogram(Z, ax=ax)\n",
    "        ylocs = []\n",
    "        for i, d in zip(ddata['icoord'], ddata['dcoord']):\n",
    "            x = 0.5 * sum(i[1:3])\n",
    "            y = d[1]\n",
    "            ax.plot([0, x], [y, y], '--g')\n",
    "            ylocs.append(y)\n",
    "\n",
    "        plt.show()\n",
    "\n",
    "        pvalue = float(input(\"p-value for choosing split: \"))\n",
    "    \n",
    "    fig, ax = plt.subplots(figsize=(6, 9))\n",
    "    scipy.cluster.hierarchy.dendrogram(Z, ax=ax)\n",
    "    xlim = ax.get_xlim()\n",
    "    ax.plot([0, xlim[1]], [pvalue, pvalue], '--r')\n",
    "    \n",
    "    plt.savefig(\"/home/laadd/dendogram.jpg\", dpi=500, bbox_inches=\"tight\", pad_inches=0)\n",
    "    plt.show()\n",
    "    \n",
    "    group_labels = scipy.cluster.hierarchy.fcluster(Z, t=pvalue, criterion=\"distance\")\n",
    "    return group_labels"
   ]
  },
  {
   "cell_type": "code",
   "execution_count": 18,
   "id": "4468c185",
   "metadata": {},
   "outputs": [
    {
     "data": {
      "image/png": "[encoded data removed]",
      "text/plain": [
       "<Figure size 432x648 with 1 Axes>"
      ]
     },
     "metadata": {
      "needs_background": "light"
     },
     "output_type": "display_data"
    }
   ],
   "source": [
    "glabels = cluster_eac(ea_mat, pvalue=0.53)"
   ]
  },
  {
   "cell_type": "code",
   "execution_count": 6,
   "id": "301e4b34",
   "metadata": {},
   "outputs": [],
   "source": [
    "def cluster_grouping(glabels):\n",
    "    labs = np.unique(glabels)\n",
    "    \n",
    "    groups = {}\n",
    "    for lab in labs:\n",
    "        groups[lab] = np.where(glabels == lab)[0]\n",
    "    return groups\n",
    "groups = cluster_grouping(glabels)"
   ]
  },
  {
   "cell_type": "code",
   "execution_count": 10,
   "id": "35021245",
   "metadata": {},
   "outputs": [
    {
     "data": {
      "text/plain": [
       "array([15, 18, 19, 20, 25, 40])"
      ]
     },
     "execution_count": 10,
     "metadata": {},
     "output_type": "execute_result"
    }
   ],
   "source": [
    "groups[3]"
   ]
  }
 ],
 "metadata": {
  "kernelspec": {
   "display_name": "Python 3",
   "language": "python",
   "name": "python3"
  },
  "language_info": {
   "codemirror_mode": {
    "name": "ipython",
    "version": 3
   },
   "file_extension": ".py",
   "mimetype": "text/x-python",
   "name": "python",
   "nbconvert_exporter": "python",
   "pygments_lexer": "ipython3",
   "version": "3.7.9"
  }
 },
 "nbformat": 4,
 "nbformat_minor": 5
}
