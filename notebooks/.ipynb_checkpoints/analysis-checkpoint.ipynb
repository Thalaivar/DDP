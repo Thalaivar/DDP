{
 "cells": [
  {
   "cell_type": "code",
   "execution_count": 1,
   "id": "blocked-kruger",
   "metadata": {},
   "outputs": [
    {
     "name": "stderr",
     "output_type": "stream",
     "text": [
      "/Users/dhruvlaad/anaconda3/lib/python3.7/site-packages/ray/autoscaler/_private/cli_logger.py:61: FutureWarning: Not all Ray CLI dependencies were found. In Ray 1.4+, the Ray CLI, autoscaler, and dashboard will only be usable via `pip install 'ray[default]'`. Please update your install command.\n",
      "  \"update your install command.\", FutureWarning)\n"
     ]
    }
   ],
   "source": [
    "import sys\n",
    "sys.path.insert(0, \"/Users/dhruvlaad/IIT/DDP/DDP/B-SOID/\")\n",
    "\n",
    "import joblib\n",
    "import numba\n",
    "\n",
    "from BSOID.analysis import *\n",
    "from BSOID.utils import *\n",
    "\n",
    "from scipy.stats import *\n",
    "from itertools import combinations"
   ]
  },
  {
   "cell_type": "code",
   "execution_count": 2,
   "id": "former-relations",
   "metadata": {},
   "outputs": [],
   "source": [
    "LABEL_INFO_FILE = \"/Users/dhruvlaad/IIT/DDP/data/finals/label_info.sav\"\n",
    "MAX_LABEL = 61"
   ]
  },
  {
   "cell_type": "markdown",
   "id": "sitting-sussex",
   "metadata": {},
   "source": [
    "👉 Utility Functions"
   ]
  },
  {
   "cell_type": "code",
   "execution_count": 6,
   "id": "illegal-audit",
   "metadata": {},
   "outputs": [],
   "source": [
    "def load_label_info():\n",
    "    with open(LABEL_INFO_FILE, \"rb\") as f:\n",
    "        label_info = joblib.load(f)\n",
    "    return label_info\n",
    "\n",
    "def get_transition_matrix(strain=None, exclude_strains=None):\n",
    "    if strain is None:\n",
    "        strain_tmats = transition_matrix_across_strains(load_label_info(), MAX_LABEL)\n",
    "        if exclude_strains is not None:\n",
    "            for strain in exclude_strains:\n",
    "                del strain_tmats[strain]\n",
    "    else:\n",
    "        strain_tmats = {strain: [{\"tmat\": transition_matrix(d[\"labels\"], MAX_LABEL)} for d in load_label_info()[strain]]}\n",
    "\n",
    "    tmats = []\n",
    "    for _, data in strain_tmats.items():\n",
    "        tmats.extend([d[\"tmat\"] for d in data])\n",
    "    \n",
    "    return np.array(tmats)\n",
    "\n",
    "def get_usage(strain=None, exclude_strains=None):\n",
    "    if strain is None:\n",
    "        strain_usage = proportion_usage_across_strains(load_label_info(), MAX_LABEL)\n",
    "        if exclude_strains is not None:\n",
    "            for strain in exclude_strains:\n",
    "                del strain_usage[strain]\n",
    "    else:\n",
    "        strain_usage = {strain: [{\"prop\": proportion_usage(d[\"labels\"], MAX_LABEL)} for d in load_label_info()[strain] ]}\n",
    "\n",
    "    usage = []\n",
    "    for _, data in strain_usage.items():\n",
    "        usage.extend([d[\"prop\"] for d in data])\n",
    "    \n",
    "    return np.vstack(usage)"
   ]
  },
  {
   "cell_type": "markdown",
   "id": "adjacent-hudson",
   "metadata": {},
   "source": [
    "👉 Entropy Rate"
   ]
  },
  {
   "cell_type": "code",
   "execution_count": 104,
   "id": "shaped-gather",
   "metadata": {},
   "outputs": [],
   "source": [
    "def entropy_rate_for_transition_matrix(tmat, prop):\n",
    "    e = np.zeros_like(tmat)\n",
    "    for i in range(tmat.shape[0]):\n",
    "        for j in range(tmat.shape[0]):\n",
    "            if tmat[i,j] > 0:\n",
    "                e[i,j] = prop[i] * tmat[i,j] * np.log2(tmat[i,j])\n",
    "            else:\n",
    "                e[i,j] = 0\n",
    "    return -e.sum(), -e[~np.identity(MAX_LABEL, dtype=bool)].sum()\n",
    "\n",
    "def bootstrap_entropy_rate_for_transition_matrix(ns, n, strain=None):\n",
    "    all_tmats = get_transition_matrix(strain)\n",
    "    all_props = get_usage(strain)\n",
    "    \n",
    "    e = []\n",
    "    for i in range(n):\n",
    "        idx = np.random.choice(all_tmats.shape[0], ns, replace=True)\n",
    "        tmat = np.mean(all_tmats[idx], axis=0)\n",
    "        prop = np.mean(all_props[idx], axis=0)\n",
    "        e.append(entropy_rate_for_transition_matrix(tmat, prop))\n",
    "    \n",
    "    return np.array(e)\n",
    "\n",
    "def random_transition_matrix():\n",
    "    Wij = np.random.rand(MAX_LABEL, MAX_LABEL)    \n",
    "    Wij = 0.5 * (tmat + tmat.T)\n",
    "    \n",
    "    Pij = Wij.copy()\n",
    "    for i in range(tmat.shape[0]):\n",
    "        if Pij[i].sum() > 0:\n",
    "            Pij[i] /= Pij[i].sum()\n",
    "    \n",
    "    W = 0.0\n",
    "    for i in range(tmat.shape[0]):\n",
    "        for j in range(i):\n",
    "            W += Wij[i,j]\n",
    "    \n",
    "    prop = Wij.sum(axis=1) / (2 * W)\n",
    "    return Pij, prop\n",
    "\n",
    "def random_transition_matrix_entropy_rate(n):\n",
    "    e = []\n",
    "    for _ in range(n):\n",
    "        tmat, prop = random_transition_matrix()\n",
    "        e.append(entropy_rate_for_transition_matrix(tmat, prop)[0])\n",
    "    return np.array(e)"
   ]
  },
  {
   "cell_type": "code",
   "execution_count": 105,
   "id": "e6dc16fe",
   "metadata": {},
   "outputs": [],
   "source": [
    "rand_entropy = random_transition_matrix_entropy_rate(n=500).mean()"
   ]
  },
  {
   "cell_type": "code",
   "execution_count": 101,
   "id": "f5a1e149",
   "metadata": {},
   "outputs": [],
   "source": [
    "e = bootstrap_entropy_rate_for_transition_matrix(ns=15, n=500)"
   ]
  },
  {
   "cell_type": "code",
   "execution_count": 103,
   "id": "3b95f27c",
   "metadata": {},
   "outputs": [
    {
     "data": {
      "text/plain": [
       "(array([1.18053223, 0.95722393]), array([0.04555994, 0.03611717]))"
      ]
     },
     "execution_count": 103,
     "metadata": {},
     "output_type": "execute_result"
    }
   ],
   "source": [
    "e.mean(axis=0), e.std(axis=0)"
   ]
  },
  {
   "cell_type": "markdown",
   "id": "98c0ece0",
   "metadata": {},
   "source": [
    "# Average Mutual Info"
   ]
  },
  {
   "cell_type": "code",
   "execution_count": 107,
   "id": "8558521e",
   "metadata": {},
   "outputs": [],
   "source": [
    "def average_mutual_info(tmat, prop):\n",
    "    e = 0.0\n",
    "    for i in range(tmat.shape[0]):\n",
    "        for j in range(tmat.shape[0]):\n",
    "            if tmat[i,j] > 0:\n",
    "                e += prop[i] * tmat[i,j] * np.log2(tmat[i,j])\n",
    "        \n",
    "        if prop[i] > 0:\n",
    "            e += prop[i] * np.log2(prop[i])\n",
    "    return -e\n",
    "\n",
    "def bootstrap_transmat_average_mi(n, ns, strain=None):\n",
    "    all_tmats = get_transition_matrix(strain)\n",
    "    all_props = get_usage(strain)\n",
    "    \n",
    "    e = []\n",
    "    for i in range(n):\n",
    "        idx = np.random.choice(all_tmats.shape[0], ns, replace=True)\n",
    "        tmat = np.mean(all_tmats[idx], axis=0)\n",
    "        prop = np.mean(all_props[idx], axis=0)\n",
    "        e.append(average_mutual_info(tmat, prop))\n",
    "    \n",
    "    return np.array(e)"
   ]
  },
  {
   "cell_type": "code",
   "execution_count": 109,
   "id": "256085ad",
   "metadata": {},
   "outputs": [],
   "source": [
    "mi = bootstrap_transmat_average_mi(n=15, ns=500)"
   ]
  },
  {
   "cell_type": "code",
   "execution_count": 112,
   "id": "878654fc",
   "metadata": {},
   "outputs": [
    {
     "data": {
      "text/plain": [
       "(6.684466194531515, 0.013683464685626274)"
      ]
     },
     "execution_count": 112,
     "metadata": {},
     "output_type": "execute_result"
    }
   ],
   "source": [
    "(mi.mean(), mi.std())"
   ]
  },
  {
   "cell_type": "markdown",
   "id": "therapeutic-parliament",
   "metadata": {},
   "source": [
    "# Max deviation from mean usage"
   ]
  },
  {
   "cell_type": "code",
   "execution_count": 69,
   "id": "structured-dryer",
   "metadata": {},
   "outputs": [],
   "source": [
    "mprop, sprop = get_usage(), get_usage(strain=\"MOLF/EiJ\")\n",
    "max_diff = np.argmax(np.abs(mprop.mean(axis=0) - sprop.mean(axis=0)))\n",
    "mvals, svals = mprop[:,max_diff], sprop[:,max_diff]"
   ]
  },
  {
   "cell_type": "code",
   "execution_count": 71,
   "id": "buried-communist",
   "metadata": {},
   "outputs": [
    {
     "data": {
      "text/plain": [
       "Ttest_indResult(statistic=-2.4808277322073713, pvalue=0.042155197984776654)"
      ]
     },
     "execution_count": 71,
     "metadata": {},
     "output_type": "execute_result"
    }
   ],
   "source": [
    "ttest_ind(mvals, svals, nan_policy=\"raise\", equal_var=False)"
   ]
  },
  {
   "cell_type": "code",
   "execution_count": 72,
   "id": "grave-approval",
   "metadata": {},
   "outputs": [
    {
     "data": {
      "text/plain": [
       "-3.1663972810279293"
      ]
     },
     "execution_count": 72,
     "metadata": {},
     "output_type": "execute_result"
    }
   ],
   "source": [
    "np.log(0.042155197984776654)"
   ]
  },
  {
   "cell_type": "markdown",
   "id": "proud-orlando",
   "metadata": {},
   "source": [
    "# Difference in strains"
   ]
  },
  {
   "cell_type": "code",
   "execution_count": 92,
   "id": "aggressive-speaker",
   "metadata": {},
   "outputs": [],
   "source": [
    "props = proportion_usage_across_strains(load_label_info(), MAX_LABEL)\n",
    "for strain, prop in props.items():\n",
    "    props[strain] = np.median(np.vstack([d[\"prop\"] for d in prop]), axis=0)\n",
    "\n",
    "max_diff = 0.0\n",
    "for strain1, strain2 in combinations(list(props.keys()), 2):\n",
    "    prop1, prop2 = props[strain1], props[strain2]\n",
    "    prop1[prop1 == 0.0] = 1e-6\n",
    "    prop2[prop2 == 0.0] = 1e-6\n",
    "    kl = entropy(prop1, prop2, base=2)\n",
    "    if kl > max_diff:\n",
    "        max_diff = kl\n",
    "        max_diff_pair = (strain1, strain2)"
   ]
  },
  {
   "cell_type": "markdown",
   "id": "superb-chancellor",
   "metadata": {},
   "source": [
    "# Group Strains"
   ]
  },
  {
   "cell_type": "code",
   "execution_count": 94,
   "id": "sealed-circumstances",
   "metadata": {},
   "outputs": [],
   "source": [
    "import numba\n",
    "import umap"
   ]
  },
  {
   "cell_type": "code",
   "execution_count": 95,
   "id": "sunrise-spell",
   "metadata": {},
   "outputs": [],
   "source": [
    "@numba.njit(fastmath=True)\n",
    "def symmetric_kl(x, y, z=1e-11):  # pragma: no cover\n",
    "    \"\"\"\n",
    "    symmetrized KL divergence between two probability distributions\n",
    "    ..math::\n",
    "        D(x, y) = \\frac{D_{KL}\\left(x \\Vert y\\right) + D_{KL}\\left(y \\Vert x\\right)}{2}\n",
    "    \"\"\"\n",
    "    n = x.shape[0]\n",
    "    x_sum = 0.0\n",
    "    y_sum = 0.0\n",
    "    kl1 = 0.0\n",
    "    kl2 = 0.0\n",
    "\n",
    "    for i in range(n):\n",
    "        x[i] += z\n",
    "        x_sum += x[i]\n",
    "        y[i] += z\n",
    "        y_sum += y[i]\n",
    "\n",
    "    for i in range(n):\n",
    "        x[i] /= x_sum\n",
    "        y[i] /= y_sum\n",
    "\n",
    "    for i in range(n):\n",
    "        kl1 += x[i] * np.log(x[i] / y[i])\n",
    "        kl2 += y[i] * np.log(y[i] / x[i])\n",
    "\n",
    "    return (kl1 + kl2) / 2"
   ]
  },
  {
   "cell_type": "code",
   "execution_count": 97,
   "id": "supreme-supply",
   "metadata": {},
   "outputs": [],
   "source": [
    "label_info = load_label_info()\n",
    "idx2strain = {i: strain for i, strain in enumerate(list(label_info.keys()))}\n",
    "\n",
    "props = proportion_usage_across_strains(label_info, MAX_LABEL)\n",
    "for strain, prop in props.items():\n",
    "    props[strain] = np.median(np.vstack([d[\"prop\"] for d in prop]), axis=0)\n",
    "    \n",
    "n = len(idx2strain)\n",
    "M = np.zeros((n, n))\n",
    "for i, j in combinations(range(n), 2):\n",
    "    M[i,j] = M[j,i] = symmetric_kl(props[idx2strain[i]], props[idx2strain[j]])"
   ]
  },
  {
   "cell_type": "code",
   "execution_count": 99,
   "id": "turkish-taiwan",
   "metadata": {},
   "outputs": [
    {
     "name": "stderr",
     "output_type": "stream",
     "text": [
      "/Users/dhruvlaad/anaconda3/envs/ddp/lib/python3.7/site-packages/umap/umap_.py:1737: UserWarning: using precomputed metric; transform will be unavailable for new data and inverse_transform will be unavailable for all data\n",
      "  \"using precomputed metric; transform will be unavailable for new data and inverse_transform \"\n"
     ]
    }
   ],
   "source": [
    "embedding = umap.UMAP(n_components=2, min_dist=0.0, n_neighbors=5, metric=\"precomputed\").fit_transform(M)"
   ]
  },
  {
   "cell_type": "code",
   "execution_count": 100,
   "id": "separate-thailand",
   "metadata": {},
   "outputs": [
    {
     "data": {
      "image/png": "[encoded data removed]",
      "text/plain": [
       "<Figure size 432x288 with 1 Axes>"
      ]
     },
     "metadata": {
      "needs_background": "light"
     },
     "output_type": "display_data"
    }
   ],
   "source": [
    "plt.scatter(embedding[:,0], embedding[:,1], s=5)\n",
    "plt.show()"
   ]
  },
  {
   "cell_type": "markdown",
   "id": "10775b9a",
   "metadata": {},
   "source": [
    "# Average node degree"
   ]
  },
  {
   "cell_type": "code",
   "execution_count": 72,
   "id": "f6d3426d",
   "metadata": {},
   "outputs": [],
   "source": [
    "def average_node_degree(thresh=0.01):\n",
    "    tmat_all = get_transition_matrix()\n",
    "    \n",
    "    degs = []\n",
    "    for _ in range(500):\n",
    "        tmat = np.mean(tmat_all[np.random.choice(tmat_all.shape[0], 15, replace=True)], axis=0)\n",
    "        for i in range(tmat.shape[0]):\n",
    "            if tmat[i].sum() > 0:\n",
    "                tmat[i] /= tmat[i].sum()            \n",
    "        degs.append(np.array(np.array([np.where(tmat[i] > thresh)[0].size for i in range(tmat.shape[0])])).mean())\n",
    "    return np.array(degs)"
   ]
  },
  {
   "cell_type": "code",
   "execution_count": 76,
   "id": "8d7ec5f5",
   "metadata": {},
   "outputs": [
    {
     "data": {
      "text/plain": [
       "(3.6262295081967215, 0.1459292661263468)"
      ]
     },
     "execution_count": 76,
     "metadata": {},
     "output_type": "execute_result"
    }
   ],
   "source": [
    "degs = average_node_degree(tmat_all, thresh=0.02)\n",
    "degs.mean(), degs.std()"
   ]
  },
  {
   "cell_type": "code",
   "execution_count": null,
   "id": "665f5aa2",
   "metadata": {},
   "outputs": [],
   "source": [
    "def stats_df(label_info, motif2group, max_label, min_bout_len, fps):\n",
    "    stats = bout_stats_for_all_strains(label_info, max_label, min_bout_len, fps)\n",
    "    \n",
    "    stats"
   ]
  }
 ],
 "metadata": {
  "kernelspec": {
   "display_name": "Python 3",
   "language": "python",
   "name": "python3"
  },
  "language_info": {
   "codemirror_mode": {
    "name": "ipython",
    "version": 3
   },
   "file_extension": ".py",
   "mimetype": "text/x-python",
   "name": "python",
   "nbconvert_exporter": "python",
   "pygments_lexer": "ipython3",
   "version": "3.7.10"
  }
 },
 "nbformat": 4,
 "nbformat_minor": 5
}
