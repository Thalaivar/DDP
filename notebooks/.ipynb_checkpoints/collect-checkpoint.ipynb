{
 "cells": [
  {
   "cell_type": "code",
   "execution_count": 1,
   "id": "f7bcb78c",
   "metadata": {},
   "outputs": [],
   "source": [
    "%config Completer.use_jedi = False"
   ]
  },
  {
   "cell_type": "code",
   "execution_count": 2,
   "id": "a177cfae",
   "metadata": {},
   "outputs": [
    {
     "name": "stderr",
     "output_type": "stream",
     "text": [
      "/home/laadd/anaconda3/envs/bsoid/lib/python3.7/site-packages/ray/autoscaler/_private/cli_logger.py:61: FutureWarning: Not all Ray CLI dependencies were found. In Ray 1.4+, the Ray CLI, autoscaler, and dashboard will only be usable via `pip install 'ray[default]'`. Please update your install command.\n",
      "  \"update your install command.\", FutureWarning)\n"
     ]
    }
   ],
   "source": [
    "import logging\n",
    "logging.basicConfig(level=logging.INFO)\n",
    "\n",
    "import sys\n",
    "sys.path.insert(0, \"/home/laadd/DDP/B-SOID/\")\n",
    "\n",
    "import seaborn as sns\n",
    "from BSOID.bsoid import *\n",
    "from scipy.cluster.hierarchy import *\n",
    "from scipy.spatial.distance import squareform"
   ]
  },
  {
   "cell_type": "code",
   "execution_count": 3,
   "id": "2bc0ea31",
   "metadata": {
    "scrolled": true
   },
   "outputs": [],
   "source": [
    "from BSOID.similarity import *\n",
    "def estimate_similarity_between_clusters(templates, labels, points_per_class=600):\n",
    "    classes, counts = np.unique(labels, return_counts=True)\n",
    "    \n",
    "    X, labels = find_templates(labels, templates, num_points=points_per_class * (classes.max() + 1))\n",
    "    \n",
    "    clusters = []\n",
    "    for lab in np.unique(labels):\n",
    "        clusters.append(X[np.where(labels == lab)[0]])\n",
    "    \n",
    "    def par_sim(i, j, clusters):\n",
    "        with warnings.catch_warnings():\n",
    "            warnings.simplefilter(\"ignore\")\n",
    "            sim = density_separation_similarity(clusters[i], clusters[j], metric=\"euclidean\")\n",
    "            \n",
    "        return [sim, i, j]\n",
    "    \n",
    "    nclasses = len(clusters)\n",
    "    sim = np.array([par_sim(i, j, clusters) for i, j in combinations(range(nclasses), 2)])\n",
    "    \n",
    "    sim_mat = np.zeros((nclasses, nclasses))\n",
    "    for i in range(sim.shape[0]):\n",
    "        c1, c2 = sim[i, 1:].astype(int)\n",
    "        sim_mat[c1, c2] = sim[i,0]\n",
    "        sim_mat[c2, c1] = sim[i,0]\n",
    "        \n",
    "    return sim_mat\n",
    "# sim = estimate_similarity_between_clusters(points_per_class=600)        "
   ]
  },
  {
   "cell_type": "code",
   "execution_count": 4,
   "id": "838942bf",
   "metadata": {
    "scrolled": true
   },
   "outputs": [],
   "source": [
    "def plot(x, **kwargs):\n",
    "    if 's' not in kwargs:\n",
    "        s = 1\n",
    "    plt.scatter(x[:,0], x[:,1], **kwargs)"
   ]
  },
  {
   "cell_type": "code",
   "execution_count": 23,
   "id": "c3ffaff7",
   "metadata": {},
   "outputs": [],
   "source": [
    "def get_cophenetic_mat(labels):\n",
    "    mat = np.zeros((labels.size, labels.size), dtype=np.int64)\n",
    "    for i, j in combinations(range(labels.size), 2):\n",
    "        mat[i,j] = mat[j,i] = int(labels[i] == labels[j])\n",
    "    \n",
    "    mat += np.identity(labels.size, dtype=np.int64)\n",
    "    return mat\n",
    "\n",
    "def generate_evidence_accumulation_matrix(nruns=200):\n",
    "    bsoid = BSOID(\"../config/config.yaml\")\n",
    "    templates, _ = bsoid.load_pooled_dataset()\n",
    "    \n",
    "    os.environ[\"NUMBA_NUM_THREADS\"] = \"1\"\n",
    "    \n",
    "    with open(\"/home/laadd/data/models/max_label.model\", \"rb\") as f:\n",
    "        model = joblib.load(f)\n",
    "    \n",
    "    clustering = model.predict(templates).flatten()\n",
    "    \n",
    "    os.environ[\"PYTHONPATH\"] = \"/home/laadd/DDP/B-SOID/:\" + os.environ.get(\"PYTHONPATH\", \"\")\n",
    "    os.environ[\"PYTHONPATH\"] = \"/home/laadd/DDP/B-SOID/BSOID:\" + os.environ.get(\"PYTHONPATH\", \"\")\n",
    "    os.environ[\"PYTHONPATH\"] = \"/home/laadd/DDP/B-SOID/stability:\" + os.environ.get(\"PYTHONPATH\", \"\")\n",
    "    \n",
    "    num_cpus = psutil.cpu_count(logical=False)\n",
    "    ray.init(num_cpus=num_cpus)\n",
    "    @ray.remote\n",
    "    def get_labels(data):\n",
    "        templates, clustering = data\n",
    "        sim_mat = estimate_similarity_between_clusters(templates, clustering, points_per_class=600)\n",
    "        with warnings.catch_warnings():\n",
    "            warnings.simplefilter(\"ignore\")\n",
    "            embedding = umap.UMAP(metric=\"precomputed\", min_dist=0.0, n_neighbors=2).fit_transform(sim_mat)\n",
    "        labels = cluster_with_hdbscan(embedding, verbose=False, min_samples=1, prediction_data=True, cluster_range=[3, 5, 5], core_dist_n_jobs=1)[2]\n",
    "        return labels\n",
    "    \n",
    "    data_id = ray.put([templates, clustering])\n",
    "    futures = [get_labels.remote(data_id) for _ in range(nruns)]\n",
    "    pbar, results = tqdm(total=len(futures)), []\n",
    "    while len(futures) > 0:\n",
    "        n = len(futures) if len(futures) < num_cpus else num_cpus\n",
    "        fin, rest = ray.wait(futures, num_returns=n)\n",
    "        results.extend(ray.get(fin))\n",
    "        futures = rest\n",
    "        pbar.update(n)\n",
    "\n",
    "    ray.shutdown()\n",
    "    pbar.close()\n",
    "    \n",
    "    n_clusters = clustering.max() + 1\n",
    "    ea_mat = np.zeros((n_clusters, n_clusters), dtype=np.int64)\n",
    "    for lab in labels:\n",
    "        ea_mat += get_cophenetic_mat(lab)\n",
    "    \n",
    "    return ea_mat.astype(np.float64) / nruns \n",
    "# embedding = umap.UMAP(metric=\"precomputed\", min_dist=0.0, n_neighbors=2).fit_transform(sim)\n",
    "# labels = cluster_with_hdbscan(embedding, verbose=True, min_samples=1, prediction_data=True, cluster_range=[3, 5, 5])[2]\n",
    "# plot(embedding, c=labels, s=40, cmap=\"Set3\")"
   ]
  },
  {
   "cell_type": "code",
   "execution_count": null,
   "id": "8dba4a4b",
   "metadata": {
    "scrolled": true
   },
   "outputs": [
    {
     "name": "stdout",
     "output_type": "stream",
     "text": [
      "    Run ID       : dis\n",
      " Save Location   : /home/laadd/data/bsoid_data/dis/output\n",
      "      FPS        : 30\n",
      " Min. Confidence : 0.3\n",
      "  Stride Window  : 100ms\n",
      "\n"
     ]
    }
   ],
   "source": [
    "ea_mat = generate_evidence_accumulation_matrix()"
   ]
  },
  {
   "cell_type": "code",
   "execution_count": null,
   "id": "95798afe",
   "metadata": {},
   "outputs": [],
   "source": [
    "def cluster_eac(M):\n",
    "    M = np.abs(M.max() - M)\n",
    "    Z = linkage(M, method=\"single\")"
   ]
  },
  {
   "cell_type": "code",
   "execution_count": 22,
   "id": "4468c185",
   "metadata": {},
   "outputs": [],
   "source": [
    "ray.shutdown()"
   ]
  }
 ],
 "metadata": {
  "kernelspec": {
   "display_name": "Python 3",
   "language": "python",
   "name": "python3"
  },
  "language_info": {
   "codemirror_mode": {
    "name": "ipython",
    "version": 3
   },
   "file_extension": ".py",
   "mimetype": "text/x-python",
   "name": "python",
   "nbconvert_exporter": "python",
   "pygments_lexer": "ipython3",
   "version": "3.7.10"
  }
 },
 "nbformat": 4,
 "nbformat_minor": 5
}
