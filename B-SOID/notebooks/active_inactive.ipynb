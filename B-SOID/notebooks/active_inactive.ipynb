{
 "cells": [
  {
   "cell_type": "code",
   "execution_count": 6,
   "metadata": {},
   "outputs": [],
   "source": [
    "import numpy as np\n",
    "import pandas as pd\n",
    "import joblib\n",
    "import seaborn as sn\n",
    "\n",
    "import sys\n",
    "sys.path.insert(1, '../')\n",
    "\n",
    "import seaborn\n",
    "%matplotlib inline\n",
    "sn.set_theme()"
   ]
  },
  {
   "cell_type": "code",
   "execution_count": 2,
   "metadata": {},
   "outputs": [],
   "source": [
    "with open('D:/IIT/DDP/data/output/filtered_data.sav', 'rb') as f:\n",
    "    filtered_data = joblib.load(f)"
   ]
  },
  {
   "cell_type": "markdown",
   "metadata": {},
   "source": [
    "# extract displacement features"
   ]
  },
  {
   "cell_type": "code",
   "execution_count": 7,
   "metadata": {},
   "outputs": [],
   "source": [
    "fps = 30\n",
    "temporal_dims = None\n",
    "temporal_window = None\n",
    "stride_window = 3"
   ]
  },
  {
   "cell_type": "code",
   "execution_count": null,
   "metadata": {},
   "outputs": [],
   "source": [
    "from BSOID.features.displacement_feats import *\n",
    "from tqdm import tqdm\n",
    "\n",
    "feats = []\n",
    "for i in tqdm(range(len(filtered_data))):\n",
    "    feats.append(extract_feats(filtered_data[i], fps))\n",
    "feats = window_extracted_feats(feats, stride_window, temporal_window, temporal_dims)\n",
    "\n",
    "with open('D:/IIT/DDP/data/output/displacement_feats.sav', 'wb') as f:\n",
    "    joblib.dump(feats, f)"
   ]
  },
  {
   "cell_type": "markdown",
   "metadata": {},
   "source": [
    "# check distribution of velocity"
   ]
  },
  {
   "cell_type": "code",
   "execution_count": 8,
   "metadata": {},
   "outputs": [],
   "source": [
    "with open('D:/IIT/DDP/data/output/displacement_feats.sav', 'rb') as f:\n",
    "    feats = joblib.load(f)\n",
    "feats = np.vstack(feats)"
   ]
  },
  {
   "cell_type": "code",
   "execution_count": 9,
   "metadata": {},
   "outputs": [
    {
     "data": {
      "text/plain": [
       "<matplotlib.axes._subplots.AxesSubplot at 0x131a5ac8e50>"
      ]
     },
     "execution_count": 9,
     "metadata": {},
     "output_type": "execute_result"
    },
    {
     "data": {
      "image/png": "[encoded data removed]",
      "text/plain": [
       "<Figure size 432x288 with 1 Axes>"
      ]
     },
     "metadata": {},
     "output_type": "display_data"
    }
   ],
   "source": [
    "# tail and head displacement\n",
    "head_dis = feats[:,7].reshape(-1,1)\n",
    "tail_dis = feats[:,12:15].mean(axis=1).reshape(-1,1)\n",
    "displacements = np.hstack((head_dis, tail_dis)).mean(axis=1).reshape(-1,1)\n",
    "# displacements = feats[:,7:15].mean(axis=1).reshape(-1,1)\n",
    "bins = np.linspace(displacements.min(), 10, 20)\n",
    "sn.histplot(displacements, bins=bins)"
   ]
  },
  {
   "cell_type": "markdown",
   "metadata": {},
   "source": [
    "# check examples of frames "
   ]
  },
  {
   "cell_type": "code",
   "execution_count": 11,
   "metadata": {},
   "outputs": [],
   "source": [
    "import os\n",
    "from BSOID.preprocessing import likelihood_filter\n",
    "from BSOID.prediction import frameshift_features\n",
    "from BSOID.features.displacement_feats import *\n",
    "from BSOID.utils import collect_all_examples\n",
    "\n",
    "TEST_DIR = 'D:/IIT/DDP/data/test'\n",
    "\n",
    "def dis_crit_feats(feats, dis_thresh):\n",
    "    head_dis = feats[:,7].reshape(-1,1)\n",
    "    tail_dis = feats[:,12:15].mean(axis=1).reshape(-1,1)\n",
    "    displacements = np.hstack((head_dis, tail_dis)).mean(axis=1).reshape(-1,1)\n",
    "    labels = np.array([int(displacements[i] >= dis_thresh) for i in range(displacements.shape[0])])\n",
    "    return labels.flatten()\n",
    "\n",
    "def frameshift_predict(feats, dis_thresh):\n",
    "    labels = []\n",
    "    for f in feats:\n",
    "        labels.append(dis_crit_feats(f, dis_thresh))\n",
    "\n",
    "    for n in range(len(labels)):\n",
    "        labels[n] = labels[n][::-1]\n",
    "    \n",
    "    labels_pad = -1 * np.ones([len(labels), len(max(labels, key=lambda x: len(x)))])\n",
    "    \n",
    "    for n, l in enumerate(labels):\n",
    "        labels_pad[n][0:len(l)] = l\n",
    "        labels_pad[n] = labels_pad[n][::-1]\n",
    "\n",
    "        if n > 0:\n",
    "            labels_pad[n][0:n] = labels_pad[n-1][0:n]\n",
    "    \n",
    "    fs_labels = labels_pad.astype(int)\n",
    "    fs_labels2 = []\n",
    "    for l in range(stride_window):\n",
    "        fs_labels2.append(fs_labels[l])\n",
    "    fs_labels = np.array(fs_labels2).flatten('F')\n",
    "    return fs_labels\n",
    "\n",
    "def label_active_frames(csv_file, video_file, dis_thresh):\n",
    "    output_dir = TEST_DIR + '/' + csv_file.split('/')[-1][:-4]\n",
    "    try:\n",
    "        os.makedirs(output_dir)\n",
    "    except FileExistsError:\n",
    "        pass\n",
    "    \n",
    "    frame_dir = f'{output_dir}/pngs'\n",
    "    extract_frames = True\n",
    "    try:\n",
    "        os.makedirs(frame_dir)\n",
    "    except FileExistsError:\n",
    "        extract_frames = False\n",
    "    \n",
    "    if extract_frames:\n",
    "        print('extracting frames from video {} to dir {}'.format(video_file, frame_dir))\n",
    "        frames_from_video(video_file, frame_dir)\n",
    "    \n",
    "    print('extracting features from {}'.format(csv_file))\n",
    "    \n",
    "    data = pd.read_csv(csv_file, low_memory=False)\n",
    "    data, _ = likelihood_filter(data)\n",
    "\n",
    "    feats = frameshift_features(data, stride_window, fps, extract_feats, window_extracted_feats, temporal_window, temporal_dims)\n",
    "    return frameshift_predict(feats, dis_thresh), frame_dir\n",
    "\n",
    "def create_vids(csv_dir, vid_dir, dis_thresh, bout_length=3, n_examples=10):\n",
    "    csv_files = [csv_dir + '/' + f for f in os.listdir(csv_dir) if f.endswith('.csv')]\n",
    "    video_files = [vid_dir + '/' + f for f in os.listdir(vid_dir) if f.endswith('.avi')]\n",
    "\n",
    "    csv_files.sort()\n",
    "    video_files.sort()\n",
    "    \n",
    "    n_animals = len(csv_files)\n",
    "    print(f'generating {n_examples} examples from {n_animals} videos each with minimum bout length of {1000 * bout_length / fps} ms and displacement threshold: {dis_thresh}')\n",
    "\n",
    "    labels = []\n",
    "    frame_dirs = []\n",
    "    for i in range(n_animals):\n",
    "        label, frame_dir = label_active_frames(csv_files[i], video_files[i], dis_thresh)\n",
    "        labels.append(label)\n",
    "        frame_dirs.append(frame_dir)\n",
    "\n",
    "    output_path = f'{TEST_DIR}/dis_threshold'\n",
    "    try:\n",
    "        os.mkdir(output_path)\n",
    "    except FileExistsError:\n",
    "        print(f'results directory: {output_path} already exists, deleting')\n",
    "        [os.remove(output_path+'/'+f) for f in os.listdir(output_path)]\n",
    "\n",
    "    clip_len = None\n",
    "    if temporal_window is not None:\n",
    "        clip_len = (temporal_window - stride_window) // 2\n",
    "    \n",
    "    print(f'saving threshold videos to {output_path} with label 1 for active frames')\n",
    "    collect_all_examples(labels, frame_dirs, output_path, clip_len, bout_length, n_examples, fps)"
   ]
  },
  {
   "cell_type": "code",
   "execution_count": 14,
   "metadata": {},
   "outputs": [
    {
     "name": "stdout",
     "output_type": "stream",
     "text": [
      "generating 1 examples from 5 videos each with minimum bout length of 100.0 ms and displacement threshold: 1.0\n",
      "extracting features from D:/IIT/DDP/data/test/LL1-4_100012-F-AX1-8-42430-4-S129_pose_est_v2.csv\n",
      "extracting features from D:/IIT/DDP/data/test/LL4-3_B6SJLF1_F_pose_est_v2.csv\n",
      "extracting features from D:/IIT/DDP/data/test/LL4-4_B6N_ControlMale-7-PSY_pose_est_v2.csv\n",
      "extracting features from D:/IIT/DDP/data/test/LL6-2_B6N_Male_S6889224_ep2-BAT_pose_est_v2.csv\n",
      "extracting features from D:/IIT/DDP/data/test/WT001G15N5F100227F-27-PSY_pose_est_v2.csv\n",
      "results directory: D:/IIT/DDP/data/test/dis_threshold already exists, deleting\n",
      "saving threshold videos to D:/IIT/DDP/data/test/dis_threshold with label 1 for active frames\n"
     ]
    }
   ],
   "source": [
    "video_dir = 'D:/IIT/DDP/data/test/videos'\n",
    "csv_dir = 'D:/IIT/DDP/data/test'\n",
    "\n",
    "create_vids(csv_dir, video_dir, dis_thresh=1.0, n_examples=1)"
   ]
  },
  {
   "cell_type": "code",
   "execution_count": null,
   "metadata": {},
   "outputs": [],
   "source": []
  }
 ],
 "metadata": {
  "kernelspec": {
   "display_name": "Python 3",
   "language": "python",
   "name": "python3"
  },
  "language_info": {
   "codemirror_mode": {
    "name": "ipython",
    "version": 3
   },
   "file_extension": ".py",
   "mimetype": "text/x-python",
   "name": "python",
   "nbconvert_exporter": "python",
   "pygments_lexer": "ipython3",
   "version": "3.8.3"
  }
 },
 "nbformat": 4,
 "nbformat_minor": 2
}
