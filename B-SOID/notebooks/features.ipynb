{
 "cells": [
  {
   "cell_type": "code",
   "execution_count": 1,
   "id": "vulnerable-singles",
   "metadata": {},
   "outputs": [
    {
     "name": "stderr",
     "output_type": "stream",
     "text": [
      "D:\\Applications\\anaconda3\\envs\\ddp\\lib\\site-packages\\behavelet\\morlet.py:26: UserWarning: CuPy was not found, so GPU functionality is unavailable. See https://github.com/cupy/cupy#installation for installation instructions\n",
      "  warnings.warn('CuPy was not found, so GPU functionality is unavailable. '\n"
     ]
    }
   ],
   "source": [
    "import logging\n",
    "logging.basicConfig(level=logging.INFO)\n",
    "\n",
    "import sys\n",
    "sys.path.insert(0, \"D:/IIT/DDP/DDP/B-SOID/\")\n",
    "import random\n",
    "import numpy as np\n",
    "import seaborn as sns \n",
    "\n",
    "from BSOID.bsoid import *\n",
    "from BSOID.preprocessing import *\n",
    "from BSOID.features import *\n",
    "from behavelet import wavelet_transform"
   ]
  },
  {
   "cell_type": "code",
   "execution_count": 2,
   "id": "detailed-syria",
   "metadata": {},
   "outputs": [],
   "source": [
    "%matplotlib notebook\n",
    "def plot(X, **kwargs):\n",
    "    plt.scatter(X[:,0], X[:,1], **kwargs)\n",
    "    plt.show()"
   ]
  },
  {
   "cell_type": "markdown",
   "id": "compact-brain",
   "metadata": {},
   "source": [
    "# Embedding for Visualization"
   ]
  },
  {
   "cell_type": "code",
   "execution_count": null,
   "id": "usual-female",
   "metadata": {},
   "outputs": [],
   "source": [
    "def extract_feats(filtered_data, fps, stride_window):\n",
    "    x_raw, y_raw = filtered_data['x'], filtered_data['y']\n",
    "    assert x_raw.shape == y_raw.shape\n",
    "    N, n_dpoints = x_raw.shape\n",
    "\n",
    "#     win_len = np.int(np.round(0.05 / (1 / fps)) * 2 - 1) if stride_window  is None else stride_window // 2\n",
    "    win_len = 3\n",
    "    x, y = np.zeros_like(x_raw), np.zeros_like(y_raw)\n",
    "    for i in range(n_dpoints):\n",
    "        x[:,i] = smoothen_data(x_raw[:,i], win_len)\n",
    "        y[:,i] = smoothen_data(y_raw[:,i], win_len)\n",
    "    \n",
    "#     disp = np.linalg.norm(np.array([x[1:,:] - x[0:N-1,:], y[1:,:] - y[0:N-1,:]]), axis=0)\n",
    "    links = [np.array([x[:,i] - x[:,j], y[:,i] - y[:,j]]).T for i, j in combinations(range(n_dpoints), 2)]\n",
    "    link_lens = np.vstack([np.linalg.norm(link, axis=1) for link in links]).T\n",
    "    link_angles = np.vstack([np.arctan2(link[:,1], link[:,0]) for i, link in enumerate(links)]).T\n",
    "    \n",
    "    if stride_window > 1:\n",
    "        link_lens = windowed_feats(link_lens, stride_window, mode=\"mean\")\n",
    "        link_angles = windowed_feats(link_angles, stride_window, mode=\"sum\")\n",
    "#         disp = windowed_feats(disp, stride_window, mode=\"sum\")\n",
    "\n",
    "    return np.hstack((link_angles, link_lens))\n",
    "\n",
    "def subsample(data, num_points):\n",
    "    N = data.shape[0]\n",
    "    skipLength = np.floor(N / num_points).astype(int)\n",
    "    if skipLength == 0:\n",
    "        skipLength = 1\n",
    "        numPoints = N\n",
    "    firstFrame = N % num_points\n",
    "    data = data[firstFrame:int(firstFrame + (num_points) * skipLength): skipLength]\n",
    "    return data\n",
    "\n",
    "def strided_subsample(data, stride_window):\n",
    "    N = data.shape[0]\n",
    "    data = data[0:-1:stride_window]\n",
    "    return data"
   ]
  },
  {
   "cell_type": "code",
   "execution_count": 3,
   "id": "applied-screening",
   "metadata": {},
   "outputs": [
    {
     "name": "stdout",
     "output_type": "stream",
     "text": [
      "    Run ID       : dis\n",
      " Save Location   : D:/IIT/DDP/data\\dis/output\n",
      "      FPS        : 30\n",
      " Min. Confidence : 0.3\n",
      "  Stride Window  : 333ms\n",
      "\n"
     ]
    },
    {
     "data": {
      "text/plain": [
       "(179990, 56)"
      ]
     },
     "execution_count": 3,
     "metadata": {},
     "output_type": "execute_result"
    }
   ],
   "source": [
    "bsoid = BSOID(\"../config/config.yaml\")\n",
    "fdata = bsoid.load_filtered_data()\n",
    "# fdata = fdata[random.sample(list(fdata.keys()), 1)[0]]\n",
    "fdata = fdata[\"C57BL/6NJ\"]\n",
    "feats = np.vstack(Parallel(n_jobs=-1)(delayed(extract_comb_feats)(data, bsoid.fps, 3) for data in fdata))\n",
    "del fdata\n",
    "feats.shape"
   ]
  },
  {
   "cell_type": "code",
   "execution_count": null,
   "id": "greenhouse-authority",
   "metadata": {},
   "outputs": [],
   "source": [
    "def par_wav_trans(x, numPoints):\n",
    "    x = wavelet_transform(x.reshape(-1,1), n_freqs=25, fmax=15, fmin=0.15, fsample=30)[2]\n",
    "    return strided_subsample(x, numPoints)\n",
    "wav = np.hstack(Parallel(n_jobs=3)(delayed(par_wav_trans)(feats[:,i], 3) for i in range(28, feats.shape[1])))\n",
    "wav.shape"
   ]
  },
  {
   "cell_type": "code",
   "execution_count": null,
   "id": "classified-humanity",
   "metadata": {},
   "outputs": [],
   "source": [
    "from numba import njit\n",
    "@njit(fastmath=True)\n",
    "def KL(x, y):\n",
    "    x, y = x / x.sum(), y / y.sum()\n",
    "    logx, logy = np.log(x), np.log(y)\n",
    "    logx[~np.isfinite(logx)] = 0\n",
    "    logy[~np.isfinite(logy)] = 0\n",
    "    \n",
    "    D = np.sum(x * logx) - np.sum(x * logy)\n",
    "    D /= np.log(2)\n",
    "    return np.square(D)"
   ]
  },
  {
   "cell_type": "code",
   "execution_count": 5,
   "id": "trying-crazy",
   "metadata": {},
   "outputs": [
    {
     "name": "stdout",
     "output_type": "stream",
     "text": [
      "UMAP(dens_frac=0.0, dens_lambda=0.0, min_dist=0.0, n_components=12,\n",
      "     n_neighbors=90, verbose=True)\n",
      "Construct fuzzy simplicial set\n",
      "Wed May 12 23:01:22 2021 Finding Nearest Neighbors\n",
      "Wed May 12 23:01:22 2021 Building RP forest with 26 trees\n",
      "Wed May 12 23:01:23 2021 NN descent for 17 iterations\n",
      "\t 1  /  17\n",
      "\t 2  /  17\n",
      "\t 3  /  17\n",
      "\tStopping threshold met -- exiting after 3 iterations\n",
      "Wed May 12 23:03:16 2021 Finished Nearest Neighbor Search\n",
      "Wed May 12 23:03:21 2021 Construct embedding\n",
      "\tcompleted  0  /  200 epochs\n",
      "\tcompleted  20  /  200 epochs\n",
      "\tcompleted  40  /  200 epochs\n",
      "\tcompleted  60  /  200 epochs\n",
      "\tcompleted  80  /  200 epochs\n",
      "\tcompleted  100  /  200 epochs\n",
      "\tcompleted  120  /  200 epochs\n",
      "\tcompleted  140  /  200 epochs\n",
      "\tcompleted  160  /  200 epochs\n",
      "\tcompleted  180  /  200 epochs\n",
      "Wed May 12 23:06:45 2021 Finished embedding\n"
     ]
    },
    {
     "name": "stderr",
     "output_type": "stream",
     "text": [
      "INFO:root:identified 4 clusters (max is 4) with min_sample_prop=0.4 and entropy_ratio=0.153\n",
      "INFO:root:identified 4 clusters (max is 4) with min_sample_prop=0.5 and entropy_ratio=0.153\n",
      "INFO:root:identified 4 clusters (max is 4) with min_sample_prop=0.6 and entropy_ratio=0.153\n",
      "INFO:root:identified 4 clusters (max is 4) with min_sample_prop=0.7 and entropy_ratio=0.153\n",
      "INFO:root:identified 4 clusters (max is 4) with min_sample_prop=0.8 and entropy_ratio=0.153\n",
      "INFO:root:identified 3 clusters (max is 4) with min_sample_prop=0.9 and entropy_ratio=0.182\n",
      "INFO:root:identified 3 clusters (max is 4) with min_sample_prop=1.0 and entropy_ratio=0.182\n",
      "INFO:root:identified 2 clusters (max is 4) with min_sample_prop=1.1 and entropy_ratio=0.209\n",
      "INFO:root:identified 2 clusters (max is 4) with min_sample_prop=1.2 and entropy_ratio=0.209\n"
     ]
    }
   ],
   "source": [
    "# from openT\n",
    "umap_params = {\"n_neighbors\": 90, \"min_dist\": 0.0, \"metric\": \"euclidean\", \"verbose\": True}\n",
    "embed = umap.UMAP(n_components=12, **umap_params).fit_transform(StandardScaler().fit_transform(feats[:,:28]))\n",
    "assignments, _, soft_assignments, _ = cluster_with_hdbscan(embed[~np.isnan(embed).any(axis=1)], [0.4, 1.2, 9], bsoid.hdbscan_params)"
   ]
  },
  {
   "cell_type": "code",
   "execution_count": null,
   "id": "exact-clerk",
   "metadata": {
    "scrolled": true
   },
   "outputs": [],
   "source": [
    "vis_embed = umap.UMAP(n_components=2, **umap_params).fit_transform(StandardScaler().fit_transform(feats))\n",
    "plot(vis_embed[~np.isnan(embed).any(axis=1)], c=soft_assignments, s=0.1)"
   ]
  },
  {
   "cell_type": "code",
   "execution_count": null,
   "id": "statewide-sullivan",
   "metadata": {},
   "outputs": [],
   "source": []
  }
 ],
 "metadata": {
  "kernelspec": {
   "display_name": "Python 3",
   "language": "python",
   "name": "python3"
  },
  "language_info": {
   "codemirror_mode": {
    "name": "ipython",
    "version": 3
   },
   "file_extension": ".py",
   "mimetype": "text/x-python",
   "name": "python",
   "nbconvert_exporter": "python",
   "pygments_lexer": "ipython3",
   "version": "3.7.9"
  }
 },
 "nbformat": 4,
 "nbformat_minor": 5
}
