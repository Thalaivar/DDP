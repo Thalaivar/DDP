{
 "cells": [
  {
   "cell_type": "code",
   "execution_count": 1,
   "metadata": {},
   "outputs": [],
   "source": [
    "import numpy as np\n",
    "import pandas as pd\n",
    "import joblib\n",
    "import seaborn as sn\n",
    "\n",
    "import sys\n",
    "sys.path.insert(1, '../')\n",
    "\n",
    "import seaborn\n",
    "%matplotlib inline\n",
    "sn.set_theme()"
   ]
  },
  {
   "cell_type": "code",
   "execution_count": 3,
   "metadata": {},
   "outputs": [],
   "source": [
    "with open('D:/IIT/DDP/data/output/filtered_data.sav', 'rb') as f:\n",
    "    filtered_data = joblib.load(f)"
   ]
  },
  {
   "cell_type": "markdown",
   "metadata": {},
   "source": [
    "# extract displacement features"
   ]
  },
  {
   "cell_type": "code",
   "execution_count": 4,
   "metadata": {},
   "outputs": [],
   "source": [
    "fps = 30\n",
    "temporal_dims = None\n",
    "temporal_window = None\n",
    "stride_window = 3"
   ]
  },
  {
   "cell_type": "code",
   "execution_count": null,
   "metadata": {},
   "outputs": [],
   "source": [
    "from BSOID.features.displacement_feats import *\n",
    "from tqdm import tqdm\n",
    "\n",
    "feats = []\n",
    "for i in tqdm(range(len(filtered_data))):\n",
    "    feats.append(extract_feats(filtered_data[i], fps))\n",
    "feats = window_extracted_feats(feats, stride_window, temporal_window, temporal_dims)\n",
    "\n",
    "with open('D:/IIT/DDP/data/output/displacement_feats.sav', 'wb') as f:\n",
    "    joblib.dump(feats, f)"
   ]
  },
  {
   "cell_type": "markdown",
   "metadata": {},
   "source": [
    "# check distribution of velocity"
   ]
  },
  {
   "cell_type": "code",
   "execution_count": 15,
   "metadata": {},
   "outputs": [],
   "source": [
    "with open('D:/IIT/DDP/data/output/displacement_feats.sav', 'rb') as f:\n",
    "    feats = joblib.load(f)\n",
    "feats = np.vstack(feats)"
   ]
  },
  {
   "cell_type": "code",
   "execution_count": 17,
   "metadata": {},
   "outputs": [
    {
     "data": {
      "text/plain": [
       "<matplotlib.axes._subplots.AxesSubplot at 0x206375357c0>"
      ]
     },
     "execution_count": 17,
     "metadata": {},
     "output_type": "execute_result"
    },
    {
     "data": {
      "image/png": "[encoded data removed]",
      "text/plain": [
       "<Figure size 432x288 with 1 Axes>"
      ]
     },
     "metadata": {},
     "output_type": "display_data"
    }
   ],
   "source": [
    "displacements = feats[:,7:15].mean(axis=1).reshape(-1,1)\n",
    "bins = np.linspace(displacements.min(), 10, 20)\n",
    "sn.histplot(displacements, bins=bins)"
   ]
  },
  {
   "cell_type": "markdown",
   "metadata": {},
   "source": [
    "# check examples of frames "
   ]
  },
  {
   "cell_type": "code",
   "execution_count": 18,
   "metadata": {},
   "outputs": [],
   "source": [
    "import os\n",
    "from BSOID.preprocessing import likelihood_filter\n",
    "from BSOID.utils import create_vids"
   ]
  },
  {
   "cell_type": "code",
   "execution_count": 127,
   "metadata": {},
   "outputs": [],
   "source": [
    "dis_threshold = 0.5\n",
    "th_threshold = 0.25"
   ]
  },
  {
   "cell_type": "code",
   "execution_count": 130,
   "metadata": {},
   "outputs": [],
   "source": [
    "def get_thresholded_labels(csv_file):\n",
    "    data,_ = likelihood_filter(pd.read_csv(csv_file))\n",
    "    pred_feats = extract_feats(data, fps)\n",
    "    fs_feats = []\n",
    "    for s in range(stride_window):\n",
    "        fs_feats.append(pred_feats[s:,:])\n",
    "    fs_feats = window_extracted_feats(fs_feats, stride_window, temporal_window, temporal_dims)\n",
    "    fs_labels = []\n",
    "    for f in fs_feats:\n",
    "        curr_dis = f[:,8:15].mean(axis=1)\n",
    "        active_idx = np.where(curr_dis > dis_threshold)[0]\n",
    "        labels = np.zeros_like(curr_dis)\n",
    "        labels[active_idx] = 1\n",
    "        fs_labels.append(labels)\n",
    "\n",
    "    labels = fs_labels\n",
    "    for n in range(len(labels)):\n",
    "        labels[n] = labels[n][::-1]\n",
    "\n",
    "    labels_pad = -1 * np.ones([len(labels), len(max(labels, key=lambda x: len(x)))])\n",
    "\n",
    "    for n, l in enumerate(labels):\n",
    "        labels_pad[n][0:len(l)] = l\n",
    "        labels_pad[n] = labels_pad[n][::-1]\n",
    "\n",
    "        if n > 0:\n",
    "            labels_pad[n][0:n] = labels_pad[n-1][0:n]\n",
    "\n",
    "    fs_labels = labels_pad.astype(int)\n",
    "    fs_labels2 = []\n",
    "    for l in range(stride_window):\n",
    "        fs_labels2.append(fs_labels[l])\n",
    "    fs_labels = np.array(fs_labels2).flatten('F')\n",
    "    \n",
    "    return fs_labels"
   ]
  },
  {
   "cell_type": "code",
   "execution_count": 129,
   "metadata": {},
   "outputs": [],
   "source": [
    "csv_file = '../../data/test/LL1-4_100012-F-AX1-8-42430-4-S129_pose_est_v2.csv'\n",
    "fs_labels = get_thresholded_labels(csv_file)\n",
    "output_path = '../../data/'\n",
    "frame_dir = '../../data/test/LL1-4_100012-F-AX1-8-42430-4-S129_pose_est_v2/pngs/'\n",
    "create_vids(fs_labels, frame_dir, output_path, None, 3, 5, 30)"
   ]
  },
  {
   "cell_type": "code",
   "execution_count": null,
   "metadata": {},
   "outputs": [],
   "source": []
  }
 ],
 "metadata": {
  "kernelspec": {
   "display_name": "Python 3",
   "language": "python",
   "name": "python3"
  },
  "language_info": {
   "codemirror_mode": {
    "name": "ipython",
    "version": 3
   },
   "file_extension": ".py",
   "mimetype": "text/x-python",
   "name": "python",
   "nbconvert_exporter": "python",
   "pygments_lexer": "ipython3",
   "version": "3.8.3"
  }
 },
 "nbformat": 4,
 "nbformat_minor": 2
}
