{
 "cells": [
  {
   "cell_type": "code",
   "execution_count": 2,
   "id": "major-florence",
   "metadata": {},
   "outputs": [],
   "source": [
    "import sys\n",
    "import random\n",
    "sys.path.insert(0, \"D:/IIT/DDP/DDP/B-SOID\")\n",
    "\n",
    "import pandas as pd\n",
    "import matplotlib.pyplot as plt\n",
    "\n",
    "from new_clustering import *\n",
    "from joblib import Parallel, delayed"
   ]
  },
  {
   "source": [
    "# Checking classification accuracies for each strain\n",
    "---"
   ],
   "cell_type": "markdown",
   "metadata": {}
  },
  {
   "cell_type": "code",
   "execution_count": null,
   "metadata": {},
   "outputs": [],
   "source": [
    "clf = RandomForestClassifier(n_jobs=-1)\n",
    "def train_strainwise(strain, plot_dist=False):\n",
    "    X, X_embed, lab = feats[strain], embeddings[strain], labels[strain]\n",
    "    \n",
    "    if plot_dist:\n",
    "        _, counts = np.unique(lab, return_counts=True)\n",
    "        plt.bar(range(len(counts)), counts)\n",
    "        plt.show()\n",
    "\n",
    "    model = clone(clf)\n",
    "    scores = cross_validate(model, X, lab)\n",
    "    return scores[\"test_score\"]"
   ]
  },
  {
   "cell_type": "code",
   "execution_count": null,
   "metadata": {},
   "outputs": [],
   "source": [
    "strain_clf_scores = {strains[i]: train_strainwise(strains[i]) for i in tqdm(range(len(strains)))}"
   ]
  },
  {
   "cell_type": "code",
   "execution_count": null,
   "metadata": {},
   "outputs": [],
   "source": [
    "df = {\"strain\": [], \"score\": []}\n",
    "for strain, scores in strain_clf_scores.items():\n",
    "    for score in scores:\n",
    "        df[\"strain\"].append(strain)\n",
    "        df[\"score\"].append(score)\n",
    "df = pd.DataFrame.from_dict(df)\n",
    "\n",
    "import seaborn as sns\n",
    "fig = plt.figure(figsize=(12,9))\n",
    "sns.boxplot(x=\"strain\", y=\"score\", data=df)\n",
    "plt.xticks(rotation=90)\n",
    "plt.show()"
   ]
  },
  {
   "source": [
    "# Use PCA for strainwise clustering"
   ],
   "cell_type": "markdown",
   "metadata": {}
  },
  {
   "cell_type": "code",
   "execution_count": null,
   "metadata": {},
   "outputs": [],
   "source": [
    "from BSOID.bsoid import BSOID\n",
    "from sklearn.decomposition import PCA\n",
    "\n",
    "bsoid = BSOID(\"../config/config.yaml\")\n",
    "feats = collect_strainwise_feats(bsoid.load_features(collect=False))"
   ]
  },
  {
   "cell_type": "code",
   "execution_count": null,
   "metadata": {},
   "outputs": [],
   "source": [
    "feats = collect_strainwise_feats(feats)\n",
    "pca = PCA().fit(StandardScaler().fit_transform(np.vstack([d for _, d in feats.items()])))\n",
    "print(f\"Number of dimensions to retain 90\\% of variance: {np.where(np.cumsum(pca.explained_variance_ratio_) >= 0.9)[0][0] + 1}\")"
   ]
  },
  {
   "cell_type": "code",
   "execution_count": null,
   "metadata": {},
   "outputs": [],
   "source": [
    "strainwise_pca = PCA(n_components=12).fit(StandardScaler().fit_transform(np.vstack([data for _, data in feats.items()])))"
   ]
  },
  {
   "cell_type": "code",
   "execution_count": null,
   "metadata": {},
   "outputs": [],
   "source": [
    "# import logging\n",
    "# logging.basicConfig(level=logging.INFO)\n",
    "\n",
    "# print(f\"Processing {len(feats)} strains...\")\n",
    "# embedding, labels, pbar = {}, {}, tqdm(total=len(feats))\n",
    "# for strain, data in feats.items():\n",
    "#     logging.info(f\"running for strain: {strain}\")\n",
    "#     embedding[strain] = strainwise_pca.transform(data)\n",
    "#     labels[strain] = cluster_with_hdbscan(embedding[strain], STRAINWISE_CLUSTER_RNG, HDBSCAN_PARAMS)[2]\n",
    "#     pbar.update(1)\n",
    "\n",
    "def cluster_strainwise(strain, data):\n",
    "    embedding = strainwise_pca.transform(data)\n",
    "    labels = cluster_with_hdbscan(embedding, STRAINWISE_CLUSTER_RNG, {\"prediction_data\": True, \"min_samples\": 1, \"core_dist_n_jobs\": 1})\n",
    "    return embedding, labels, strain\n",
    "\n",
    "strains = list(feats.keys())\n",
    "strainwise_clustering = Parallel(n_jobs=4)(delayed(cluster_strainwise)(strains[i], feats[strains[i]]) for i in tqdm(range(len(strains))))"
   ]
  },
  {
   "source": [
    "# Check grouping"
   ],
   "cell_type": "markdown",
   "metadata": {}
  },
  {
   "cell_type": "code",
   "execution_count": 22,
   "metadata": {},
   "outputs": [
    {
     "output_type": "display_data",
     "data": {
      "text/plain": "<Figure size 432x288 with 1 Axes>",
      "image/svg+xml": "<?xml version=\"1.0\" encoding=\"utf-8\" standalone=\"no\"?>\r\n<!DOCTYPE svg PUBLIC \"-//W3C//DTD SVG 1.1//EN\"\r\n  \"http://www.w3.org/Graphics/SVG/1.1/DTD/svg11.dtd\">\r\n<!-- Created with matplotlib (https://matplotlib.org/) -->\r\n<svg height=\"249.103945pt\" version=\"1.1\" viewBox=\"0 0 375.2875 249.103945\" width=\"375.2875pt\" xmlns=\"http://www.w3.org/2000/svg\" xmlns:xlink=\"http://www.w3.org/1999/xlink\">\r\n <metadata>\r\n  <rdf:RDF xmlns:cc=\"http://creativecommons.org/ns#\" xmlns:dc=\"http://purl.org/dc/elements/1.1/\" xmlns:rdf=\"http://www.w3.org/1999/02/22-rdf-syntax-ns#\">\r\n   <cc:Work>\r\n    <dc:type rdf:resource=\"http://purl.org/dc/dcmitype/StillImage\"/>\r\n    <dc:date>2021-05-03T10:41:48.663666</dc:date>\r\n    <dc:format>image/svg+xml</dc:format>\r\n    <dc:creator>\r\n     <cc:Agent>\r\n      <dc:title>Matplotlib v3.3.4, https://matplotlib.org/</dc:title>\r\n     </cc:Agent>\r\n    </dc:creator>\r\n   </cc:Work>\r\n  </rdf:RDF>\r\n </metadata>\r\n <defs>\r\n  <style type=\"text/css\">*{stroke-linecap:butt;stroke-linejoin:round;}</style>\r\n </defs>\r\n <g id=\"figure_1\">\r\n  <g id=\"patch_1\">\r\n   <path d=\"M 0 249.103945 \r\nL 375.2875 249.103945 \r\nL 375.2875 0 \r\nL 0 0 \r\nz\r\n\" style=\"fill:none;\"/>\r\n  </g>\r\n  <g id=\"axes_1\">\r\n   <g id=\"patch_2\">\r\n    <path d=\"M 33.2875 225.22582 \r\nL 368.0875 225.22582 \r\nL 368.0875 7.78582 \r\nL 33.2875 7.78582 \r\nz\r\n\" style=\"fill:#ffffff;\"/>\r\n   </g>\r\n   <g id=\"patch_3\">\r\n    <path clip-path=\"url(#p271c2ad639)\" d=\"M 48.505682 225.22582 \r\nL 56.411231 225.22582 \r\nL 56.411231 203.80316 \r\nL 48.505682 203.80316 \r\nz\r\n\" style=\"fill:#1f77b4;\"/>\r\n   </g>\r\n   <g id=\"patch_4\">\r\n    <path clip-path=\"url(#p271c2ad639)\" d=\"M 58.387618 225.22582 \r\nL 66.293167 225.22582 \r\nL 66.293167 202.017938 \r\nL 58.387618 202.017938 \r\nz\r\n\" style=\"fill:#1f77b4;\"/>\r\n   </g>\r\n   <g id=\"patch_5\">\r\n    <path clip-path=\"url(#p271c2ad639)\" d=\"M 68.269554 225.22582 \r\nL 76.175103 225.22582 \r\nL 76.175103 200.232716 \r\nL 68.269554 200.232716 \r\nz\r\n\" style=\"fill:#1f77b4;\"/>\r\n   </g>\r\n   <g id=\"patch_6\">\r\n    <path clip-path=\"url(#p271c2ad639)\" d=\"M 78.151491 225.22582 \r\nL 86.05704 225.22582 \r\nL 86.05704 198.447495 \r\nL 78.151491 198.447495 \r\nz\r\n\" style=\"fill:#1f77b4;\"/>\r\n   </g>\r\n   <g id=\"patch_7\">\r\n    <path clip-path=\"url(#p271c2ad639)\" d=\"M 88.033427 225.22582 \r\nL 95.938976 225.22582 \r\nL 95.938976 191.306608 \r\nL 88.033427 191.306608 \r\nz\r\n\" style=\"fill:#1f77b4;\"/>\r\n   </g>\r\n   <g id=\"patch_8\">\r\n    <path clip-path=\"url(#p271c2ad639)\" d=\"M 97.915363 225.22582 \r\nL 105.820912 225.22582 \r\nL 105.820912 189.521386 \r\nL 97.915363 189.521386 \r\nz\r\n\" style=\"fill:#1f77b4;\"/>\r\n   </g>\r\n   <g id=\"patch_9\">\r\n    <path clip-path=\"url(#p271c2ad639)\" d=\"M 107.797299 225.22582 \r\nL 115.702848 225.22582 \r\nL 115.702848 185.950943 \r\nL 107.797299 185.950943 \r\nz\r\n\" style=\"fill:#1f77b4;\"/>\r\n   </g>\r\n   <g id=\"patch_10\">\r\n    <path clip-path=\"url(#p271c2ad639)\" d=\"M 117.679236 225.22582 \r\nL 125.584785 225.22582 \r\nL 125.584785 184.165721 \r\nL 117.679236 184.165721 \r\nz\r\n\" style=\"fill:#1f77b4;\"/>\r\n   </g>\r\n   <g id=\"patch_11\">\r\n    <path clip-path=\"url(#p271c2ad639)\" d=\"M 127.561172 225.22582 \r\nL 135.466721 225.22582 \r\nL 135.466721 180.595278 \r\nL 127.561172 180.595278 \r\nz\r\n\" style=\"fill:#1f77b4;\"/>\r\n   </g>\r\n   <g id=\"patch_12\">\r\n    <path clip-path=\"url(#p271c2ad639)\" d=\"M 137.443108 225.22582 \r\nL 145.348657 225.22582 \r\nL 145.348657 180.595278 \r\nL 137.443108 180.595278 \r\nz\r\n\" style=\"fill:#1f77b4;\"/>\r\n   </g>\r\n   <g id=\"patch_13\">\r\n    <path clip-path=\"url(#p271c2ad639)\" d=\"M 147.325044 225.22582 \r\nL 155.230593 225.22582 \r\nL 155.230593 180.595278 \r\nL 147.325044 180.595278 \r\nz\r\n\" style=\"fill:#1f77b4;\"/>\r\n   </g>\r\n   <g id=\"patch_14\">\r\n    <path clip-path=\"url(#p271c2ad639)\" d=\"M 157.206981 225.22582 \r\nL 165.11253 225.22582 \r\nL 165.11253 180.595278 \r\nL 157.206981 180.595278 \r\nz\r\n\" style=\"fill:#1f77b4;\"/>\r\n   </g>\r\n   <g id=\"patch_15\">\r\n    <path clip-path=\"url(#p271c2ad639)\" d=\"M 167.088917 225.22582 \r\nL 174.994466 225.22582 \r\nL 174.994466 178.810056 \r\nL 167.088917 178.810056 \r\nz\r\n\" style=\"fill:#1f77b4;\"/>\r\n   </g>\r\n   <g id=\"patch_16\">\r\n    <path clip-path=\"url(#p271c2ad639)\" d=\"M 176.970853 225.22582 \r\nL 184.876402 225.22582 \r\nL 184.876402 178.810056 \r\nL 176.970853 178.810056 \r\nz\r\n\" style=\"fill:#1f77b4;\"/>\r\n   </g>\r\n   <g id=\"patch_17\">\r\n    <path clip-path=\"url(#p271c2ad639)\" d=\"M 186.852789 225.22582 \r\nL 194.758338 225.22582 \r\nL 194.758338 177.024835 \r\nL 186.852789 177.024835 \r\nz\r\n\" style=\"fill:#1f77b4;\"/>\r\n   </g>\r\n   <g id=\"patch_18\">\r\n    <path clip-path=\"url(#p271c2ad639)\" d=\"M 196.734726 225.22582 \r\nL 204.640274 225.22582 \r\nL 204.640274 177.024835 \r\nL 196.734726 177.024835 \r\nz\r\n\" style=\"fill:#1f77b4;\"/>\r\n   </g>\r\n   <g id=\"patch_19\">\r\n    <path clip-path=\"url(#p271c2ad639)\" d=\"M 206.616662 225.22582 \r\nL 214.522211 225.22582 \r\nL 214.522211 175.239613 \r\nL 206.616662 175.239613 \r\nz\r\n\" style=\"fill:#1f77b4;\"/>\r\n   </g>\r\n   <g id=\"patch_20\">\r\n    <path clip-path=\"url(#p271c2ad639)\" d=\"M 216.498598 225.22582 \r\nL 224.404147 225.22582 \r\nL 224.404147 175.239613 \r\nL 216.498598 175.239613 \r\nz\r\n\" style=\"fill:#1f77b4;\"/>\r\n   </g>\r\n   <g id=\"patch_21\">\r\n    <path clip-path=\"url(#p271c2ad639)\" d=\"M 226.380534 225.22582 \r\nL 234.286083 225.22582 \r\nL 234.286083 175.239613 \r\nL 226.380534 175.239613 \r\nz\r\n\" style=\"fill:#1f77b4;\"/>\r\n   </g>\r\n   <g id=\"patch_22\">\r\n    <path clip-path=\"url(#p271c2ad639)\" d=\"M 236.26247 225.22582 \r\nL 244.168019 225.22582 \r\nL 244.168019 171.669169 \r\nL 236.26247 171.669169 \r\nz\r\n\" style=\"fill:#1f77b4;\"/>\r\n   </g>\r\n   <g id=\"patch_23\">\r\n    <path clip-path=\"url(#p271c2ad639)\" d=\"M 246.144407 225.22582 \r\nL 254.049956 225.22582 \r\nL 254.049956 164.528283 \r\nL 246.144407 164.528283 \r\nz\r\n\" style=\"fill:#1f77b4;\"/>\r\n   </g>\r\n   <g id=\"patch_24\">\r\n    <path clip-path=\"url(#p271c2ad639)\" d=\"M 256.026343 225.22582 \r\nL 263.931892 225.22582 \r\nL 263.931892 162.743061 \r\nL 256.026343 162.743061 \r\nz\r\n\" style=\"fill:#1f77b4;\"/>\r\n   </g>\r\n   <g id=\"patch_25\">\r\n    <path clip-path=\"url(#p271c2ad639)\" d=\"M 265.908279 225.22582 \r\nL 273.813828 225.22582 \r\nL 273.813828 159.172618 \r\nL 265.908279 159.172618 \r\nz\r\n\" style=\"fill:#1f77b4;\"/>\r\n   </g>\r\n   <g id=\"patch_26\">\r\n    <path clip-path=\"url(#p271c2ad639)\" d=\"M 275.790215 225.22582 \r\nL 283.695764 225.22582 \r\nL 283.695764 152.031731 \r\nL 275.790215 152.031731 \r\nz\r\n\" style=\"fill:#1f77b4;\"/>\r\n   </g>\r\n   <g id=\"patch_27\">\r\n    <path clip-path=\"url(#p271c2ad639)\" d=\"M 285.672152 225.22582 \r\nL 293.577701 225.22582 \r\nL 293.577701 150.246509 \r\nL 285.672152 150.246509 \r\nz\r\n\" style=\"fill:#1f77b4;\"/>\r\n   </g>\r\n   <g id=\"patch_28\">\r\n    <path clip-path=\"url(#p271c2ad639)\" d=\"M 295.554088 225.22582 \r\nL 303.459637 225.22582 \r\nL 303.459637 148.461288 \r\nL 295.554088 148.461288 \r\nz\r\n\" style=\"fill:#1f77b4;\"/>\r\n   </g>\r\n   <g id=\"patch_29\">\r\n    <path clip-path=\"url(#p271c2ad639)\" d=\"M 305.436024 225.22582 \r\nL 313.341573 225.22582 \r\nL 313.341573 137.749958 \r\nL 305.436024 137.749958 \r\nz\r\n\" style=\"fill:#1f77b4;\"/>\r\n   </g>\r\n   <g id=\"patch_30\">\r\n    <path clip-path=\"url(#p271c2ad639)\" d=\"M 315.31796 225.22582 \r\nL 323.223509 225.22582 \r\nL 323.223509 132.394293 \r\nL 315.31796 132.394293 \r\nz\r\n\" style=\"fill:#1f77b4;\"/>\r\n   </g>\r\n   <g id=\"patch_31\">\r\n    <path clip-path=\"url(#p271c2ad639)\" d=\"M 325.199897 225.22582 \r\nL 333.105446 225.22582 \r\nL 333.105446 125.253406 \r\nL 325.199897 125.253406 \r\nz\r\n\" style=\"fill:#1f77b4;\"/>\r\n   </g>\r\n   <g id=\"patch_32\">\r\n    <path clip-path=\"url(#p271c2ad639)\" d=\"M 335.081833 225.22582 \r\nL 342.987382 225.22582 \r\nL 342.987382 119.897741 \r\nL 335.081833 119.897741 \r\nz\r\n\" style=\"fill:#1f77b4;\"/>\r\n   </g>\r\n   <g id=\"patch_33\">\r\n    <path clip-path=\"url(#p271c2ad639)\" d=\"M 344.963769 225.22582 \r\nL 352.869318 225.22582 \r\nL 352.869318 18.140105 \r\nL 344.963769 18.140105 \r\nz\r\n\" style=\"fill:#1f77b4;\"/>\r\n   </g>\r\n   <g id=\"matplotlib.axis_1\">\r\n    <g id=\"xtick_1\">\r\n     <g id=\"line2d_1\">\r\n      <defs>\r\n       <path d=\"M 0 0 \r\nL 0 3.5 \r\n\" id=\"m89406c884f\" style=\"stroke:#000000;stroke-width:0.8;\"/>\r\n      </defs>\r\n      <g>\r\n       <use style=\"stroke:#000000;stroke-width:0.8;\" x=\"52.458456\" xlink:href=\"#m89406c884f\" y=\"225.22582\"/>\r\n      </g>\r\n     </g>\r\n     <g id=\"text_1\">\r\n      <!-- 0 -->\r\n      <g transform=\"translate(49.277206 239.824257)scale(0.1 -0.1)\">\r\n       <defs>\r\n        <path d=\"M 31.78125 66.40625 \r\nQ 24.171875 66.40625 20.328125 58.90625 \r\nQ 16.5 51.421875 16.5 36.375 \r\nQ 16.5 21.390625 20.328125 13.890625 \r\nQ 24.171875 6.390625 31.78125 6.390625 \r\nQ 39.453125 6.390625 43.28125 13.890625 \r\nQ 47.125 21.390625 47.125 36.375 \r\nQ 47.125 51.421875 43.28125 58.90625 \r\nQ 39.453125 66.40625 31.78125 66.40625 \r\nz\r\nM 31.78125 74.21875 \r\nQ 44.046875 74.21875 50.515625 64.515625 \r\nQ 56.984375 54.828125 56.984375 36.375 \r\nQ 56.984375 17.96875 50.515625 8.265625 \r\nQ 44.046875 -1.421875 31.78125 -1.421875 \r\nQ 19.53125 -1.421875 13.0625 8.265625 \r\nQ 6.59375 17.96875 6.59375 36.375 \r\nQ 6.59375 54.828125 13.0625 64.515625 \r\nQ 19.53125 74.21875 31.78125 74.21875 \r\nz\r\n\" id=\"DejaVuSans-48\"/>\r\n       </defs>\r\n       <use xlink:href=\"#DejaVuSans-48\"/>\r\n      </g>\r\n     </g>\r\n    </g>\r\n    <g id=\"xtick_2\">\r\n     <g id=\"line2d_2\">\r\n      <g>\r\n       <use style=\"stroke:#000000;stroke-width:0.8;\" x=\"101.868138\" xlink:href=\"#m89406c884f\" y=\"225.22582\"/>\r\n      </g>\r\n     </g>\r\n     <g id=\"text_2\">\r\n      <!-- 5 -->\r\n      <g transform=\"translate(98.686888 239.824257)scale(0.1 -0.1)\">\r\n       <defs>\r\n        <path d=\"M 10.796875 72.90625 \r\nL 49.515625 72.90625 \r\nL 49.515625 64.59375 \r\nL 19.828125 64.59375 \r\nL 19.828125 46.734375 \r\nQ 21.96875 47.46875 24.109375 47.828125 \r\nQ 26.265625 48.1875 28.421875 48.1875 \r\nQ 40.625 48.1875 47.75 41.5 \r\nQ 54.890625 34.8125 54.890625 23.390625 \r\nQ 54.890625 11.625 47.5625 5.09375 \r\nQ 40.234375 -1.421875 26.90625 -1.421875 \r\nQ 22.3125 -1.421875 17.546875 -0.640625 \r\nQ 12.796875 0.140625 7.71875 1.703125 \r\nL 7.71875 11.625 \r\nQ 12.109375 9.234375 16.796875 8.0625 \r\nQ 21.484375 6.890625 26.703125 6.890625 \r\nQ 35.15625 6.890625 40.078125 11.328125 \r\nQ 45.015625 15.765625 45.015625 23.390625 \r\nQ 45.015625 31 40.078125 35.4375 \r\nQ 35.15625 39.890625 26.703125 39.890625 \r\nQ 22.75 39.890625 18.8125 39.015625 \r\nQ 14.890625 38.140625 10.796875 36.28125 \r\nz\r\n\" id=\"DejaVuSans-53\"/>\r\n       </defs>\r\n       <use xlink:href=\"#DejaVuSans-53\"/>\r\n      </g>\r\n     </g>\r\n    </g>\r\n    <g id=\"xtick_3\">\r\n     <g id=\"line2d_3\">\r\n      <g>\r\n       <use style=\"stroke:#000000;stroke-width:0.8;\" x=\"151.277819\" xlink:href=\"#m89406c884f\" y=\"225.22582\"/>\r\n      </g>\r\n     </g>\r\n     <g id=\"text_3\">\r\n      <!-- 10 -->\r\n      <g transform=\"translate(144.915319 239.824257)scale(0.1 -0.1)\">\r\n       <defs>\r\n        <path d=\"M 12.40625 8.296875 \r\nL 28.515625 8.296875 \r\nL 28.515625 63.921875 \r\nL 10.984375 60.40625 \r\nL 10.984375 69.390625 \r\nL 28.421875 72.90625 \r\nL 38.28125 72.90625 \r\nL 38.28125 8.296875 \r\nL 54.390625 8.296875 \r\nL 54.390625 0 \r\nL 12.40625 0 \r\nz\r\n\" id=\"DejaVuSans-49\"/>\r\n       </defs>\r\n       <use xlink:href=\"#DejaVuSans-49\"/>\r\n       <use x=\"63.623047\" xlink:href=\"#DejaVuSans-48\"/>\r\n      </g>\r\n     </g>\r\n    </g>\r\n    <g id=\"xtick_4\">\r\n     <g id=\"line2d_4\">\r\n      <g>\r\n       <use style=\"stroke:#000000;stroke-width:0.8;\" x=\"200.6875\" xlink:href=\"#m89406c884f\" y=\"225.22582\"/>\r\n      </g>\r\n     </g>\r\n     <g id=\"text_4\">\r\n      <!-- 15 -->\r\n      <g transform=\"translate(194.325 239.824257)scale(0.1 -0.1)\">\r\n       <use xlink:href=\"#DejaVuSans-49\"/>\r\n       <use x=\"63.623047\" xlink:href=\"#DejaVuSans-53\"/>\r\n      </g>\r\n     </g>\r\n    </g>\r\n    <g id=\"xtick_5\">\r\n     <g id=\"line2d_5\">\r\n      <g>\r\n       <use style=\"stroke:#000000;stroke-width:0.8;\" x=\"250.097181\" xlink:href=\"#m89406c884f\" y=\"225.22582\"/>\r\n      </g>\r\n     </g>\r\n     <g id=\"text_5\">\r\n      <!-- 20 -->\r\n      <g transform=\"translate(243.734681 239.824257)scale(0.1 -0.1)\">\r\n       <defs>\r\n        <path d=\"M 19.1875 8.296875 \r\nL 53.609375 8.296875 \r\nL 53.609375 0 \r\nL 7.328125 0 \r\nL 7.328125 8.296875 \r\nQ 12.9375 14.109375 22.625 23.890625 \r\nQ 32.328125 33.6875 34.8125 36.53125 \r\nQ 39.546875 41.84375 41.421875 45.53125 \r\nQ 43.3125 49.21875 43.3125 52.78125 \r\nQ 43.3125 58.59375 39.234375 62.25 \r\nQ 35.15625 65.921875 28.609375 65.921875 \r\nQ 23.96875 65.921875 18.8125 64.3125 \r\nQ 13.671875 62.703125 7.8125 59.421875 \r\nL 7.8125 69.390625 \r\nQ 13.765625 71.78125 18.9375 73 \r\nQ 24.125 74.21875 28.421875 74.21875 \r\nQ 39.75 74.21875 46.484375 68.546875 \r\nQ 53.21875 62.890625 53.21875 53.421875 \r\nQ 53.21875 48.921875 51.53125 44.890625 \r\nQ 49.859375 40.875 45.40625 35.40625 \r\nQ 44.1875 33.984375 37.640625 27.21875 \r\nQ 31.109375 20.453125 19.1875 8.296875 \r\nz\r\n\" id=\"DejaVuSans-50\"/>\r\n       </defs>\r\n       <use xlink:href=\"#DejaVuSans-50\"/>\r\n       <use x=\"63.623047\" xlink:href=\"#DejaVuSans-48\"/>\r\n      </g>\r\n     </g>\r\n    </g>\r\n    <g id=\"xtick_6\">\r\n     <g id=\"line2d_6\">\r\n      <g>\r\n       <use style=\"stroke:#000000;stroke-width:0.8;\" x=\"299.506862\" xlink:href=\"#m89406c884f\" y=\"225.22582\"/>\r\n      </g>\r\n     </g>\r\n     <g id=\"text_6\">\r\n      <!-- 25 -->\r\n      <g transform=\"translate(293.144362 239.824257)scale(0.1 -0.1)\">\r\n       <use xlink:href=\"#DejaVuSans-50\"/>\r\n       <use x=\"63.623047\" xlink:href=\"#DejaVuSans-53\"/>\r\n      </g>\r\n     </g>\r\n    </g>\r\n    <g id=\"xtick_7\">\r\n     <g id=\"line2d_7\">\r\n      <g>\r\n       <use style=\"stroke:#000000;stroke-width:0.8;\" x=\"348.916544\" xlink:href=\"#m89406c884f\" y=\"225.22582\"/>\r\n      </g>\r\n     </g>\r\n     <g id=\"text_7\">\r\n      <!-- 30 -->\r\n      <g transform=\"translate(342.554044 239.824257)scale(0.1 -0.1)\">\r\n       <defs>\r\n        <path d=\"M 40.578125 39.3125 \r\nQ 47.65625 37.796875 51.625 33 \r\nQ 55.609375 28.21875 55.609375 21.1875 \r\nQ 55.609375 10.40625 48.1875 4.484375 \r\nQ 40.765625 -1.421875 27.09375 -1.421875 \r\nQ 22.515625 -1.421875 17.65625 -0.515625 \r\nQ 12.796875 0.390625 7.625 2.203125 \r\nL 7.625 11.71875 \r\nQ 11.71875 9.328125 16.59375 8.109375 \r\nQ 21.484375 6.890625 26.8125 6.890625 \r\nQ 36.078125 6.890625 40.9375 10.546875 \r\nQ 45.796875 14.203125 45.796875 21.1875 \r\nQ 45.796875 27.640625 41.28125 31.265625 \r\nQ 36.765625 34.90625 28.71875 34.90625 \r\nL 20.21875 34.90625 \r\nL 20.21875 43.015625 \r\nL 29.109375 43.015625 \r\nQ 36.375 43.015625 40.234375 45.921875 \r\nQ 44.09375 48.828125 44.09375 54.296875 \r\nQ 44.09375 59.90625 40.109375 62.90625 \r\nQ 36.140625 65.921875 28.71875 65.921875 \r\nQ 24.65625 65.921875 20.015625 65.03125 \r\nQ 15.375 64.15625 9.8125 62.3125 \r\nL 9.8125 71.09375 \r\nQ 15.4375 72.65625 20.34375 73.4375 \r\nQ 25.25 74.21875 29.59375 74.21875 \r\nQ 40.828125 74.21875 47.359375 69.109375 \r\nQ 53.90625 64.015625 53.90625 55.328125 \r\nQ 53.90625 49.265625 50.4375 45.09375 \r\nQ 46.96875 40.921875 40.578125 39.3125 \r\nz\r\n\" id=\"DejaVuSans-51\"/>\r\n       </defs>\r\n       <use xlink:href=\"#DejaVuSans-51\"/>\r\n       <use x=\"63.623047\" xlink:href=\"#DejaVuSans-48\"/>\r\n      </g>\r\n     </g>\r\n    </g>\r\n   </g>\r\n   <g id=\"matplotlib.axis_2\">\r\n    <g id=\"ytick_1\">\r\n     <g id=\"line2d_8\">\r\n      <defs>\r\n       <path d=\"M 0 0 \r\nL -3.5 0 \r\n\" id=\"mfaa8cdb29b\" style=\"stroke:#000000;stroke-width:0.8;\"/>\r\n      </defs>\r\n      <g>\r\n       <use style=\"stroke:#000000;stroke-width:0.8;\" x=\"33.2875\" xlink:href=\"#mfaa8cdb29b\" y=\"225.22582\"/>\r\n      </g>\r\n     </g>\r\n     <g id=\"text_8\">\r\n      <!-- 0 -->\r\n      <g transform=\"translate(19.925 229.025038)scale(0.1 -0.1)\">\r\n       <use xlink:href=\"#DejaVuSans-48\"/>\r\n      </g>\r\n     </g>\r\n    </g>\r\n    <g id=\"ytick_2\">\r\n     <g id=\"line2d_9\">\r\n      <g>\r\n       <use style=\"stroke:#000000;stroke-width:0.8;\" x=\"33.2875\" xlink:href=\"#mfaa8cdb29b\" y=\"189.521386\"/>\r\n      </g>\r\n     </g>\r\n     <g id=\"text_9\">\r\n      <!-- 20 -->\r\n      <g transform=\"translate(13.5625 193.320605)scale(0.1 -0.1)\">\r\n       <use xlink:href=\"#DejaVuSans-50\"/>\r\n       <use x=\"63.623047\" xlink:href=\"#DejaVuSans-48\"/>\r\n      </g>\r\n     </g>\r\n    </g>\r\n    <g id=\"ytick_3\">\r\n     <g id=\"line2d_10\">\r\n      <g>\r\n       <use style=\"stroke:#000000;stroke-width:0.8;\" x=\"33.2875\" xlink:href=\"#mfaa8cdb29b\" y=\"153.816953\"/>\r\n      </g>\r\n     </g>\r\n     <g id=\"text_10\">\r\n      <!-- 40 -->\r\n      <g transform=\"translate(13.5625 157.616171)scale(0.1 -0.1)\">\r\n       <defs>\r\n        <path d=\"M 37.796875 64.3125 \r\nL 12.890625 25.390625 \r\nL 37.796875 25.390625 \r\nz\r\nM 35.203125 72.90625 \r\nL 47.609375 72.90625 \r\nL 47.609375 25.390625 \r\nL 58.015625 25.390625 \r\nL 58.015625 17.1875 \r\nL 47.609375 17.1875 \r\nL 47.609375 0 \r\nL 37.796875 0 \r\nL 37.796875 17.1875 \r\nL 4.890625 17.1875 \r\nL 4.890625 26.703125 \r\nz\r\n\" id=\"DejaVuSans-52\"/>\r\n       </defs>\r\n       <use xlink:href=\"#DejaVuSans-52\"/>\r\n       <use x=\"63.623047\" xlink:href=\"#DejaVuSans-48\"/>\r\n      </g>\r\n     </g>\r\n    </g>\r\n    <g id=\"ytick_4\">\r\n     <g id=\"line2d_11\">\r\n      <g>\r\n       <use style=\"stroke:#000000;stroke-width:0.8;\" x=\"33.2875\" xlink:href=\"#mfaa8cdb29b\" y=\"118.112519\"/>\r\n      </g>\r\n     </g>\r\n     <g id=\"text_11\">\r\n      <!-- 60 -->\r\n      <g transform=\"translate(13.5625 121.911738)scale(0.1 -0.1)\">\r\n       <defs>\r\n        <path d=\"M 33.015625 40.375 \r\nQ 26.375 40.375 22.484375 35.828125 \r\nQ 18.609375 31.296875 18.609375 23.390625 \r\nQ 18.609375 15.53125 22.484375 10.953125 \r\nQ 26.375 6.390625 33.015625 6.390625 \r\nQ 39.65625 6.390625 43.53125 10.953125 \r\nQ 47.40625 15.53125 47.40625 23.390625 \r\nQ 47.40625 31.296875 43.53125 35.828125 \r\nQ 39.65625 40.375 33.015625 40.375 \r\nz\r\nM 52.59375 71.296875 \r\nL 52.59375 62.3125 \r\nQ 48.875 64.0625 45.09375 64.984375 \r\nQ 41.3125 65.921875 37.59375 65.921875 \r\nQ 27.828125 65.921875 22.671875 59.328125 \r\nQ 17.53125 52.734375 16.796875 39.40625 \r\nQ 19.671875 43.65625 24.015625 45.921875 \r\nQ 28.375 48.1875 33.59375 48.1875 \r\nQ 44.578125 48.1875 50.953125 41.515625 \r\nQ 57.328125 34.859375 57.328125 23.390625 \r\nQ 57.328125 12.15625 50.6875 5.359375 \r\nQ 44.046875 -1.421875 33.015625 -1.421875 \r\nQ 20.359375 -1.421875 13.671875 8.265625 \r\nQ 6.984375 17.96875 6.984375 36.375 \r\nQ 6.984375 53.65625 15.1875 63.9375 \r\nQ 23.390625 74.21875 37.203125 74.21875 \r\nQ 40.921875 74.21875 44.703125 73.484375 \r\nQ 48.484375 72.75 52.59375 71.296875 \r\nz\r\n\" id=\"DejaVuSans-54\"/>\r\n       </defs>\r\n       <use xlink:href=\"#DejaVuSans-54\"/>\r\n       <use x=\"63.623047\" xlink:href=\"#DejaVuSans-48\"/>\r\n      </g>\r\n     </g>\r\n    </g>\r\n    <g id=\"ytick_5\">\r\n     <g id=\"line2d_12\">\r\n      <g>\r\n       <use style=\"stroke:#000000;stroke-width:0.8;\" x=\"33.2875\" xlink:href=\"#mfaa8cdb29b\" y=\"82.408086\"/>\r\n      </g>\r\n     </g>\r\n     <g id=\"text_12\">\r\n      <!-- 80 -->\r\n      <g transform=\"translate(13.5625 86.207304)scale(0.1 -0.1)\">\r\n       <defs>\r\n        <path d=\"M 31.78125 34.625 \r\nQ 24.75 34.625 20.71875 30.859375 \r\nQ 16.703125 27.09375 16.703125 20.515625 \r\nQ 16.703125 13.921875 20.71875 10.15625 \r\nQ 24.75 6.390625 31.78125 6.390625 \r\nQ 38.8125 6.390625 42.859375 10.171875 \r\nQ 46.921875 13.96875 46.921875 20.515625 \r\nQ 46.921875 27.09375 42.890625 30.859375 \r\nQ 38.875 34.625 31.78125 34.625 \r\nz\r\nM 21.921875 38.8125 \r\nQ 15.578125 40.375 12.03125 44.71875 \r\nQ 8.5 49.078125 8.5 55.328125 \r\nQ 8.5 64.0625 14.71875 69.140625 \r\nQ 20.953125 74.21875 31.78125 74.21875 \r\nQ 42.671875 74.21875 48.875 69.140625 \r\nQ 55.078125 64.0625 55.078125 55.328125 \r\nQ 55.078125 49.078125 51.53125 44.71875 \r\nQ 48 40.375 41.703125 38.8125 \r\nQ 48.828125 37.15625 52.796875 32.3125 \r\nQ 56.78125 27.484375 56.78125 20.515625 \r\nQ 56.78125 9.90625 50.3125 4.234375 \r\nQ 43.84375 -1.421875 31.78125 -1.421875 \r\nQ 19.734375 -1.421875 13.25 4.234375 \r\nQ 6.78125 9.90625 6.78125 20.515625 \r\nQ 6.78125 27.484375 10.78125 32.3125 \r\nQ 14.796875 37.15625 21.921875 38.8125 \r\nz\r\nM 18.3125 54.390625 \r\nQ 18.3125 48.734375 21.84375 45.5625 \r\nQ 25.390625 42.390625 31.78125 42.390625 \r\nQ 38.140625 42.390625 41.71875 45.5625 \r\nQ 45.3125 48.734375 45.3125 54.390625 \r\nQ 45.3125 60.0625 41.71875 63.234375 \r\nQ 38.140625 66.40625 31.78125 66.40625 \r\nQ 25.390625 66.40625 21.84375 63.234375 \r\nQ 18.3125 60.0625 18.3125 54.390625 \r\nz\r\n\" id=\"DejaVuSans-56\"/>\r\n       </defs>\r\n       <use xlink:href=\"#DejaVuSans-56\"/>\r\n       <use x=\"63.623047\" xlink:href=\"#DejaVuSans-48\"/>\r\n      </g>\r\n     </g>\r\n    </g>\r\n    <g id=\"ytick_6\">\r\n     <g id=\"line2d_13\">\r\n      <g>\r\n       <use style=\"stroke:#000000;stroke-width:0.8;\" x=\"33.2875\" xlink:href=\"#mfaa8cdb29b\" y=\"46.703652\"/>\r\n      </g>\r\n     </g>\r\n     <g id=\"text_13\">\r\n      <!-- 100 -->\r\n      <g transform=\"translate(7.2 50.502871)scale(0.1 -0.1)\">\r\n       <use xlink:href=\"#DejaVuSans-49\"/>\r\n       <use x=\"63.623047\" xlink:href=\"#DejaVuSans-48\"/>\r\n       <use x=\"127.246094\" xlink:href=\"#DejaVuSans-48\"/>\r\n      </g>\r\n     </g>\r\n    </g>\r\n    <g id=\"ytick_7\">\r\n     <g id=\"line2d_14\">\r\n      <g>\r\n       <use style=\"stroke:#000000;stroke-width:0.8;\" x=\"33.2875\" xlink:href=\"#mfaa8cdb29b\" y=\"10.999219\"/>\r\n      </g>\r\n     </g>\r\n     <g id=\"text_14\">\r\n      <!-- 120 -->\r\n      <g transform=\"translate(7.2 14.798437)scale(0.1 -0.1)\">\r\n       <use xlink:href=\"#DejaVuSans-49\"/>\r\n       <use x=\"63.623047\" xlink:href=\"#DejaVuSans-50\"/>\r\n       <use x=\"127.246094\" xlink:href=\"#DejaVuSans-48\"/>\r\n      </g>\r\n     </g>\r\n    </g>\r\n   </g>\r\n   <g id=\"patch_34\">\r\n    <path d=\"M 33.2875 225.22582 \r\nL 33.2875 7.78582 \r\n\" style=\"fill:none;stroke:#000000;stroke-linecap:square;stroke-linejoin:miter;stroke-width:0.8;\"/>\r\n   </g>\r\n   <g id=\"patch_35\">\r\n    <path d=\"M 368.0875 225.22582 \r\nL 368.0875 7.78582 \r\n\" style=\"fill:none;stroke:#000000;stroke-linecap:square;stroke-linejoin:miter;stroke-width:0.8;\"/>\r\n   </g>\r\n   <g id=\"patch_36\">\r\n    <path d=\"M 33.2875 225.22582 \r\nL 368.0875 225.22582 \r\n\" style=\"fill:none;stroke:#000000;stroke-linecap:square;stroke-linejoin:miter;stroke-width:0.8;\"/>\r\n   </g>\r\n   <g id=\"patch_37\">\r\n    <path d=\"M 33.2875 7.78582 \r\nL 368.0875 7.78582 \r\n\" style=\"fill:none;stroke:#000000;stroke-linecap:square;stroke-linejoin:miter;stroke-width:0.8;\"/>\r\n   </g>\r\n  </g>\r\n </g>\r\n <defs>\r\n  <clipPath id=\"p271c2ad639\">\r\n   <rect height=\"217.44\" width=\"334.8\" x=\"33.2875\" y=\"7.78582\"/>\r\n  </clipPath>\r\n </defs>\r\n</svg>\r\n",
      "image/png": "[encoded data removed]"
     },
     "metadata": {
      "needs_background": "light"
     }
    }
   ],
   "source": [
    "with open(\"../../../data/2clustering/pairwise_sim.sav\", \"rb\") as f:\n",
    "    sim, strain2clusters = joblib.load(f)\n",
    "# sim[:,0] = (sim[:,0] - sim[:,0].min()) / (sim[:,0].max() - sim[:,0].min())\n",
    "\n",
    "mapper = umap.UMAP(min_dist=0.0, n_components=3, n_neighbors=50).fit(similarity_matrix(sim))\n",
    "_, _, glabels, _ = cluster_with_hdbscan(mapper.embedding_, GROUPWISE_CLUSTER_RNG, HDBSCAN_PARAMS)\n",
    "\n",
    "counts = np.unique(glabels, return_counts=True)[1]\n",
    "plt.bar(range(len(counts)), sorted(counts))\n",
    "plt.show()"
   ]
  },
  {
   "cell_type": "code",
   "execution_count": 23,
   "metadata": {},
   "outputs": [
    {
     "output_type": "execute_result",
     "data": {
      "text/plain": [
       "{'129P3/J': 0.3488372093023256,\n",
       " '129S1/SvlmJ': 0.21428571428571427,\n",
       " '129X1/SvJ': 0.42857142857142855,\n",
       " 'A/J': 0.2857142857142857,\n",
       " 'B6CBAF1/J': 0.2608695652173913,\n",
       " 'BALB/cByJ': 0.36363636363636365,\n",
       " 'BALB/cJ': 0.3,\n",
       " 'C3H/HeJ': 0.4444444444444444,\n",
       " 'C57BL/10SnJ': 0.25,\n",
       " 'C57BL/6J': 0.3333333333333333,\n",
       " 'C57BR/cdJ': 0.4444444444444444,\n",
       " 'CAF1/J': 0.2978723404255319,\n",
       " 'CAST/EiJ': 0.4444444444444444,\n",
       " 'CZECHII/EiJ': 0.2698412698412698,\n",
       " 'DBA/2J': 0.3,\n",
       " 'I/LnJ': 0.41818181818181815,\n",
       " 'LP/J': 0.44680851063829785,\n",
       " 'MOLF/EiJ': 0.4222222222222222,\n",
       " 'NOR/LtJ': 0.21621621621621623,\n",
       " 'NZB/BlNJ': 0.3076923076923077,\n",
       " 'NZBWF1/J': 0.25862068965517243,\n",
       " 'NZW/LacJ': 0.3877551020408163,\n",
       " 'PL/J': 0.39285714285714285,\n",
       " 'PWK/PhJ': 0.10144927536231885,\n",
       " 'WSB/EiJ': 0.1875}"
      ]
     },
     "metadata": {},
     "execution_count": 23
    }
   ],
   "source": [
    "same_grouping_frac = {strain: np.unique(glabels[idx]).size / len(idx) for strain, idx in strain2clusters.items()}\n",
    "same_grouping_frac"
   ]
  },
  {
   "source": [
    "## Exclude similarity values from same strain"
   ],
   "cell_type": "markdown",
   "metadata": {}
  },
  {
   "cell_type": "code",
   "execution_count": 33,
   "metadata": {},
   "outputs": [
    {
     "output_type": "stream",
     "name": "stderr",
     "text": [
      "  0%|          | 0/10 [00:00<?, ?it/s]"
     ]
    }
   ],
   "source": [
    "same_strain_map = {}\n",
    "for strain, idxs in strain2clusters.items():\n",
    "    for idx in idxs:\n",
    "        same_strain_map[idx] = [i for i in idxs if i != idx]\n",
    "\n",
    "retain_idx = []\n",
    "for i in range(sim.shape[0]):\n",
    "    if int(sim[i,2]) not in same_strain_map[int(sim[i,1])]:\n",
    "        retain_idx.append(i)\n",
    "sim_reduced = sim[retain_idx]\n",
    "\n",
    "# determine imputing params for KNN\n",
    "from sklearn.model_selection import train_test_split\n",
    "from sklearn.neighbors import KNeighborsRegressor\n",
    "filler = KNeighborsRegressor(n_neighbors=20, weights=\"distance\", metric=\"hamming\", n_jobs=-1)\n",
    "score = []\n",
    "for _ in tqdm(range(10)):\n",
    "    X_train, X_test, y_train, y_test = train_test_split(sim_reduced[:,1:], sim_reduced[:,0], test_size=0.33, shuffle=True)\n",
    "    filler.fit(X_train, y_train)\n",
    "    from sklearn.metrics import mean_squared_error\n",
    "    score.append(mean_squared_error(y_test, filler.predict(X_test)) / sim_reduced[:,0].std()[0])\n",
    "score = np.array(score)\n",
    "print(f\"\\n{score.mean()} +- {score.std()}\")\n",
    "\n",
    "# 226.99181575707243 +- 290.57049605894315"
   ]
  },
  {
   "cell_type": "code",
   "execution_count": null,
   "metadata": {},
   "outputs": [],
   "source": [
    "same_grouping_frac = {strain: np.unique(glabels[idx]).size / len(idx) for strain, idx in strain2clusters.items()}\n",
    "same_grouping_frac"
   ]
  },
  {
   "source": [
    "# Check similarity between strains"
   ],
   "cell_type": "markdown",
   "metadata": {}
  },
  {
   "cell_type": "code",
   "execution_count": 3,
   "metadata": {},
   "outputs": [],
   "source": [
    "with open(\"../../../data/2clustering/strainwise_labels.sav\", \"rb\") as f:\n",
    "    feats, embeddings, labels = joblib.load(f)\n",
    "clusters, strain2idx = collect_strainwise_clusters(feats, labels, embeddings)\n",
    "del feats, labels, embeddings\n",
    "combs = list(combinations(list(strain2idx.keys()), 2))"
   ]
  },
  {
   "cell_type": "code",
   "execution_count": 17,
   "metadata": {},
   "outputs": [],
   "source": [
    "def cluster_sim(cluster1, cluster2):\n",
    "    X = [cluster1[\"feats\"], cluster2[\"feats\"]]\n",
    "    y = [np.zeros((X[0].shape[0],)), np.ones((X[1].shape[0], ))]\n",
    "    X, y = np.vstack(X), np.hstack(y)\n",
    "\n",
    "    model = LinearDiscriminantAnalysis(solver=\"svd\", store_covariance=True)\n",
    "    model.fit(X, y)\n",
    "    \n",
    "    Xproj = model.transform(X) # np.array([(model.coef_ * X[i]).sum() for i in range(X.shape[0])])\n",
    "\n",
    "    y_preds = (Xproj < 0).astype(int)\n",
    "    \n",
    "    return roc_auc_score(y, y_preds)\n",
    "\n",
    "# different strains\n",
    "bween_strain_sim = []\n",
    "for strain1, strain2 in random.sample(combs, 20):\n",
    "    sim = []\n",
    "    for cluster1 in strain2idx[strain1]:\n",
    "        for cluster2 in strain2idx[strain2]:\n",
    "            sim.append(cluster_sim(clusters[cluster1], clusters[cluster2]))\n",
    "    bween_strain_sim.append(np.array(sim).mean())\n",
    "\n",
    "# same strain\n",
    "wthin_strain_sim = []\n",
    "for strain in random.sample(list(strain2idx.keys()), 20):\n",
    "    sim = [cluster_sim(clusters[i], clusters[j]) for i, j in combinations(strain2idx[strain], 2)]\n",
    "    wthin_strain_sim.append(np.array(sim).mean())\n",
    "\n",
    "bween_strain_sim, wthin_strain_sim = np.array(bween_strain_sim), np.array(wthin_strain_sim)"
   ]
  },
  {
   "cell_type": "code",
   "execution_count": 18,
   "metadata": {},
   "outputs": [
    {
     "output_type": "stream",
     "name": "stdout",
     "text": [
      "0.6915710813231006 0.16547925940309632\n0.7924718278551135 0.06206407572980324\n"
     ]
    }
   ],
   "source": [
    "print(bween_strain_sim.mean(), bween_strain_sim.std())\n",
    "print(wthin_strain_sim.mean(), wthin_strain_sim.std())"
   ]
  },
  {
   "cell_type": "code",
   "execution_count": null,
   "metadata": {},
   "outputs": [],
   "source": []
  }
 ],
 "metadata": {
  "kernelspec": {
   "name": "python379jvsc74a57bd010f0a36fcccf11dc27c1b3d4924eacf190bcd412d5ba97a1496d026088443aae",
   "display_name": "Python 3.7.9 64-bit ('ddp': conda)"
  },
  "language_info": {
   "codemirror_mode": {
    "name": "ipython",
    "version": 3
   },
   "file_extension": ".py",
   "mimetype": "text/x-python",
   "name": "python",
   "nbconvert_exporter": "python",
   "pygments_lexer": "ipython3",
   "version": "3.7.9"
  }
 },
 "nbformat": 4,
 "nbformat_minor": 5
}