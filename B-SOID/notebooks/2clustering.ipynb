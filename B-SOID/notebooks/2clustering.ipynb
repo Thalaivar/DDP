{
 "cells": [
  {
   "cell_type": "code",
   "execution_count": 1,
   "id": "major-florence",
   "metadata": {},
   "outputs": [],
   "source": [
    "import sys\n",
    "import random\n",
    "sys.path.insert(0, \"D:/IIT/DDP/DDP/B-SOID\")\n",
    "\n",
    "import pandas as pd\n",
    "import matplotlib.pyplot as plt\n",
    "\n",
    "from new_clustering import *\n",
    "from joblib import Parallel, delayed"
   ]
  },
  {
   "source": [
    "# Checking classification accuracies for each strain\n",
    "---"
   ],
   "cell_type": "markdown",
   "metadata": {}
  },
  {
   "cell_type": "code",
   "execution_count": null,
   "metadata": {},
   "outputs": [],
   "source": [
    "clf = RandomForestClassifier(n_jobs=-1)\n",
    "def train_strainwise(strain, plot_dist=False):\n",
    "    X, X_embed, lab = feats[strain], embeddings[strain], labels[strain]\n",
    "    \n",
    "    if plot_dist:\n",
    "        _, counts = np.unique(lab, return_counts=True)\n",
    "        plt.bar(range(len(counts)), counts)\n",
    "        plt.show()\n",
    "\n",
    "    model = clone(clf)\n",
    "    scores = cross_validate(model, X, lab)\n",
    "    return scores[\"test_score\"]"
   ]
  },
  {
   "cell_type": "code",
   "execution_count": null,
   "metadata": {},
   "outputs": [],
   "source": [
    "strain_clf_scores = {strains[i]: train_strainwise(strains[i]) for i in tqdm(range(len(strains)))}"
   ]
  },
  {
   "cell_type": "code",
   "execution_count": null,
   "metadata": {},
   "outputs": [],
   "source": [
    "df = {\"strain\": [], \"score\": []}\n",
    "for strain, scores in strain_clf_scores.items():\n",
    "    for score in scores:\n",
    "        df[\"strain\"].append(strain)\n",
    "        df[\"score\"].append(score)\n",
    "df = pd.DataFrame.from_dict(df)\n",
    "\n",
    "import seaborn as sns\n",
    "fig = plt.figure(figsize=(12,9))\n",
    "sns.boxplot(x=\"strain\", y=\"score\", data=df)\n",
    "plt.xticks(rotation=90)\n",
    "plt.show()"
   ]
  },
  {
   "source": [
    "# Use PCA for strainwise clustering"
   ],
   "cell_type": "markdown",
   "metadata": {}
  },
  {
   "cell_type": "code",
   "execution_count": null,
   "metadata": {},
   "outputs": [],
   "source": [
    "from BSOID.bsoid import BSOID\n",
    "from sklearn.decomposition import PCA\n",
    "\n",
    "bsoid = BSOID(\"../config/config.yaml\")\n",
    "feats = collect_strainwise_feats(bsoid.load_features(collect=False))"
   ]
  },
  {
   "cell_type": "code",
   "execution_count": null,
   "metadata": {},
   "outputs": [],
   "source": [
    "feats = collect_strainwise_feats(feats)\n",
    "pca = PCA().fit(StandardScaler().fit_transform(np.vstack([d for _, d in feats.items()])))\n",
    "print(f\"Number of dimensions to retain 90\\% of variance: {np.where(np.cumsum(pca.explained_variance_ratio_) >= 0.9)[0][0] + 1}\")"
   ]
  },
  {
   "cell_type": "code",
   "execution_count": null,
   "metadata": {},
   "outputs": [],
   "source": [
    "strainwise_pca = PCA(n_components=12).fit(StandardScaler().fit_transform(np.vstack([data for _, data in feats.items()])))"
   ]
  },
  {
   "cell_type": "code",
   "execution_count": null,
   "metadata": {},
   "outputs": [],
   "source": [
    "# import logging\n",
    "# logging.basicConfig(level=logging.INFO)\n",
    "\n",
    "# print(f\"Processing {len(feats)} strains...\")\n",
    "# embedding, labels, pbar = {}, {}, tqdm(total=len(feats))\n",
    "# for strain, data in feats.items():\n",
    "#     logging.info(f\"running for strain: {strain}\")\n",
    "#     embedding[strain] = strainwise_pca.transform(data)\n",
    "#     labels[strain] = cluster_with_hdbscan(embedding[strain], STRAINWISE_CLUSTER_RNG, HDBSCAN_PARAMS)[2]\n",
    "#     pbar.update(1)\n",
    "\n",
    "def cluster_strainwise(strain, data):\n",
    "    embedding = strainwise_pca.transform(data)\n",
    "    labels = cluster_with_hdbscan(embedding, STRAINWISE_CLUSTER_RNG, {\"prediction_data\": True, \"min_samples\": 1, \"core_dist_n_jobs\": 1})\n",
    "    return embedding, labels, strain\n",
    "\n",
    "strains = list(feats.keys())\n",
    "strainwise_clustering = Parallel(n_jobs=4)(delayed(cluster_strainwise)(strains[i], feats[strains[i]]) for i in tqdm(range(len(strains))))"
   ]
  },
  {
   "cell_type": "code",
   "execution_count": 7,
   "metadata": {},
   "outputs": [],
   "source": [
    "def similarity_check():\n",
    "    with open(\"../../../data/2clustering/pairwise_sim.sav\", \"rb\") as f:\n",
    "        sim, strain2idx = joblib.load(f)\n",
    "\n",
    "    combs = list(combinations(list(strain2idx.keys()), 2))\n",
    "    # different strains\n",
    "    bween_strain_sim = []\n",
    "    for strain1, strain2 in random.sample(combs, 10):\n",
    "        sim_vals = []\n",
    "        for cluster1 in strain2idx[strain1]:\n",
    "            for cluster2 in strain2idx[strain2]:\n",
    "                idx = np.where((sim[:,1] == cluster1) & (sim[:,2] == cluster2))[0]\n",
    "                if idx.size == 1:\n",
    "                    sim_vals.append(sim[idx[0], 0])\n",
    "                else:\n",
    "                    idx = np.where((sim[:,1] == cluster2) & (sim[:,2] == cluster1))[0]\n",
    "                    sim_vals.append(sim[idx[0], 0])\n",
    "        bween_strain_sim.append(np.array(sim_vals).mean())\n",
    "\n",
    "    # same strain\n",
    "    wthin_strain_sim = []\n",
    "    for strain in random.sample(list(strain2idx.keys()), 10):\n",
    "        sim_vals = []\n",
    "        for i, j in combinations(strain2idx[strain], 2):\n",
    "            idx = np.where((sim[:,1] == i) & (sim[:,2] == j))[0]\n",
    "            if idx.size == 1:\n",
    "                sim_vals.append(sim[idx[0], 0])\n",
    "            else:\n",
    "                idx = np.where((sim[:,1] == j) & (sim[:,2] == i))[0]\n",
    "                sim_vals.append(sim[idx[0], 0])\n",
    "        wthin_strain_sim.append(np.array(sim_vals).mean())\n",
    "\n",
    "    bween_strain_sim, wthin_strain_sim = np.array(bween_strain_sim), np.array(wthin_strain_sim)\n",
    "    return bween_strain_sim, wthin_strain_sim\n",
    "bween, wthin = similarity_check()"
   ]
  },
  {
   "source": [
    "# Check grouping"
   ],
   "cell_type": "markdown",
   "metadata": {}
  },
  {
   "cell_type": "code",
   "execution_count": 2,
   "metadata": {},
   "outputs": [
    {
     "output_type": "display_data",
     "data": {
      "text/plain": "<Figure size 432x288 with 1 Axes>",
      "image/svg+xml": "<?xml version=\"1.0\" encoding=\"utf-8\" standalone=\"no\"?>\r\n<!DOCTYPE svg PUBLIC \"-//W3C//DTD SVG 1.1//EN\"\r\n  \"http://www.w3.org/Graphics/SVG/1.1/DTD/svg11.dtd\">\r\n<!-- Created with matplotlib (https://matplotlib.org/) -->\r\n<svg height=\"248.518125pt\" version=\"1.1\" viewBox=\"0 0 380.839564 248.518125\" width=\"380.839564pt\" xmlns=\"http://www.w3.org/2000/svg\" xmlns:xlink=\"http://www.w3.org/1999/xlink\">\r\n <metadata>\r\n  <rdf:RDF xmlns:cc=\"http://creativecommons.org/ns#\" xmlns:dc=\"http://purl.org/dc/elements/1.1/\" xmlns:rdf=\"http://www.w3.org/1999/02/22-rdf-syntax-ns#\">\r\n   <cc:Work>\r\n    <dc:type rdf:resource=\"http://purl.org/dc/dcmitype/StillImage\"/>\r\n    <dc:date>2021-05-03T13:38:37.957400</dc:date>\r\n    <dc:format>image/svg+xml</dc:format>\r\n    <dc:creator>\r\n     <cc:Agent>\r\n      <dc:title>Matplotlib v3.3.4, https://matplotlib.org/</dc:title>\r\n     </cc:Agent>\r\n    </dc:creator>\r\n   </cc:Work>\r\n  </rdf:RDF>\r\n </metadata>\r\n <defs>\r\n  <style type=\"text/css\">*{stroke-linecap:butt;stroke-linejoin:round;}</style>\r\n </defs>\r\n <g id=\"figure_1\">\r\n  <g id=\"patch_1\">\r\n   <path d=\"M 0 248.518125 \r\nL 380.839564 248.518125 \r\nL 380.839564 0 \r\nL 0 0 \r\nz\r\n\" style=\"fill:none;\"/>\r\n  </g>\r\n  <g id=\"axes_1\">\r\n   <g id=\"patch_2\">\r\n    <path d=\"M 33.2875 224.64 \r\nL 368.0875 224.64 \r\nL 368.0875 7.2 \r\nL 33.2875 7.2 \r\nz\r\n\" style=\"fill:#ffffff;\"/>\r\n   </g>\r\n   <g id=\"patch_3\">\r\n    <path clip-path=\"url(#p8db3a6a56f)\" d=\"M 48.505682 224.64 \r\nL 55.709555 224.64 \r\nL 55.709555 198.754286 \r\nL 48.505682 198.754286 \r\nz\r\n\" style=\"fill:#1f77b4;\"/>\r\n   </g>\r\n   <g id=\"patch_4\">\r\n    <path clip-path=\"url(#p8db3a6a56f)\" d=\"M 57.510523 224.64 \r\nL 64.714396 224.64 \r\nL 64.714396 194.771868 \r\nL 57.510523 194.771868 \r\nz\r\n\" style=\"fill:#1f77b4;\"/>\r\n   </g>\r\n   <g id=\"patch_5\">\r\n    <path clip-path=\"url(#p8db3a6a56f)\" d=\"M 66.515364 224.64 \r\nL 73.719237 224.64 \r\nL 73.719237 190.789451 \r\nL 66.515364 190.789451 \r\nz\r\n\" style=\"fill:#1f77b4;\"/>\r\n   </g>\r\n   <g id=\"patch_6\">\r\n    <path clip-path=\"url(#p8db3a6a56f)\" d=\"M 75.520206 224.64 \r\nL 82.724079 224.64 \r\nL 82.724079 190.789451 \r\nL 75.520206 190.789451 \r\nz\r\n\" style=\"fill:#1f77b4;\"/>\r\n   </g>\r\n   <g id=\"patch_7\">\r\n    <path clip-path=\"url(#p8db3a6a56f)\" d=\"M 84.525047 224.64 \r\nL 91.72892 224.64 \r\nL 91.72892 190.789451 \r\nL 84.525047 190.789451 \r\nz\r\n\" style=\"fill:#1f77b4;\"/>\r\n   </g>\r\n   <g id=\"patch_8\">\r\n    <path clip-path=\"url(#p8db3a6a56f)\" d=\"M 93.529888 224.64 \r\nL 100.733761 224.64 \r\nL 100.733761 190.789451 \r\nL 93.529888 190.789451 \r\nz\r\n\" style=\"fill:#1f77b4;\"/>\r\n   </g>\r\n   <g id=\"patch_9\">\r\n    <path clip-path=\"url(#p8db3a6a56f)\" d=\"M 102.53473 224.64 \r\nL 109.738603 224.64 \r\nL 109.738603 186.807033 \r\nL 102.53473 186.807033 \r\nz\r\n\" style=\"fill:#1f77b4;\"/>\r\n   </g>\r\n   <g id=\"patch_10\">\r\n    <path clip-path=\"url(#p8db3a6a56f)\" d=\"M 111.539571 224.64 \r\nL 118.743444 224.64 \r\nL 118.743444 184.815824 \r\nL 111.539571 184.815824 \r\nz\r\n\" style=\"fill:#1f77b4;\"/>\r\n   </g>\r\n   <g id=\"patch_11\">\r\n    <path clip-path=\"url(#p8db3a6a56f)\" d=\"M 120.544412 224.64 \r\nL 127.748285 224.64 \r\nL 127.748285 182.824615 \r\nL 120.544412 182.824615 \r\nz\r\n\" style=\"fill:#1f77b4;\"/>\r\n   </g>\r\n   <g id=\"patch_12\">\r\n    <path clip-path=\"url(#p8db3a6a56f)\" d=\"M 129.549254 224.64 \r\nL 136.753127 224.64 \r\nL 136.753127 178.842198 \r\nL 129.549254 178.842198 \r\nz\r\n\" style=\"fill:#1f77b4;\"/>\r\n   </g>\r\n   <g id=\"patch_13\">\r\n    <path clip-path=\"url(#p8db3a6a56f)\" d=\"M 138.554095 224.64 \r\nL 145.757968 224.64 \r\nL 145.757968 178.842198 \r\nL 138.554095 178.842198 \r\nz\r\n\" style=\"fill:#1f77b4;\"/>\r\n   </g>\r\n   <g id=\"patch_14\">\r\n    <path clip-path=\"url(#p8db3a6a56f)\" d=\"M 147.558936 224.64 \r\nL 154.762809 224.64 \r\nL 154.762809 176.850989 \r\nL 147.558936 176.850989 \r\nz\r\n\" style=\"fill:#1f77b4;\"/>\r\n   </g>\r\n   <g id=\"patch_15\">\r\n    <path clip-path=\"url(#p8db3a6a56f)\" d=\"M 156.563778 224.64 \r\nL 163.767651 224.64 \r\nL 163.767651 176.850989 \r\nL 156.563778 176.850989 \r\nz\r\n\" style=\"fill:#1f77b4;\"/>\r\n   </g>\r\n   <g id=\"patch_16\">\r\n    <path clip-path=\"url(#p8db3a6a56f)\" d=\"M 165.568619 224.64 \r\nL 172.772492 224.64 \r\nL 172.772492 176.850989 \r\nL 165.568619 176.850989 \r\nz\r\n\" style=\"fill:#1f77b4;\"/>\r\n   </g>\r\n   <g id=\"patch_17\">\r\n    <path clip-path=\"url(#p8db3a6a56f)\" d=\"M 174.57346 224.64 \r\nL 181.777333 224.64 \r\nL 181.777333 176.850989 \r\nL 174.57346 176.850989 \r\nz\r\n\" style=\"fill:#1f77b4;\"/>\r\n   </g>\r\n   <g id=\"patch_18\">\r\n    <path clip-path=\"url(#p8db3a6a56f)\" d=\"M 183.578302 224.64 \r\nL 190.782175 224.64 \r\nL 190.782175 170.877363 \r\nL 183.578302 170.877363 \r\nz\r\n\" style=\"fill:#1f77b4;\"/>\r\n   </g>\r\n   <g id=\"patch_19\">\r\n    <path clip-path=\"url(#p8db3a6a56f)\" d=\"M 192.583143 224.64 \r\nL 199.787016 224.64 \r\nL 199.787016 170.877363 \r\nL 192.583143 170.877363 \r\nz\r\n\" style=\"fill:#1f77b4;\"/>\r\n   </g>\r\n   <g id=\"patch_20\">\r\n    <path clip-path=\"url(#p8db3a6a56f)\" d=\"M 201.587984 224.64 \r\nL 208.791857 224.64 \r\nL 208.791857 168.886154 \r\nL 201.587984 168.886154 \r\nz\r\n\" style=\"fill:#1f77b4;\"/>\r\n   </g>\r\n   <g id=\"patch_21\">\r\n    <path clip-path=\"url(#p8db3a6a56f)\" d=\"M 210.592825 224.64 \r\nL 217.796698 224.64 \r\nL 217.796698 168.886154 \r\nL 210.592825 168.886154 \r\nz\r\n\" style=\"fill:#1f77b4;\"/>\r\n   </g>\r\n   <g id=\"patch_22\">\r\n    <path clip-path=\"url(#p8db3a6a56f)\" d=\"M 219.597667 224.64 \r\nL 226.80154 224.64 \r\nL 226.80154 168.886154 \r\nL 219.597667 168.886154 \r\nz\r\n\" style=\"fill:#1f77b4;\"/>\r\n   </g>\r\n   <g id=\"patch_23\">\r\n    <path clip-path=\"url(#p8db3a6a56f)\" d=\"M 228.602508 224.64 \r\nL 235.806381 224.64 \r\nL 235.806381 166.894945 \r\nL 228.602508 166.894945 \r\nz\r\n\" style=\"fill:#1f77b4;\"/>\r\n   </g>\r\n   <g id=\"patch_24\">\r\n    <path clip-path=\"url(#p8db3a6a56f)\" d=\"M 237.607349 224.64 \r\nL 244.811222 224.64 \r\nL 244.811222 166.894945 \r\nL 237.607349 166.894945 \r\nz\r\n\" style=\"fill:#1f77b4;\"/>\r\n   </g>\r\n   <g id=\"patch_25\">\r\n    <path clip-path=\"url(#p8db3a6a56f)\" d=\"M 246.612191 224.64 \r\nL 253.816064 224.64 \r\nL 253.816064 162.912527 \r\nL 246.612191 162.912527 \r\nz\r\n\" style=\"fill:#1f77b4;\"/>\r\n   </g>\r\n   <g id=\"patch_26\">\r\n    <path clip-path=\"url(#p8db3a6a56f)\" d=\"M 255.617032 224.64 \r\nL 262.820905 224.64 \r\nL 262.820905 160.921319 \r\nL 255.617032 160.921319 \r\nz\r\n\" style=\"fill:#1f77b4;\"/>\r\n   </g>\r\n   <g id=\"patch_27\">\r\n    <path clip-path=\"url(#p8db3a6a56f)\" d=\"M 264.621873 224.64 \r\nL 271.825746 224.64 \r\nL 271.825746 158.93011 \r\nL 264.621873 158.93011 \r\nz\r\n\" style=\"fill:#1f77b4;\"/>\r\n   </g>\r\n   <g id=\"patch_28\">\r\n    <path clip-path=\"url(#p8db3a6a56f)\" d=\"M 273.626715 224.64 \r\nL 280.830588 224.64 \r\nL 280.830588 154.947692 \r\nL 273.626715 154.947692 \r\nz\r\n\" style=\"fill:#1f77b4;\"/>\r\n   </g>\r\n   <g id=\"patch_29\">\r\n    <path clip-path=\"url(#p8db3a6a56f)\" d=\"M 282.631556 224.64 \r\nL 289.835429 224.64 \r\nL 289.835429 154.947692 \r\nL 282.631556 154.947692 \r\nz\r\n\" style=\"fill:#1f77b4;\"/>\r\n   </g>\r\n   <g id=\"patch_30\">\r\n    <path clip-path=\"url(#p8db3a6a56f)\" d=\"M 291.636397 224.64 \r\nL 298.84027 224.64 \r\nL 298.84027 152.956484 \r\nL 291.636397 152.956484 \r\nz\r\n\" style=\"fill:#1f77b4;\"/>\r\n   </g>\r\n   <g id=\"patch_31\">\r\n    <path clip-path=\"url(#p8db3a6a56f)\" d=\"M 300.641239 224.64 \r\nL 307.845112 224.64 \r\nL 307.845112 152.956484 \r\nL 300.641239 152.956484 \r\nz\r\n\" style=\"fill:#1f77b4;\"/>\r\n   </g>\r\n   <g id=\"patch_32\">\r\n    <path clip-path=\"url(#p8db3a6a56f)\" d=\"M 309.64608 224.64 \r\nL 316.849953 224.64 \r\nL 316.849953 148.974066 \r\nL 309.64608 148.974066 \r\nz\r\n\" style=\"fill:#1f77b4;\"/>\r\n   </g>\r\n   <g id=\"patch_33\">\r\n    <path clip-path=\"url(#p8db3a6a56f)\" d=\"M 318.650921 224.64 \r\nL 325.854794 224.64 \r\nL 325.854794 141.009231 \r\nL 318.650921 141.009231 \r\nz\r\n\" style=\"fill:#1f77b4;\"/>\r\n   </g>\r\n   <g id=\"patch_34\">\r\n    <path clip-path=\"url(#p8db3a6a56f)\" d=\"M 327.655763 224.64 \r\nL 334.859636 224.64 \r\nL 334.859636 141.009231 \r\nL 327.655763 141.009231 \r\nz\r\n\" style=\"fill:#1f77b4;\"/>\r\n   </g>\r\n   <g id=\"patch_35\">\r\n    <path clip-path=\"url(#p8db3a6a56f)\" d=\"M 336.660604 224.64 \r\nL 343.864477 224.64 \r\nL 343.864477 97.202637 \r\nL 336.660604 97.202637 \r\nz\r\n\" style=\"fill:#1f77b4;\"/>\r\n   </g>\r\n   <g id=\"patch_36\">\r\n    <path clip-path=\"url(#p8db3a6a56f)\" d=\"M 345.665445 224.64 \r\nL 352.869318 224.64 \r\nL 352.869318 17.554286 \r\nL 345.665445 17.554286 \r\nz\r\n\" style=\"fill:#1f77b4;\"/>\r\n   </g>\r\n   <g id=\"matplotlib.axis_1\">\r\n    <g id=\"xtick_1\">\r\n     <g id=\"line2d_1\">\r\n      <defs>\r\n       <path d=\"M 0 0 \r\nL 0 3.5 \r\n\" id=\"mdc578e25c0\" style=\"stroke:#000000;stroke-width:0.8;\"/>\r\n      </defs>\r\n      <g>\r\n       <use style=\"stroke:#000000;stroke-width:0.8;\" x=\"52.107618\" xlink:href=\"#mdc578e25c0\" y=\"224.64\"/>\r\n      </g>\r\n     </g>\r\n     <g id=\"text_1\">\r\n      <!-- 0 -->\r\n      <g transform=\"translate(48.926368 239.238437)scale(0.1 -0.1)\">\r\n       <defs>\r\n        <path d=\"M 31.78125 66.40625 \r\nQ 24.171875 66.40625 20.328125 58.90625 \r\nQ 16.5 51.421875 16.5 36.375 \r\nQ 16.5 21.390625 20.328125 13.890625 \r\nQ 24.171875 6.390625 31.78125 6.390625 \r\nQ 39.453125 6.390625 43.28125 13.890625 \r\nQ 47.125 21.390625 47.125 36.375 \r\nQ 47.125 51.421875 43.28125 58.90625 \r\nQ 39.453125 66.40625 31.78125 66.40625 \r\nz\r\nM 31.78125 74.21875 \r\nQ 44.046875 74.21875 50.515625 64.515625 \r\nQ 56.984375 54.828125 56.984375 36.375 \r\nQ 56.984375 17.96875 50.515625 8.265625 \r\nQ 44.046875 -1.421875 31.78125 -1.421875 \r\nQ 19.53125 -1.421875 13.0625 8.265625 \r\nQ 6.59375 17.96875 6.59375 36.375 \r\nQ 6.59375 54.828125 13.0625 64.515625 \r\nQ 19.53125 74.21875 31.78125 74.21875 \r\nz\r\n\" id=\"DejaVuSans-48\"/>\r\n       </defs>\r\n       <use xlink:href=\"#DejaVuSans-48\"/>\r\n      </g>\r\n     </g>\r\n    </g>\r\n    <g id=\"xtick_2\">\r\n     <g id=\"line2d_2\">\r\n      <g>\r\n       <use style=\"stroke:#000000;stroke-width:0.8;\" x=\"97.131825\" xlink:href=\"#mdc578e25c0\" y=\"224.64\"/>\r\n      </g>\r\n     </g>\r\n     <g id=\"text_2\">\r\n      <!-- 5 -->\r\n      <g transform=\"translate(93.950575 239.238437)scale(0.1 -0.1)\">\r\n       <defs>\r\n        <path d=\"M 10.796875 72.90625 \r\nL 49.515625 72.90625 \r\nL 49.515625 64.59375 \r\nL 19.828125 64.59375 \r\nL 19.828125 46.734375 \r\nQ 21.96875 47.46875 24.109375 47.828125 \r\nQ 26.265625 48.1875 28.421875 48.1875 \r\nQ 40.625 48.1875 47.75 41.5 \r\nQ 54.890625 34.8125 54.890625 23.390625 \r\nQ 54.890625 11.625 47.5625 5.09375 \r\nQ 40.234375 -1.421875 26.90625 -1.421875 \r\nQ 22.3125 -1.421875 17.546875 -0.640625 \r\nQ 12.796875 0.140625 7.71875 1.703125 \r\nL 7.71875 11.625 \r\nQ 12.109375 9.234375 16.796875 8.0625 \r\nQ 21.484375 6.890625 26.703125 6.890625 \r\nQ 35.15625 6.890625 40.078125 11.328125 \r\nQ 45.015625 15.765625 45.015625 23.390625 \r\nQ 45.015625 31 40.078125 35.4375 \r\nQ 35.15625 39.890625 26.703125 39.890625 \r\nQ 22.75 39.890625 18.8125 39.015625 \r\nQ 14.890625 38.140625 10.796875 36.28125 \r\nz\r\n\" id=\"DejaVuSans-53\"/>\r\n       </defs>\r\n       <use xlink:href=\"#DejaVuSans-53\"/>\r\n      </g>\r\n     </g>\r\n    </g>\r\n    <g id=\"xtick_3\">\r\n     <g id=\"line2d_3\">\r\n      <g>\r\n       <use style=\"stroke:#000000;stroke-width:0.8;\" x=\"142.156031\" xlink:href=\"#mdc578e25c0\" y=\"224.64\"/>\r\n      </g>\r\n     </g>\r\n     <g id=\"text_3\">\r\n      <!-- 10 -->\r\n      <g transform=\"translate(135.793531 239.238437)scale(0.1 -0.1)\">\r\n       <defs>\r\n        <path d=\"M 12.40625 8.296875 \r\nL 28.515625 8.296875 \r\nL 28.515625 63.921875 \r\nL 10.984375 60.40625 \r\nL 10.984375 69.390625 \r\nL 28.421875 72.90625 \r\nL 38.28125 72.90625 \r\nL 38.28125 8.296875 \r\nL 54.390625 8.296875 \r\nL 54.390625 0 \r\nL 12.40625 0 \r\nz\r\n\" id=\"DejaVuSans-49\"/>\r\n       </defs>\r\n       <use xlink:href=\"#DejaVuSans-49\"/>\r\n       <use x=\"63.623047\" xlink:href=\"#DejaVuSans-48\"/>\r\n      </g>\r\n     </g>\r\n    </g>\r\n    <g id=\"xtick_4\">\r\n     <g id=\"line2d_4\">\r\n      <g>\r\n       <use style=\"stroke:#000000;stroke-width:0.8;\" x=\"187.180238\" xlink:href=\"#mdc578e25c0\" y=\"224.64\"/>\r\n      </g>\r\n     </g>\r\n     <g id=\"text_4\">\r\n      <!-- 15 -->\r\n      <g transform=\"translate(180.817738 239.238437)scale(0.1 -0.1)\">\r\n       <use xlink:href=\"#DejaVuSans-49\"/>\r\n       <use x=\"63.623047\" xlink:href=\"#DejaVuSans-53\"/>\r\n      </g>\r\n     </g>\r\n    </g>\r\n    <g id=\"xtick_5\">\r\n     <g id=\"line2d_5\">\r\n      <g>\r\n       <use style=\"stroke:#000000;stroke-width:0.8;\" x=\"232.204445\" xlink:href=\"#mdc578e25c0\" y=\"224.64\"/>\r\n      </g>\r\n     </g>\r\n     <g id=\"text_5\">\r\n      <!-- 20 -->\r\n      <g transform=\"translate(225.841945 239.238437)scale(0.1 -0.1)\">\r\n       <defs>\r\n        <path d=\"M 19.1875 8.296875 \r\nL 53.609375 8.296875 \r\nL 53.609375 0 \r\nL 7.328125 0 \r\nL 7.328125 8.296875 \r\nQ 12.9375 14.109375 22.625 23.890625 \r\nQ 32.328125 33.6875 34.8125 36.53125 \r\nQ 39.546875 41.84375 41.421875 45.53125 \r\nQ 43.3125 49.21875 43.3125 52.78125 \r\nQ 43.3125 58.59375 39.234375 62.25 \r\nQ 35.15625 65.921875 28.609375 65.921875 \r\nQ 23.96875 65.921875 18.8125 64.3125 \r\nQ 13.671875 62.703125 7.8125 59.421875 \r\nL 7.8125 69.390625 \r\nQ 13.765625 71.78125 18.9375 73 \r\nQ 24.125 74.21875 28.421875 74.21875 \r\nQ 39.75 74.21875 46.484375 68.546875 \r\nQ 53.21875 62.890625 53.21875 53.421875 \r\nQ 53.21875 48.921875 51.53125 44.890625 \r\nQ 49.859375 40.875 45.40625 35.40625 \r\nQ 44.1875 33.984375 37.640625 27.21875 \r\nQ 31.109375 20.453125 19.1875 8.296875 \r\nz\r\n\" id=\"DejaVuSans-50\"/>\r\n       </defs>\r\n       <use xlink:href=\"#DejaVuSans-50\"/>\r\n       <use x=\"63.623047\" xlink:href=\"#DejaVuSans-48\"/>\r\n      </g>\r\n     </g>\r\n    </g>\r\n    <g id=\"xtick_6\">\r\n     <g id=\"line2d_6\">\r\n      <g>\r\n       <use style=\"stroke:#000000;stroke-width:0.8;\" x=\"277.228651\" xlink:href=\"#mdc578e25c0\" y=\"224.64\"/>\r\n      </g>\r\n     </g>\r\n     <g id=\"text_6\">\r\n      <!-- 25 -->\r\n      <g transform=\"translate(270.866151 239.238437)scale(0.1 -0.1)\">\r\n       <use xlink:href=\"#DejaVuSans-50\"/>\r\n       <use x=\"63.623047\" xlink:href=\"#DejaVuSans-53\"/>\r\n      </g>\r\n     </g>\r\n    </g>\r\n    <g id=\"xtick_7\">\r\n     <g id=\"line2d_7\">\r\n      <g>\r\n       <use style=\"stroke:#000000;stroke-width:0.8;\" x=\"322.252858\" xlink:href=\"#mdc578e25c0\" y=\"224.64\"/>\r\n      </g>\r\n     </g>\r\n     <g id=\"text_7\">\r\n      <!-- 30 -->\r\n      <g transform=\"translate(315.890358 239.238437)scale(0.1 -0.1)\">\r\n       <defs>\r\n        <path d=\"M 40.578125 39.3125 \r\nQ 47.65625 37.796875 51.625 33 \r\nQ 55.609375 28.21875 55.609375 21.1875 \r\nQ 55.609375 10.40625 48.1875 4.484375 \r\nQ 40.765625 -1.421875 27.09375 -1.421875 \r\nQ 22.515625 -1.421875 17.65625 -0.515625 \r\nQ 12.796875 0.390625 7.625 2.203125 \r\nL 7.625 11.71875 \r\nQ 11.71875 9.328125 16.59375 8.109375 \r\nQ 21.484375 6.890625 26.8125 6.890625 \r\nQ 36.078125 6.890625 40.9375 10.546875 \r\nQ 45.796875 14.203125 45.796875 21.1875 \r\nQ 45.796875 27.640625 41.28125 31.265625 \r\nQ 36.765625 34.90625 28.71875 34.90625 \r\nL 20.21875 34.90625 \r\nL 20.21875 43.015625 \r\nL 29.109375 43.015625 \r\nQ 36.375 43.015625 40.234375 45.921875 \r\nQ 44.09375 48.828125 44.09375 54.296875 \r\nQ 44.09375 59.90625 40.109375 62.90625 \r\nQ 36.140625 65.921875 28.71875 65.921875 \r\nQ 24.65625 65.921875 20.015625 65.03125 \r\nQ 15.375 64.15625 9.8125 62.3125 \r\nL 9.8125 71.09375 \r\nQ 15.4375 72.65625 20.34375 73.4375 \r\nQ 25.25 74.21875 29.59375 74.21875 \r\nQ 40.828125 74.21875 47.359375 69.109375 \r\nQ 53.90625 64.015625 53.90625 55.328125 \r\nQ 53.90625 49.265625 50.4375 45.09375 \r\nQ 46.96875 40.921875 40.578125 39.3125 \r\nz\r\n\" id=\"DejaVuSans-51\"/>\r\n       </defs>\r\n       <use xlink:href=\"#DejaVuSans-51\"/>\r\n       <use x=\"63.623047\" xlink:href=\"#DejaVuSans-48\"/>\r\n      </g>\r\n     </g>\r\n    </g>\r\n    <g id=\"xtick_8\">\r\n     <g id=\"line2d_8\">\r\n      <g>\r\n       <use style=\"stroke:#000000;stroke-width:0.8;\" x=\"367.277064\" xlink:href=\"#mdc578e25c0\" y=\"224.64\"/>\r\n      </g>\r\n     </g>\r\n     <g id=\"text_8\">\r\n      <!-- 35 -->\r\n      <g transform=\"translate(360.914564 239.238437)scale(0.1 -0.1)\">\r\n       <use xlink:href=\"#DejaVuSans-51\"/>\r\n       <use x=\"63.623047\" xlink:href=\"#DejaVuSans-53\"/>\r\n      </g>\r\n     </g>\r\n    </g>\r\n   </g>\r\n   <g id=\"matplotlib.axis_2\">\r\n    <g id=\"ytick_1\">\r\n     <g id=\"line2d_9\">\r\n      <defs>\r\n       <path d=\"M 0 0 \r\nL -3.5 0 \r\n\" id=\"m3b95fea725\" style=\"stroke:#000000;stroke-width:0.8;\"/>\r\n      </defs>\r\n      <g>\r\n       <use style=\"stroke:#000000;stroke-width:0.8;\" x=\"33.2875\" xlink:href=\"#m3b95fea725\" y=\"224.64\"/>\r\n      </g>\r\n     </g>\r\n     <g id=\"text_9\">\r\n      <!-- 0 -->\r\n      <g transform=\"translate(19.925 228.439219)scale(0.1 -0.1)\">\r\n       <use xlink:href=\"#DejaVuSans-48\"/>\r\n      </g>\r\n     </g>\r\n    </g>\r\n    <g id=\"ytick_2\">\r\n     <g id=\"line2d_10\">\r\n      <g>\r\n       <use style=\"stroke:#000000;stroke-width:0.8;\" x=\"33.2875\" xlink:href=\"#m3b95fea725\" y=\"184.815824\"/>\r\n      </g>\r\n     </g>\r\n     <g id=\"text_10\">\r\n      <!-- 20 -->\r\n      <g transform=\"translate(13.5625 188.615043)scale(0.1 -0.1)\">\r\n       <use xlink:href=\"#DejaVuSans-50\"/>\r\n       <use x=\"63.623047\" xlink:href=\"#DejaVuSans-48\"/>\r\n      </g>\r\n     </g>\r\n    </g>\r\n    <g id=\"ytick_3\">\r\n     <g id=\"line2d_11\">\r\n      <g>\r\n       <use style=\"stroke:#000000;stroke-width:0.8;\" x=\"33.2875\" xlink:href=\"#m3b95fea725\" y=\"144.991648\"/>\r\n      </g>\r\n     </g>\r\n     <g id=\"text_11\">\r\n      <!-- 40 -->\r\n      <g transform=\"translate(13.5625 148.790867)scale(0.1 -0.1)\">\r\n       <defs>\r\n        <path d=\"M 37.796875 64.3125 \r\nL 12.890625 25.390625 \r\nL 37.796875 25.390625 \r\nz\r\nM 35.203125 72.90625 \r\nL 47.609375 72.90625 \r\nL 47.609375 25.390625 \r\nL 58.015625 25.390625 \r\nL 58.015625 17.1875 \r\nL 47.609375 17.1875 \r\nL 47.609375 0 \r\nL 37.796875 0 \r\nL 37.796875 17.1875 \r\nL 4.890625 17.1875 \r\nL 4.890625 26.703125 \r\nz\r\n\" id=\"DejaVuSans-52\"/>\r\n       </defs>\r\n       <use xlink:href=\"#DejaVuSans-52\"/>\r\n       <use x=\"63.623047\" xlink:href=\"#DejaVuSans-48\"/>\r\n      </g>\r\n     </g>\r\n    </g>\r\n    <g id=\"ytick_4\">\r\n     <g id=\"line2d_12\">\r\n      <g>\r\n       <use style=\"stroke:#000000;stroke-width:0.8;\" x=\"33.2875\" xlink:href=\"#m3b95fea725\" y=\"105.167473\"/>\r\n      </g>\r\n     </g>\r\n     <g id=\"text_12\">\r\n      <!-- 60 -->\r\n      <g transform=\"translate(13.5625 108.966691)scale(0.1 -0.1)\">\r\n       <defs>\r\n        <path d=\"M 33.015625 40.375 \r\nQ 26.375 40.375 22.484375 35.828125 \r\nQ 18.609375 31.296875 18.609375 23.390625 \r\nQ 18.609375 15.53125 22.484375 10.953125 \r\nQ 26.375 6.390625 33.015625 6.390625 \r\nQ 39.65625 6.390625 43.53125 10.953125 \r\nQ 47.40625 15.53125 47.40625 23.390625 \r\nQ 47.40625 31.296875 43.53125 35.828125 \r\nQ 39.65625 40.375 33.015625 40.375 \r\nz\r\nM 52.59375 71.296875 \r\nL 52.59375 62.3125 \r\nQ 48.875 64.0625 45.09375 64.984375 \r\nQ 41.3125 65.921875 37.59375 65.921875 \r\nQ 27.828125 65.921875 22.671875 59.328125 \r\nQ 17.53125 52.734375 16.796875 39.40625 \r\nQ 19.671875 43.65625 24.015625 45.921875 \r\nQ 28.375 48.1875 33.59375 48.1875 \r\nQ 44.578125 48.1875 50.953125 41.515625 \r\nQ 57.328125 34.859375 57.328125 23.390625 \r\nQ 57.328125 12.15625 50.6875 5.359375 \r\nQ 44.046875 -1.421875 33.015625 -1.421875 \r\nQ 20.359375 -1.421875 13.671875 8.265625 \r\nQ 6.984375 17.96875 6.984375 36.375 \r\nQ 6.984375 53.65625 15.1875 63.9375 \r\nQ 23.390625 74.21875 37.203125 74.21875 \r\nQ 40.921875 74.21875 44.703125 73.484375 \r\nQ 48.484375 72.75 52.59375 71.296875 \r\nz\r\n\" id=\"DejaVuSans-54\"/>\r\n       </defs>\r\n       <use xlink:href=\"#DejaVuSans-54\"/>\r\n       <use x=\"63.623047\" xlink:href=\"#DejaVuSans-48\"/>\r\n      </g>\r\n     </g>\r\n    </g>\r\n    <g id=\"ytick_5\">\r\n     <g id=\"line2d_13\">\r\n      <g>\r\n       <use style=\"stroke:#000000;stroke-width:0.8;\" x=\"33.2875\" xlink:href=\"#m3b95fea725\" y=\"65.343297\"/>\r\n      </g>\r\n     </g>\r\n     <g id=\"text_13\">\r\n      <!-- 80 -->\r\n      <g transform=\"translate(13.5625 69.142515)scale(0.1 -0.1)\">\r\n       <defs>\r\n        <path d=\"M 31.78125 34.625 \r\nQ 24.75 34.625 20.71875 30.859375 \r\nQ 16.703125 27.09375 16.703125 20.515625 \r\nQ 16.703125 13.921875 20.71875 10.15625 \r\nQ 24.75 6.390625 31.78125 6.390625 \r\nQ 38.8125 6.390625 42.859375 10.171875 \r\nQ 46.921875 13.96875 46.921875 20.515625 \r\nQ 46.921875 27.09375 42.890625 30.859375 \r\nQ 38.875 34.625 31.78125 34.625 \r\nz\r\nM 21.921875 38.8125 \r\nQ 15.578125 40.375 12.03125 44.71875 \r\nQ 8.5 49.078125 8.5 55.328125 \r\nQ 8.5 64.0625 14.71875 69.140625 \r\nQ 20.953125 74.21875 31.78125 74.21875 \r\nQ 42.671875 74.21875 48.875 69.140625 \r\nQ 55.078125 64.0625 55.078125 55.328125 \r\nQ 55.078125 49.078125 51.53125 44.71875 \r\nQ 48 40.375 41.703125 38.8125 \r\nQ 48.828125 37.15625 52.796875 32.3125 \r\nQ 56.78125 27.484375 56.78125 20.515625 \r\nQ 56.78125 9.90625 50.3125 4.234375 \r\nQ 43.84375 -1.421875 31.78125 -1.421875 \r\nQ 19.734375 -1.421875 13.25 4.234375 \r\nQ 6.78125 9.90625 6.78125 20.515625 \r\nQ 6.78125 27.484375 10.78125 32.3125 \r\nQ 14.796875 37.15625 21.921875 38.8125 \r\nz\r\nM 18.3125 54.390625 \r\nQ 18.3125 48.734375 21.84375 45.5625 \r\nQ 25.390625 42.390625 31.78125 42.390625 \r\nQ 38.140625 42.390625 41.71875 45.5625 \r\nQ 45.3125 48.734375 45.3125 54.390625 \r\nQ 45.3125 60.0625 41.71875 63.234375 \r\nQ 38.140625 66.40625 31.78125 66.40625 \r\nQ 25.390625 66.40625 21.84375 63.234375 \r\nQ 18.3125 60.0625 18.3125 54.390625 \r\nz\r\n\" id=\"DejaVuSans-56\"/>\r\n       </defs>\r\n       <use xlink:href=\"#DejaVuSans-56\"/>\r\n       <use x=\"63.623047\" xlink:href=\"#DejaVuSans-48\"/>\r\n      </g>\r\n     </g>\r\n    </g>\r\n    <g id=\"ytick_6\">\r\n     <g id=\"line2d_14\">\r\n      <g>\r\n       <use style=\"stroke:#000000;stroke-width:0.8;\" x=\"33.2875\" xlink:href=\"#m3b95fea725\" y=\"25.519121\"/>\r\n      </g>\r\n     </g>\r\n     <g id=\"text_14\">\r\n      <!-- 100 -->\r\n      <g transform=\"translate(7.2 29.31834)scale(0.1 -0.1)\">\r\n       <use xlink:href=\"#DejaVuSans-49\"/>\r\n       <use x=\"63.623047\" xlink:href=\"#DejaVuSans-48\"/>\r\n       <use x=\"127.246094\" xlink:href=\"#DejaVuSans-48\"/>\r\n      </g>\r\n     </g>\r\n    </g>\r\n   </g>\r\n   <g id=\"patch_37\">\r\n    <path d=\"M 33.2875 224.64 \r\nL 33.2875 7.2 \r\n\" style=\"fill:none;stroke:#000000;stroke-linecap:square;stroke-linejoin:miter;stroke-width:0.8;\"/>\r\n   </g>\r\n   <g id=\"patch_38\">\r\n    <path d=\"M 368.0875 224.64 \r\nL 368.0875 7.2 \r\n\" style=\"fill:none;stroke:#000000;stroke-linecap:square;stroke-linejoin:miter;stroke-width:0.8;\"/>\r\n   </g>\r\n   <g id=\"patch_39\">\r\n    <path d=\"M 33.2875 224.64 \r\nL 368.0875 224.64 \r\n\" style=\"fill:none;stroke:#000000;stroke-linecap:square;stroke-linejoin:miter;stroke-width:0.8;\"/>\r\n   </g>\r\n   <g id=\"patch_40\">\r\n    <path d=\"M 33.2875 7.2 \r\nL 368.0875 7.2 \r\n\" style=\"fill:none;stroke:#000000;stroke-linecap:square;stroke-linejoin:miter;stroke-width:0.8;\"/>\r\n   </g>\r\n  </g>\r\n </g>\r\n <defs>\r\n  <clipPath id=\"p8db3a6a56f\">\r\n   <rect height=\"217.44\" width=\"334.8\" x=\"33.2875\" y=\"7.2\"/>\r\n  </clipPath>\r\n </defs>\r\n</svg>\r\n",
      "image/png": "[encoded data removed]"
     },
     "metadata": {
      "needs_background": "light"
     }
    }
   ],
   "source": [
    "with open(\"../../../data/2clustering/pairwise_sim.sav\", \"rb\") as f:\n",
    "    sim, strain2clusters = joblib.load(f)\n",
    "# sim[:,0] = (sim[:,0] - sim[:,0].min()) / (sim[:,0].max() - sim[:,0].min())\n",
    "\n",
    "mapper = umap.UMAP(min_dist=0.0, n_components=3, n_neighbors=50).fit(similarity_matrix(sim))\n",
    "_, _, glabels, _ = cluster_with_hdbscan(mapper.embedding_, GROUPWISE_CLUSTER_RNG, HDBSCAN_PARAMS)\n",
    "\n",
    "counts = np.unique(glabels, return_counts=True)[1]\n",
    "plt.bar(range(len(counts)), sorted(counts))\n",
    "plt.show()"
   ]
  },
  {
   "cell_type": "code",
   "execution_count": 3,
   "metadata": {},
   "outputs": [
    {
     "output_type": "execute_result",
     "data": {
      "text/plain": [
       "{'129P3/J': 0.27906976744186046,\n",
       " '129S1/SvlmJ': 0.15714285714285714,\n",
       " '129X1/SvJ': 0.2857142857142857,\n",
       " 'A/J': 0.2653061224489796,\n",
       " 'B6CBAF1/J': 0.21739130434782608,\n",
       " 'BALB/cByJ': 0.2727272727272727,\n",
       " 'BALB/cJ': 0.3,\n",
       " 'C3H/HeJ': 0.3888888888888889,\n",
       " 'C57BL/10SnJ': 0.3125,\n",
       " 'C57BL/6J': 0.3333333333333333,\n",
       " 'C57BR/cdJ': 0.3333333333333333,\n",
       " 'CAF1/J': 0.2553191489361702,\n",
       " 'CAST/EiJ': 0.4444444444444444,\n",
       " 'CZECHII/EiJ': 0.14285714285714285,\n",
       " 'DBA/2J': 0.35,\n",
       " 'I/LnJ': 0.23636363636363636,\n",
       " 'LP/J': 0.2127659574468085,\n",
       " 'MOLF/EiJ': 0.15555555555555556,\n",
       " 'NOR/LtJ': 0.16216216216216217,\n",
       " 'NZB/BlNJ': 0.15384615384615385,\n",
       " 'NZBWF1/J': 0.15517241379310345,\n",
       " 'NZW/LacJ': 0.20408163265306123,\n",
       " 'PL/J': 0.25,\n",
       " 'PWK/PhJ': 0.057971014492753624,\n",
       " 'WSB/EiJ': 0.10416666666666667}"
      ]
     },
     "metadata": {},
     "execution_count": 3
    }
   ],
   "source": [
    "same_grouping_frac = {strain: np.unique(glabels[idx]).size / len(idx) for strain, idx in strain2clusters.items()}\n",
    "same_grouping_frac"
   ]
  },
  {
   "source": [
    "## Exclude similarity values from same strain"
   ],
   "cell_type": "markdown",
   "metadata": {}
  },
  {
   "cell_type": "code",
   "execution_count": 15,
   "metadata": {},
   "outputs": [
    {
     "output_type": "stream",
     "name": "stderr",
     "text": [
      "100%|██████████| 10/10 [03:52<00:00, 23.21s/it]\n",
      "0.1330490551114969 +- 0.00037250009287802027\n",
      "\n"
     ]
    }
   ],
   "source": [
    "same_strain_map = {}\n",
    "for strain, idxs in strain2clusters.items():\n",
    "    for idx in idxs:\n",
    "        same_strain_map[idx] = [i for i in idxs if i != idx]\n",
    "\n",
    "same_strain_pairs, retain_idx = [], []\n",
    "for i in range(sim.shape[0]):\n",
    "    if int(sim[i,2]) not in same_strain_map[int(sim[i,1])]:\n",
    "        retain_idx.append(i)\n",
    "    else:\n",
    "        same_strain_pairs.append(sim[i,1:])\n",
    "sim_reduced, same_strain_pairs = sim[retain_idx], np.vstack(same_strain_pairs)\n",
    "\n",
    "from sklearn.model_selection import train_test_split\n",
    "from sklearn.neighbors import KNeighborsRegressor\n",
    "filler = KNeighborsRegressor(n_neighbors=15, weights=\"distance\", metric=\"canberra\", n_jobs=-1)\n",
    "\n",
    "# determine imputing params for KNN\n",
    "# score = []\n",
    "# for _ in tqdm(range(10)):\n",
    "#     X_train, X_test, y_train, y_test = train_test_split(sim_reduced[:,1:], sim_reduced[:,0], test_size=0.33, shuffle=True)\n",
    "#     filler.fit(X_train, y_train)\n",
    "#     from sklearn.metrics import mean_squared_error\n",
    "#     score.append(mean_squared_error(y_test, filler.predict(X_test)))\n",
    "# score = np.array(score)\n",
    "# print(f\"\\n{score.mean()} +- {score.std()}\")\n",
    "\n",
    "filler.fit(sim_reduced[:,1:], sim_reduced[:,0])\n",
    "same_strain_sim_vals = np.hstack((filler.predict(same_strain_pairs).reshape(-1,1), same_strain_pairs))\n",
    "\n",
    "new_sim = np.vstack((sim_reduced, same_strain_sim_vals))"
   ]
  },
  {
   "cell_type": "code",
   "execution_count": null,
   "metadata": {},
   "outputs": [],
   "source": [
    "same_grouping_frac = {strain: np.unique(glabels[idx]).size / len(idx) for strain, idx in strain2clusters.items()}\n",
    "same_grouping_frac"
   ]
  },
  {
   "source": [
    "# Check similarity between strains"
   ],
   "cell_type": "markdown",
   "metadata": {}
  },
  {
   "cell_type": "code",
   "execution_count": 3,
   "metadata": {},
   "outputs": [],
   "source": [
    "with open(\"../../../data/2clustering/strainwise_labels.sav\", \"rb\") as f:\n",
    "    feats, embeddings, labels = joblib.load(f)\n",
    "clusters, strain2idx = collect_strainwise_clusters(feats, labels, embeddings)\n",
    "del feats, labels, embeddings\n",
    "combs = list(combinations(list(strain2idx.keys()), 2))"
   ]
  },
  {
   "cell_type": "code",
   "execution_count": 17,
   "metadata": {},
   "outputs": [],
   "source": [
    "def cluster_sim(cluster1, cluster2):\n",
    "    X = [cluster1[\"feats\"], cluster2[\"feats\"]]\n",
    "    y = [np.zeros((X[0].shape[0],)), np.ones((X[1].shape[0], ))]\n",
    "    X, y = np.vstack(X), np.hstack(y)\n",
    "\n",
    "    model = LinearDiscriminantAnalysis(solver=\"svd\", store_covariance=True)\n",
    "    model.fit(X, y)\n",
    "    \n",
    "    Xproj = model.transform(X) # np.array([(model.coef_ * X[i]).sum() for i in range(X.shape[0])])\n",
    "\n",
    "    y_preds = (Xproj < 0).astype(int)\n",
    "    \n",
    "    return roc_auc_score(y, y_preds)\n",
    "\n",
    "# different strains\n",
    "bween_strain_sim = []\n",
    "for strain1, strain2 in random.sample(combs, 20):\n",
    "    sim = []\n",
    "    for cluster1 in strain2idx[strain1]:\n",
    "        for cluster2 in strain2idx[strain2]:\n",
    "            sim.append(cluster_sim(clusters[cluster1], clusters[cluster2]))\n",
    "    bween_strain_sim.append(np.array(sim).mean())\n",
    "\n",
    "# same strain\n",
    "wthin_strain_sim = []\n",
    "for strain in random.sample(list(strain2idx.keys()), 20):\n",
    "    sim = [cluster_sim(clusters[i], clusters[j]) for i, j in combinations(strain2idx[strain], 2)]\n",
    "    wthin_strain_sim.append(np.array(sim).mean())\n",
    "\n",
    "bween_strain_sim, wthin_strain_sim = np.array(bween_strain_sim), np.array(wthin_strain_sim)"
   ]
  },
  {
   "cell_type": "code",
   "execution_count": 18,
   "metadata": {},
   "outputs": [
    {
     "output_type": "stream",
     "name": "stdout",
     "text": [
      "0.6915710813231006 0.16547925940309632\n0.7924718278551135 0.06206407572980324\n"
     ]
    }
   ],
   "source": [
    "print(bween_strain_sim.mean(), bween_strain_sim.std())\n",
    "print(wthin_strain_sim.mean(), wthin_strain_sim.std())"
   ]
  },
  {
   "cell_type": "code",
   "execution_count": null,
   "metadata": {},
   "outputs": [],
   "source": []
  }
 ],
 "metadata": {
  "kernelspec": {
   "name": "python379jvsc74a57bd010f0a36fcccf11dc27c1b3d4924eacf190bcd412d5ba97a1496d026088443aae",
   "display_name": "Python 3.7.9 64-bit ('ddp': conda)"
  },
  "language_info": {
   "codemirror_mode": {
    "name": "ipython",
    "version": 3
   },
   "file_extension": ".py",
   "mimetype": "text/x-python",
   "name": "python",
   "nbconvert_exporter": "python",
   "pygments_lexer": "ipython3",
   "version": "3.7.9"
  }
 },
 "nbformat": 4,
 "nbformat_minor": 5
}