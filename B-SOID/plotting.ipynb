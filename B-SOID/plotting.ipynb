{
 "cells": [
  {
   "cell_type": "markdown",
   "metadata": {},
   "source": [
    "# Training with subset of data"
   ]
  },
  {
   "cell_type": "code",
   "execution_count": 1,
   "metadata": {},
   "outputs": [],
   "source": [
    "import joblib\n",
    "import logging\n",
    "from BSOID.bsoid import BSOID\n",
    "\n",
    "logging.basicConfig(level=logging.INFO)"
   ]
  },
  {
   "cell_type": "code",
   "execution_count": 2,
   "metadata": {},
   "outputs": [],
   "source": [
    "%matplotlib inline\n",
    "import seaborn as sn\n",
    "sn.set_theme()"
   ]
  },
  {
   "cell_type": "code",
   "execution_count": 3,
   "metadata": {},
   "outputs": [],
   "source": [
    "bsoid = BSOID.load_config('D:/IIT/DDP/data', 'bsoid_feats')\n",
    "assignments, soft_clusters, soft_assignments = bsoid.load_identified_clusters()"
   ]
  },
  {
   "cell_type": "code",
   "execution_count": 4,
   "metadata": {},
   "outputs": [],
   "source": [
    "import pandas as pd\n",
    "import numpy as np"
   ]
  },
  {
   "cell_type": "code",
   "execution_count": 5,
   "metadata": {},
   "outputs": [
    {
     "data": {
      "text/plain": [
       "<seaborn.axisgrid.FacetGrid at 0x1c0474c3940>"
      ]
     },
     "execution_count": 5,
     "metadata": {},
     "output_type": "execute_result"
    },
    {
     "data": {
      "image/png": "[encoded data removed]",
      "text/plain": [
       "<Figure size 360x360 with 1 Axes>"
      ]
     },
     "metadata": {},
     "output_type": "display_data"
    }
   ],
   "source": [
    "cluster_data = pd.Series(data=assignments, name='Clusters')\n",
    "ax = sn.displot(cluster_data, kind='hist', bins=np.arange(soft_assignments.max() + 1) - 0.5)\n",
    "ax.set(xticks=np.unique(soft_assignments))"
   ]
  },
  {
   "cell_type": "markdown",
   "metadata": {},
   "source": [
    "---\n",
    "# splitting major clusters"
   ]
  },
  {
   "cell_type": "code",
   "execution_count": 9,
   "metadata": {},
   "outputs": [],
   "source": [
    "with open(bsoid.output_dir + '/' + bsoid.run_id + '_umap.sav', 'rb') as f:\n",
    "    _, feats_sc = joblib.load(f)"
   ]
  },
  {
   "cell_type": "code",
   "execution_count": 10,
   "metadata": {},
   "outputs": [],
   "source": [
    "idx = np.where(soft_assignments == 13)[0]\n",
    "feats_sc = feats_sc[idx]"
   ]
  },
  {
   "cell_type": "code",
   "execution_count": 11,
   "metadata": {},
   "outputs": [],
   "source": [
    "import hdbscan"
   ]
  },
  {
   "cell_type": "code",
   "execution_count": null,
   "metadata": {},
   "outputs": [
    {
     "name": "stdout",
     "output_type": "stream",
     "text": [
      "clustering 208479 samples in 10D with HDBSCAN for a minimum cluster size of 1981\n"
     ]
    }
   ],
   "source": [
    "min_cluster_prop = 0.95\n",
    "min_cluster_size = int(round(min_cluster_prop * 0.01 * feats_sc.shape[0]))\n",
    "print('clustering {} samples in {}D with HDBSCAN for a minimum cluster size of {}'.format(*feats_sc.shape, min_cluster_size))\n",
    "clusterer = hdbscan.HDBSCAN(min_cluster_size, min_samples=10, prediction_data=True).fit(feats_sc)\n",
    "assignments = clusterer.labels_\n",
    "soft_clusters = hdbscan.all_points_membership_vectors(clusterer)\n",
    "soft_assignments = np.argmax(soft_clusters, axis=1)\n",
    "print('Identified {} clusters'.format(len(np.unique(soft_assignments))))"
   ]
  },
  {
   "cell_type": "code",
   "execution_count": null,
   "metadata": {},
   "outputs": [],
   "source": [
    "cluster_data = pd.Series(data=assignments, name='Clusters')\n",
    "ax = sn.displot(cluster_data, kind='hist', bins=np.unique(soft_assignments)- 0.5)\n",
    "ax.set(xticks=np.unique(soft_assignments))"
   ]
  },
  {
   "cell_type": "markdown",
   "metadata": {},
   "source": [
    "---\n",
    "# clustering subset of 20D directly"
   ]
  },
  {
   "cell_type": "code",
   "execution_count": 6,
   "metadata": {},
   "outputs": [],
   "source": [
    "import hdbscan\n",
    "import numpy as np\n",
    "from sklearn.preprocessing import StandardScaler\n",
    "bsoid = BSOID.load_config('/Users/dhruvlaad/IIT/DDP/data', 'temporal_feats')"
   ]
  },
  {
   "cell_type": "code",
   "execution_count": 5,
   "metadata": {},
   "outputs": [],
   "source": [
    "feats, _ = bsoid.load_features()\n",
    "feats_sc = StandardScaler().fit_transform(feats)\n",
    "idx = np.random.permutation(np.arange(feats_sc.shape[0]))[:int(6e5)]\n",
    "feats_sc = feats_sc[idx]"
   ]
  },
  {
   "cell_type": "code",
   "execution_count": null,
   "metadata": {},
   "outputs": [
    {
     "name": "stderr",
     "output_type": "stream",
     "text": [
      "INFO:root:clustering 600000 samples in 20D with HDBSCAN for a minimum cluster size of 5100\n"
     ]
    }
   ],
   "source": [
    "min_cluster_prop = 0.85\n",
    "min_cluster_size = int(round(min_cluster_prop * 0.01 * feats_sc.shape[0]))\n",
    "logging.info('clustering {} samples in {}D with HDBSCAN for a minimum cluster size of {}'.format(*feats_sc.shape, min_cluster_size))\n",
    "clusterer = hdbscan.HDBSCAN(min_cluster_size, min_samples=10, prediction_data=True).fit(feats_sc)\n",
    "assignments = clusterer.labels_\n",
    "soft_clusters = hdbscan.all_points_membership_vectors(clusterer)\n",
    "soft_assignments = np.argmax(soft_clusters, axis=1)\n",
    "logging.info('identified {} clusters from {} samples in {}D'.format(len(np.unique(assignments)), *feats_sc.shape))"
   ]
  },
  {
   "cell_type": "code",
   "execution_count": 17,
   "metadata": {},
   "outputs": [
    {
     "data": {
      "text/plain": [
       "1291"
      ]
     },
     "execution_count": 17,
     "metadata": {},
     "output_type": "execute_result"
    }
   ],
   "source": [
    "np.where(soft_assignments == 11)[0].size"
   ]
  },
  {
   "cell_type": "code",
   "execution_count": null,
   "metadata": {},
   "outputs": [],
   "source": []
  }
 ],
 "metadata": {
  "kernelspec": {
   "display_name": "Python 3",
   "language": "python",
   "name": "python3"
  },
  "language_info": {
   "codemirror_mode": {
    "name": "ipython",
    "version": 3
   },
   "file_extension": ".py",
   "mimetype": "text/x-python",
   "name": "python",
   "nbconvert_exporter": "python",
   "pygments_lexer": "ipython3",
   "version": "3.8.3"
  }
 },
 "nbformat": 4,
 "nbformat_minor": 4
}
