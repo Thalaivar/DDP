{
 "cells": [
  {
   "cell_type": "code",
   "execution_count": null,
   "metadata": {},
   "outputs": [],
   "source": [
    "import networkx as nx\n",
    "import numpy as np\n",
    "import seaborn as sns\n",
    "import matplotlib.pyplot as plt\n",
    "%matplotlib inline\n",
    "\n",
    "from tqdm import tqdm\n",
    "from numpy import mean\n",
    "\n",
    "from analysis import *\n",
    "from joblib import Parallel, delayed\n",
    "\n",
    "base_dir = '/Users/dhruvlaad/IIT/DDP/data/'\n",
    "# base_dir = 'D:/IIT/DDP/data/'\n",
    "label_info_file = base_dir + 'analysis/label_info.pkl'\n",
    "stats_file = base_dir + 'analysis/stats.pkl'"
   ]
  },
  {
   "cell_type": "code",
   "execution_count": null,
   "metadata": {},
   "outputs": [],
   "source": [
    "behaviour_stats = all_behaviour_info_for_all_strains(label_info_file, max_label=19)\n",
    "\n",
    "for key in BEHAVIOUR_LABELS.keys():\n",
    "    nb_max = max(behaviour_stats[key]['No. of Bouts'])\n",
    "    print(f'{key}: {nb_max}')\n",
    "    \n",
    "# with open(stats_file, 'rb') as f:\n",
    "#     behaviour_stats = joblib.load(f)"
   ]
  },
  {
   "cell_type": "code",
   "execution_count": null,
   "metadata": {},
   "outputs": [],
   "source": [
    "# behaviour_stats.keys()\n",
    "key = 'Point'\n",
    "plot_dir = base_dir + 'analysis/plots'\n",
    "stats = behaviour_stats[key]\n",
    "info = pd.DataFrame.from_dict(stats)"
   ]
  },
  {
   "cell_type": "code",
   "execution_count": null,
   "metadata": {},
   "outputs": [],
   "source": [
    "info_ = info.copy(deep=True)\n",
    "info_['Total Duration'] = info['Total Duration']/60\n",
    "info_['Average Bout Length'] = info['Average Bout Length']"
   ]
  },
  {
   "cell_type": "markdown",
   "metadata": {},
   "source": [
    "# plotting routines"
   ]
  },
  {
   "cell_type": "code",
   "execution_count": null,
   "metadata": {},
   "outputs": [],
   "source": [
    "def sort_info_df(info, metric):\n",
    "    N = info.shape[0]\n",
    "    strains = {}\n",
    "    for strain in info['Strain']:\n",
    "        strains[strain] = []\n",
    "        \n",
    "    for i in range(N):\n",
    "        data = info.iloc[i]\n",
    "        strains[data['Strain']].append(data[metric])\n",
    "    \n",
    "    for key, value in strains.items():\n",
    "        strains[key] = sum(value)/len(value)\n",
    "    \n",
    "    strains = dict(sorted(strains.items(), key=lambda item: item[1]))\n",
    "    return strains.keys()\n",
    "\n",
    "def plot_behaviour_metric(info, metric, order, ylabel=None):        \n",
    "    ylabel = metric if ylabel is None else ylabel\n",
    "    \n",
    "    fig = plt.figure(figsize=(10, 100))\n",
    "    g = sns.catplot(x='Strain', y=metric, data=info, hue='Sex', jitter=False, legend=False, order=order, ci=0.95)\n",
    "    ax = g.axes[0,0]\n",
    "    ax.tick_params(grid_color='gray', grid_alpha=0.3, labelrotation=90, labelsize=8)\n",
    "    ax.grid(True)\n",
    "    ax.set_ylabel(ylabel, fontsize=12)\n",
    "    ax.set_xlabel(None, fontsize=12)\n",
    "    ax.legend(loc='upper left')\n",
    "    plt.gcf().set_size_inches(15, 2.2)\n",
    "    return fig, ax"
   ]
  },
  {
   "cell_type": "code",
   "execution_count": null,
   "metadata": {},
   "outputs": [],
   "source": [
    "strains = list(sort_info_df(info_, 'Total Duration'))\n",
    "fig, ax = plot_behaviour_metric(info_, 'Total Duration', strains, 'Total Duration (min)', )\n",
    "ax.tick_params(axis='y', labelrotation=0, labelsize=8)\n",
    "fig"
   ]
  },
  {
   "cell_type": "code",
   "execution_count": null,
   "metadata": {},
   "outputs": [],
   "source": [
    "strains = list(sort_info_df(info_, 'Average Bout Length'))\n",
    "fig, ax = plot_behaviour_metric(info_, 'Average Bout Length', strains, 'Average Bout Length (s)', )\n",
    "# ax.set_ylim([MIN_BOUT_LENS[key]/1000, 2])\n",
    "ax.tick_params(axis='y', labelrotation=0, labelsize=8)\n",
    "fig"
   ]
  },
  {
   "cell_type": "code",
   "execution_count": null,
   "metadata": {
    "scrolled": true
   },
   "outputs": [],
   "source": [
    "strains = list(sort_info_df(info_, 'No. of Bouts'))\n",
    "fig, ax = plot_behaviour_metric(info_, 'No. of Bouts', strains, 'No. of Bouts', )\n",
    "ax.tick_params(axis='y', labelrotation=0, labelsize=8)\n",
    "fig"
   ]
  },
  {
   "cell_type": "code",
   "execution_count": null,
   "metadata": {},
   "outputs": [],
   "source": [
    "# plot behaviour distribution for all data\n",
    "import numpy as np\n",
    "from analysis import *\n",
    "from BSOID.bsoid import BSOID\n",
    "\n",
    "prop = 100 * calculate_behaviour_usage(label_info_file, max_label=19)\n",
    "\n",
    "labels = [None for _ in range(len(prop))]\n",
    "for key, val in BEHAVIOUR_LABELS.items():\n",
    "    if len(val) > 1:\n",
    "        for i, idx in enumerate(val):\n",
    "            labels[idx] = f'{key} #{i}'\n",
    "    else:\n",
    "        labels[val[0]] = key\n",
    "fig = plt.figure(figsize=(12,9))\n",
    "ax = sns.barplot(x=np.arange(len(prop)), y=prop)\n",
    "ax.set_xticklabels(labels)\n",
    "ax.set_ylabel('% samples of behaviour')\n",
    "ax.tick_params(axis='x', labelrotation=90, labelsize=12)\n",
    "fig.savefig(f'{plot_dir}/prop.png')\n",
    "fig.show()"
   ]
  },
  {
   "cell_type": "markdown",
   "metadata": {},
   "source": [
    "# Show proportion of behaviour used for each strain\n",
    "----"
   ]
  },
  {
   "cell_type": "code",
   "execution_count": null,
   "metadata": {},
   "outputs": [],
   "source": [
    "usage_data = behaviour_usage_across_strains(stats_file, min_threshold=0.01)\n",
    "usage_data = usage_data.pivot_table(index='Behaviour', columns='Strain', values='Usage')\n",
    "\n",
    "ax = sns.heatmap(usage_data, xticklabels=True, yticklabels=True, cmap='cubehelix')\n",
    "plt.gcf().set_size_inches(15.5, 4)\n",
    "plt.savefig(f'{plot_dir}/usage.png')\n",
    "plt.show() "
   ]
  },
  {
   "cell_type": "markdown",
   "metadata": {},
   "source": [
    "# Plot transition network"
   ]
  },
  {
   "cell_type": "code",
   "execution_count": null,
   "metadata": {},
   "outputs": [],
   "source": [
    "def tnet_from_tmat(tmat, behaviour_usage, n_edges):        \n",
    "    bins = [0, 0.01, 0.05, 0.2]\n",
    "\n",
    "    for i in range(tmat.shape[0]):\n",
    "        tmat[i,i] = -1\n",
    "\n",
    "    G = nx.MultiDiGraph()\n",
    "    G.add_nodes_from(range(0, tmat.shape[0]))\n",
    "\n",
    "    for i in range(tmat.shape[0]):\n",
    "        for j in range(tmat.shape[1]):\n",
    "            if i != j:\n",
    "                bin_idx = bin_wts(tmat[i,j], bins)\n",
    "                if bin_idx > 0:\n",
    "                    G.add_edge(i, j, weight=tmat[i,j])\n",
    "\n",
    "    edge_wts = [0.5, 1, 5]\n",
    "    widths = [edge_wts[bin_wts(G[u][v][0]['weight'], bins) - 1] for u, v in G.edges()]\n",
    "    return G, widths\n",
    "\n",
    "def bin_wts(wt, bins):\n",
    "    for i in range(len(bins)-1):\n",
    "        if wt >= bins[i] and wt < bins[i+1]:\n",
    "            return i\n",
    "    return len(bins) - 1\n",
    "\n",
    "def get_usage_for_strain(label_info_file, strain=None, max_label=None):\n",
    "    with open(label_info_file, 'rb') as f:\n",
    "        label_info = joblib.load(f)\n",
    "    N = len(label_info['Strain'])\n",
    "    \n",
    "    if strain is not None:\n",
    "        labels = [label_info['Labels'][i] for i in range(N) if label_info['Strain'][i] == strain]\n",
    "    else:\n",
    "        labels = label_info['Labels']\n",
    "    del label_info\n",
    "    \n",
    "    usage_data = Parallel(n_jobs=-1)(delayed(behaviour_proportion)(labs, max_label) for labs in labels)\n",
    "#     usage_data = np.vstack([behaviour_proportion(labs, max_label) for labs in labels])\n",
    "    usage_data = np.vstack(usage_data)\n",
    "    usage_data = usage_data.sum(axis=0)/usage_data.shape[0]\n",
    "    return usage_data\n",
    "    \n",
    "def get_tmat_for_strain(label_info_file, strain=None, max_label=None):\n",
    "    with open(label_info_file, 'rb') as f:\n",
    "        label_info = joblib.load(f)\n",
    "    N = len(label_info['Strain'])\n",
    "    \n",
    "    if strain is not None:\n",
    "        labels = [label_info['Labels'][i] for i in range(N) if label_info['Strain'][i] == strain]\n",
    "    else:\n",
    "        labels = label_info['Labels']\n",
    "    del label_info\n",
    "    \n",
    "#     tmat_data = [transition_matrix_from_assay(labs, max_label) for labs in labels]\n",
    "    tmat_data = Parallel(n_jobs=-1)(delayed(transition_matrix_from_assay)(labs, max_label) for labs in labels)\n",
    "            \n",
    "    tmat = tmat_data[0]\n",
    "    for i in range(1, len(tmat_data)):\n",
    "        tmat += tmat_data[i]\n",
    "    \n",
    "    tmat = tmat / len(tmat_data)\n",
    "    return tmat"
   ]
  },
  {
   "cell_type": "code",
   "execution_count": null,
   "metadata": {},
   "outputs": [],
   "source": [
    "tmat = get_tmat_for_strain(label_info_file, max_label=19)\n",
    "usage = get_usage_for_strain(label_info_file, max_label=19)"
   ]
  },
  {
   "cell_type": "code",
   "execution_count": null,
   "metadata": {},
   "outputs": [],
   "source": [
    "G, widths = tnet_from_tmat(tmat, usage, 3)\n",
    "\n",
    "color = tuple([ x / 255 for x in [51,153,255,0.6 * 255]])\n",
    "nx.draw_spectral(G, node_size=2000*usage, connectionstyle='bar, fraction = 0.01', edge_color=color, edgecolors='k', node_color='white', width=widths, arrowsize=5)\n",
    "plt.show()"
   ]
  },
  {
   "cell_type": "markdown",
   "metadata": {},
   "source": [
    "# Plotting feature vs. time"
   ]
  },
  {
   "cell_type": "code",
   "execution_count": null,
   "metadata": {},
   "outputs": [],
   "source": [
    "from BSOID.bsoid import BSOID\n",
    "bsoid = BSOID.load_config(run_id='dis', base_dir='D:/IIT/DDP/data')\n",
    "_, _, umap_embeddings = bsoid.load_umap_results()\n",
    "assignments, _, soft_assignments, best_clf = bsoid.load_identified_clusters()"
   ]
  },
  {
   "cell_type": "code",
   "execution_count": null,
   "metadata": {},
   "outputs": [],
   "source": [
    "X, labels = umap_embeddings[assignments >= 0], soft_assignments[assignments >= 0]\n",
    "\n",
    "from mpl_toolkits.mplot3d import Axes3D\n",
    "from matplotlib.lines import Line2D\n",
    "\n",
    "fig = plt.figure(figsize=(12,9))\n",
    "ax = fig.add_subplot(111, projection='3d')\n",
    "\n",
    "import matplotlib\n",
    "cmap = matplotlib.cm.get_cmap('viridis')\n",
    "colors = np.array([cmap(idx/labels.max()) for idx in labels])\n",
    "\n",
    "ax.scatter(X[:,0], X[:,1], X[:,2], c=colors, s=0.1, alpha=0.2)\n",
    "\n",
    "ax.set_xticklabels([])\n",
    "ax.set_yticklabels([])\n",
    "ax.set_zticklabels([])\n",
    "\n",
    "ax.set_xlabel('UMAP 1')\n",
    "ax.set_ylabel('UMAP 2')\n",
    "ax.set_zlabel('UMAP 3')\n",
    "\n",
    "\n",
    "leg_labels = [None for _ in range(soft_assignments.max()+1)]\n",
    "for key, val in BEHAVIOUR_LABELS.items():\n",
    "    if len(val) > 1:\n",
    "        for i, idx in enumerate(val):\n",
    "            leg_labels[idx] = f'{key} #{i}'\n",
    "    else:\n",
    "        leg_labels[val[0]] = key\n",
    "\n",
    "lines = [Line2D(range(1), range(1), color=\"white\", marker='o', markerfacecolor=cmap(idx/labels.max())) for i in range(labels.max() + 1)]\n",
    "plt.legend(lines, leg_labels, loc='upper right')\n",
    "\n",
    "plt.show()"
   ]
  },
  {
   "cell_type": "code",
   "execution_count": null,
   "metadata": {},
   "outputs": [],
   "source": [
    "print(cmap(1))\n",
    "print(cmap(2))\n",
    "print(cmap(3))"
   ]
  }
 ],
 "metadata": {
  "kernelspec": {
   "display_name": "Python 3",
   "language": "python",
   "name": "python3"
  },
  "language_info": {
   "codemirror_mode": {
    "name": "ipython",
    "version": 3
   },
   "file_extension": ".py",
   "mimetype": "text/x-python",
   "name": "python",
   "nbconvert_exporter": "python",
   "pygments_lexer": "ipython3",
   "version": "3.7.9"
  }
 },
 "nbformat": 4,
 "nbformat_minor": 4
}
