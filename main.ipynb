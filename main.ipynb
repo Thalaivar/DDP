{
 "cells": [
  {
   "cell_type": "code",
   "execution_count": 2,
   "id": "8a66a4ae-4fd8-4b5e-85cb-3dc7996a8dd0",
   "metadata": {},
   "outputs": [],
   "source": [
    "import sys\n",
    "sys.path.insert(0, \"/home/laadd/DDP/behaviourPipeline/\")\n",
    "\n",
    "import logging\n",
    "logging.basicConfig(level=logging.INFO)"
   ]
  },
  {
   "cell_type": "code",
   "execution_count": 3,
   "id": "acd9f301-5b7d-4d38-8a72-c01fdc04382d",
   "metadata": {},
   "outputs": [
    {
     "name": "stderr",
     "output_type": "stream",
     "text": [
      "/home/laadd/anaconda3/envs/bsoid/lib/python3.7/site-packages/ray/autoscaler/_private/cli_logger.py:61: FutureWarning: Not all Ray CLI dependencies were found. In Ray 1.4+, the Ray CLI, autoscaler, and dashboard will only be usable via `pip install 'ray[default]'`. Please update your install command.\n",
      "  \"update your install command.\", FutureWarning)\n"
     ]
    }
   ],
   "source": [
    "import pandas as pd\n",
    "from behaviourPipeline.pipeline import BehaviourPipeline"
   ]
  },
  {
   "cell_type": "code",
   "execution_count": 4,
   "id": "cc51910a-2dcb-4b66-a43e-cc8adc80f175",
   "metadata": {},
   "outputs": [],
   "source": [
    "pipeline = BehaviourPipeline(pipelinename=\"trial\", config=\"./config.yaml\")"
   ]
  },
  {
   "cell_type": "code",
   "execution_count": 7,
   "id": "55c08150-4a14-4c7c-b27d-28bc492968ac",
   "metadata": {},
   "outputs": [
    {
     "name": "stderr",
     "output_type": "stream",
     "text": [
      "INFO:behaviourPipeline.pipeline:extracted data from 10 strains with a total of 50 animals\n"
     ]
    }
   ],
   "source": [
    "data_dir = \"/projects/kumar-lab/StrainSurveyPoses/\"\n",
    "records = pd.read_csv(\"/projects/kumar-lab/StrainSurveyPoses/StrainSurveyMetaList_2019-04-09.tsv\", sep=\"\\t\")\n",
    "fdata = pipeline.ingest_data(data_dir, records, n=5, n_strains=10)"
   ]
  },
  {
   "cell_type": "code",
   "execution_count": 9,
   "id": "24c53238-5f92-4ad3-89c7-9a226dc3326c",
   "metadata": {},
   "outputs": [
    {
     "name": "stderr",
     "output_type": "stream",
     "text": [
      "INFO:behaviourPipeline.pipeline:extracting features from 10 strains\n",
      "100%|██████████| 10/10 [00:12<00:00,  1.17s/it]INFO:behaviourPipeline.pipeline:extracted 10 datasets of 92D features\n",
      "INFO:behaviourPipeline.pipeline:collected features into bins of 100 ms\n"
     ]
    }
   ],
   "source": [
    "feats = pipeline.compute_features()"
   ]
  },
  {
   "cell_type": "code",
   "execution_count": 5,
   "id": "2f1af8d2-cc52-4bf9-bb5d-ad0a85abdcef",
   "metadata": {},
   "outputs": [
    {
     "name": "stderr",
     "output_type": "stream",
     "text": [
      "2021-08-25 08:39:16,769\tINFO services.py:1269 -- View the Ray dashboard at \u001b[1m\u001b[32mhttp://127.0.0.1:8265\u001b[39m\u001b[22m\n",
      "\u001b[2m\u001b[33m(raylet)\u001b[0m /home/laadd/anaconda3/envs/bsoid/lib/python3.7/site-packages/ray/autoscaler/_private/cli_logger.py:61: FutureWarning: Not all Ray CLI dependencies were found. In Ray 1.4+, the Ray CLI, autoscaler, and dashboard will only be usable via `pip install 'ray[default]'`. Please update your install command.\n",
      "\u001b[2m\u001b[33m(raylet)\u001b[0m   \"update your install command.\", FutureWarning)\n",
      "\u001b[2m\u001b[33m(raylet)\u001b[0m /home/laadd/anaconda3/envs/bsoid/lib/python3.7/site-packages/ray/autoscaler/_private/cli_logger.py:61: FutureWarning: Not all Ray CLI dependencies were found. In Ray 1.4+, the Ray CLI, autoscaler, and dashboard will only be usable via `pip install 'ray[default]'`. Please update your install command.\n",
      "\u001b[2m\u001b[33m(raylet)\u001b[0m   \"update your install command.\", FutureWarning)\n",
      "\u001b[2m\u001b[33m(raylet)\u001b[0m /home/laadd/anaconda3/envs/bsoid/lib/python3.7/site-packages/ray/autoscaler/_private/cli_logger.py:61: FutureWarning: Not all Ray CLI dependencies were found. In Ray 1.4+, the Ray CLI, autoscaler, and dashboard will only be usable via `pip install 'ray[default]'`. Please update your install command.\n",
      "\u001b[2m\u001b[33m(raylet)\u001b[0m   \"update your install command.\", FutureWarning)\n",
      "  0%|          | 0/10 [00:00<?, ?it/s]2021-08-25 08:39:17,560\tWARNING worker.py:1115 -- Failed to unpickle the remote function 'behaviourPipeline.pipeline.clustering_wrapper' with function ID fd66c23aa050d32bb29b0fb8c0df9ae3a2df43591e81a98bcab17048. Traceback:\n",
      "Traceback (most recent call last):\n",
      "  File \"/home/laadd/anaconda3/envs/bsoid/lib/python3.7/site-packages/ray/_private/function_manager.py\", line 180, in fetch_and_register_remote_function\n",
      "    function = pickle.loads(serialized_function)\n",
      "ModuleNotFoundError: No module named 'clustering'\n",
      "\n",
      "2021-08-25 08:39:17,561\tWARNING worker.py:1115 -- Failed to unpickle the remote function 'behaviourPipeline.pipeline.clustering_wrapper' with function ID fd66c23aa050d32bb29b0fb8c0df9ae3a2df43591e81a98bcab17048. Traceback:\n",
      "Traceback (most recent call last):\n",
      "  File \"/home/laadd/anaconda3/envs/bsoid/lib/python3.7/site-packages/ray/_private/function_manager.py\", line 180, in fetch_and_register_remote_function\n",
      "    function = pickle.loads(serialized_function)\n",
      "ModuleNotFoundError: No module named 'clustering'\n",
      "\n",
      "2021-08-25 08:39:17,561\tWARNING worker.py:1115 -- Failed to unpickle the remote function 'behaviourPipeline.pipeline.clustering_wrapper' with function ID fd66c23aa050d32bb29b0fb8c0df9ae3a2df43591e81a98bcab17048. Traceback:\n",
      "Traceback (most recent call last):\n",
      "  File \"/home/laadd/anaconda3/envs/bsoid/lib/python3.7/site-packages/ray/_private/function_manager.py\", line 180, in fetch_and_register_remote_function\n",
      "    function = pickle.loads(serialized_function)\n",
      "ModuleNotFoundError: No module named 'clustering'\n",
      "\n",
      "2021-08-25 08:39:17,561\tWARNING worker.py:1115 -- Failed to unpickle the remote function 'behaviourPipeline.pipeline.clustering_wrapper' with function ID fd66c23aa050d32bb29b0fb8c0df9ae3a2df43591e81a98bcab17048. Traceback:\n",
      "Traceback (most recent call last):\n",
      "  File \"/home/laadd/anaconda3/envs/bsoid/lib/python3.7/site-packages/ray/_private/function_manager.py\", line 180, in fetch_and_register_remote_function\n",
      "    function = pickle.loads(serialized_function)\n",
      "ModuleNotFoundError: No module named 'clustering'\n",
      "\n",
      "2021-08-25 08:39:17,562\tWARNING worker.py:1115 -- Failed to unpickle the remote function 'behaviourPipeline.pipeline.clustering_wrapper' with function ID fd66c23aa050d32bb29b0fb8c0df9ae3a2df43591e81a98bcab17048. Traceback:\n",
      "Traceback (most recent call last):\n",
      "  File \"/home/laadd/anaconda3/envs/bsoid/lib/python3.7/site-packages/ray/_private/function_manager.py\", line 180, in fetch_and_register_remote_function\n",
      "    function = pickle.loads(serialized_function)\n",
      "ModuleNotFoundError: No module named 'clustering'\n",
      "\n",
      "2021-08-25 08:39:17,563\tWARNING worker.py:1115 -- Failed to unpickle the remote function 'behaviourPipeline.pipeline.clustering_wrapper' with function ID fd66c23aa050d32bb29b0fb8c0df9ae3a2df43591e81a98bcab17048. Traceback:\n",
      "Traceback (most recent call last):\n",
      "  File \"/home/laadd/anaconda3/envs/bsoid/lib/python3.7/site-packages/ray/_private/function_manager.py\", line 180, in fetch_and_register_remote_function\n",
      "    function = pickle.loads(serialized_function)\n",
      "ModuleNotFoundError: No module named 'clustering'\n",
      "\n",
      "2021-08-25 08:39:17,564\tWARNING worker.py:1115 -- Failed to unpickle the remote function 'behaviourPipeline.pipeline.clustering_wrapper' with function ID fd66c23aa050d32bb29b0fb8c0df9ae3a2df43591e81a98bcab17048. Traceback:\n",
      "Traceback (most recent call last):\n",
      "  File \"/home/laadd/anaconda3/envs/bsoid/lib/python3.7/site-packages/ray/_private/function_manager.py\", line 180, in fetch_and_register_remote_function\n",
      "    function = pickle.loads(serialized_function)\n",
      "ModuleNotFoundError: No module named 'clustering'\n",
      "\n",
      "2021-08-25 08:39:17,564\tWARNING worker.py:1115 -- Failed to unpickle the remote function 'behaviourPipeline.pipeline.clustering_wrapper' with function ID fd66c23aa050d32bb29b0fb8c0df9ae3a2df43591e81a98bcab17048. Traceback:\n",
      "Traceback (most recent call last):\n",
      "  File \"/home/laadd/anaconda3/envs/bsoid/lib/python3.7/site-packages/ray/_private/function_manager.py\", line 180, in fetch_and_register_remote_function\n",
      "    function = pickle.loads(serialized_function)\n",
      "ModuleNotFoundError: No module named 'clustering'\n",
      "\n",
      "2021-08-25 08:39:17,565\tWARNING worker.py:1115 -- Failed to unpickle the remote function 'behaviourPipeline.pipeline.clustering_wrapper' with function ID fd66c23aa050d32bb29b0fb8c0df9ae3a2df43591e81a98bcab17048. Traceback:\n",
      "Traceback (most recent call last):\n",
      "  File \"/home/laadd/anaconda3/envs/bsoid/lib/python3.7/site-packages/ray/_private/function_manager.py\", line 180, in fetch_and_register_remote_function\n",
      "    function = pickle.loads(serialized_function)\n",
      "ModuleNotFoundError: No module named 'clustering'\n",
      "\n",
      "2021-08-25 08:39:17,566\tWARNING worker.py:1115 -- Failed to unpickle the remote function 'behaviourPipeline.pipeline.clustering_wrapper' with function ID fd66c23aa050d32bb29b0fb8c0df9ae3a2df43591e81a98bcab17048. Traceback:\n",
      "Traceback (most recent call last):\n",
      "  File \"/home/laadd/anaconda3/envs/bsoid/lib/python3.7/site-packages/ray/_private/function_manager.py\", line 180, in fetch_and_register_remote_function\n",
      "    function = pickle.loads(serialized_function)\n",
      "ModuleNotFoundError: No module named 'clustering'\n",
      "\n"
     ]
    },
    {
     "ename": "RayTaskError(RuntimeError)",
     "evalue": "\u001b[36mray::clustering_wrapper()\u001b[39m (pid=155234, ip=10.5.37.116)\n  File \"python/ray/_raylet.pyx\", line 505, in ray._raylet.execute_task\n  File \"/home/laadd/anaconda3/envs/bsoid/lib/python3.7/site-packages/ray/_private/function_manager.py\", line 185, in f\n    \"This function was not imported properly.\")\nRuntimeError: This function was not imported properly.",
     "output_type": "error",
     "traceback": [
      "\u001b[0;31m---------------------------------------------------------------------------\u001b[0m",
      "\u001b[0;31mRayTaskError(RuntimeError)\u001b[0m                Traceback (most recent call last)",
      "\u001b[0;32m<ipython-input-5-26cd6b3ca3c5>\u001b[0m in \u001b[0;36m<module>\u001b[0;34m\u001b[0m\n\u001b[0;32m----> 1\u001b[0;31m \u001b[0mtemplates\u001b[0m\u001b[0;34m,\u001b[0m \u001b[0mclustering\u001b[0m \u001b[0;34m=\u001b[0m \u001b[0mpipeline\u001b[0m\u001b[0;34m.\u001b[0m\u001b[0mcluster_strainwise\u001b[0m\u001b[0;34m(\u001b[0m\u001b[0;34m)\u001b[0m\u001b[0;34m\u001b[0m\u001b[0;34m\u001b[0m\u001b[0m\n\u001b[0m",
      "\u001b[0;32m~/DDP/behaviourPipeline/pipeline.py\u001b[0m in \u001b[0;36mcluster_strainwise\u001b[0;34m(self, n_jobs)\u001b[0m\n\u001b[1;32m    128\u001b[0m             \u001b[0mn\u001b[0m \u001b[0;34m=\u001b[0m \u001b[0mlen\u001b[0m\u001b[0;34m(\u001b[0m\u001b[0mfutures\u001b[0m\u001b[0;34m)\u001b[0m \u001b[0;32mif\u001b[0m \u001b[0mlen\u001b[0m\u001b[0;34m(\u001b[0m\u001b[0mfutures\u001b[0m\u001b[0;34m)\u001b[0m \u001b[0;34m<\u001b[0m \u001b[0mn_jobs\u001b[0m \u001b[0;32melse\u001b[0m \u001b[0mn_jobs\u001b[0m\u001b[0;34m\u001b[0m\u001b[0;34m\u001b[0m\u001b[0m\n\u001b[1;32m    129\u001b[0m             \u001b[0mfin\u001b[0m\u001b[0;34m,\u001b[0m \u001b[0mrest\u001b[0m \u001b[0;34m=\u001b[0m \u001b[0mray\u001b[0m\u001b[0;34m.\u001b[0m\u001b[0mwait\u001b[0m\u001b[0;34m(\u001b[0m\u001b[0mfutures\u001b[0m\u001b[0;34m,\u001b[0m \u001b[0mnum_returns\u001b[0m\u001b[0;34m=\u001b[0m\u001b[0mn\u001b[0m\u001b[0;34m)\u001b[0m\u001b[0;34m\u001b[0m\u001b[0;34m\u001b[0m\u001b[0m\n\u001b[0;32m--> 130\u001b[0;31m             \u001b[0mresults\u001b[0m\u001b[0;34m.\u001b[0m\u001b[0mextend\u001b[0m\u001b[0;34m(\u001b[0m\u001b[0mray\u001b[0m\u001b[0;34m.\u001b[0m\u001b[0mget\u001b[0m\u001b[0;34m(\u001b[0m\u001b[0mfin\u001b[0m\u001b[0;34m)\u001b[0m\u001b[0;34m)\u001b[0m\u001b[0;34m\u001b[0m\u001b[0;34m\u001b[0m\u001b[0m\n\u001b[0m\u001b[1;32m    131\u001b[0m             \u001b[0mfutures\u001b[0m \u001b[0;34m=\u001b[0m \u001b[0mrest\u001b[0m\u001b[0;34m\u001b[0m\u001b[0;34m\u001b[0m\u001b[0m\n\u001b[1;32m    132\u001b[0m             \u001b[0mpbar\u001b[0m\u001b[0;34m.\u001b[0m\u001b[0mupdate\u001b[0m\u001b[0;34m(\u001b[0m\u001b[0mn\u001b[0m\u001b[0;34m)\u001b[0m\u001b[0;34m\u001b[0m\u001b[0;34m\u001b[0m\u001b[0m\n",
      "\u001b[0;32m~/anaconda3/envs/bsoid/lib/python3.7/site-packages/ray/_private/client_mode_hook.py\u001b[0m in \u001b[0;36mwrapper\u001b[0;34m(*args, **kwargs)\u001b[0m\n\u001b[1;32m     45\u001b[0m         \u001b[0;32mif\u001b[0m \u001b[0mclient_mode_should_convert\u001b[0m\u001b[0;34m(\u001b[0m\u001b[0;34m)\u001b[0m\u001b[0;34m:\u001b[0m\u001b[0;34m\u001b[0m\u001b[0;34m\u001b[0m\u001b[0m\n\u001b[1;32m     46\u001b[0m             \u001b[0;32mreturn\u001b[0m \u001b[0mgetattr\u001b[0m\u001b[0;34m(\u001b[0m\u001b[0mray\u001b[0m\u001b[0;34m,\u001b[0m \u001b[0mfunc\u001b[0m\u001b[0;34m.\u001b[0m\u001b[0m__name__\u001b[0m\u001b[0;34m)\u001b[0m\u001b[0;34m(\u001b[0m\u001b[0;34m*\u001b[0m\u001b[0margs\u001b[0m\u001b[0;34m,\u001b[0m \u001b[0;34m**\u001b[0m\u001b[0mkwargs\u001b[0m\u001b[0;34m)\u001b[0m\u001b[0;34m\u001b[0m\u001b[0;34m\u001b[0m\u001b[0m\n\u001b[0;32m---> 47\u001b[0;31m         \u001b[0;32mreturn\u001b[0m \u001b[0mfunc\u001b[0m\u001b[0;34m(\u001b[0m\u001b[0;34m*\u001b[0m\u001b[0margs\u001b[0m\u001b[0;34m,\u001b[0m \u001b[0;34m**\u001b[0m\u001b[0mkwargs\u001b[0m\u001b[0;34m)\u001b[0m\u001b[0;34m\u001b[0m\u001b[0;34m\u001b[0m\u001b[0m\n\u001b[0m\u001b[1;32m     48\u001b[0m \u001b[0;34m\u001b[0m\u001b[0m\n\u001b[1;32m     49\u001b[0m     \u001b[0;32mreturn\u001b[0m \u001b[0mwrapper\u001b[0m\u001b[0;34m\u001b[0m\u001b[0;34m\u001b[0m\u001b[0m\n",
      "\u001b[0;32m~/anaconda3/envs/bsoid/lib/python3.7/site-packages/ray/worker.py\u001b[0m in \u001b[0;36mget\u001b[0;34m(object_refs, timeout)\u001b[0m\n\u001b[1;32m   1479\u001b[0m                     \u001b[0mworker\u001b[0m\u001b[0;34m.\u001b[0m\u001b[0mcore_worker\u001b[0m\u001b[0;34m.\u001b[0m\u001b[0mdump_object_store_memory_usage\u001b[0m\u001b[0;34m(\u001b[0m\u001b[0;34m)\u001b[0m\u001b[0;34m\u001b[0m\u001b[0;34m\u001b[0m\u001b[0m\n\u001b[1;32m   1480\u001b[0m                 \u001b[0;32mif\u001b[0m \u001b[0misinstance\u001b[0m\u001b[0;34m(\u001b[0m\u001b[0mvalue\u001b[0m\u001b[0;34m,\u001b[0m \u001b[0mRayTaskError\u001b[0m\u001b[0;34m)\u001b[0m\u001b[0;34m:\u001b[0m\u001b[0;34m\u001b[0m\u001b[0;34m\u001b[0m\u001b[0m\n\u001b[0;32m-> 1481\u001b[0;31m                     \u001b[0;32mraise\u001b[0m \u001b[0mvalue\u001b[0m\u001b[0;34m.\u001b[0m\u001b[0mas_instanceof_cause\u001b[0m\u001b[0;34m(\u001b[0m\u001b[0;34m)\u001b[0m\u001b[0;34m\u001b[0m\u001b[0;34m\u001b[0m\u001b[0m\n\u001b[0m\u001b[1;32m   1482\u001b[0m                 \u001b[0;32melse\u001b[0m\u001b[0;34m:\u001b[0m\u001b[0;34m\u001b[0m\u001b[0;34m\u001b[0m\u001b[0m\n\u001b[1;32m   1483\u001b[0m                     \u001b[0;32mraise\u001b[0m \u001b[0mvalue\u001b[0m\u001b[0;34m\u001b[0m\u001b[0;34m\u001b[0m\u001b[0m\n",
      "\u001b[0;31mRayTaskError(RuntimeError)\u001b[0m: \u001b[36mray::clustering_wrapper()\u001b[39m (pid=155234, ip=10.5.37.116)\n  File \"python/ray/_raylet.pyx\", line 505, in ray._raylet.execute_task\n  File \"/home/laadd/anaconda3/envs/bsoid/lib/python3.7/site-packages/ray/_private/function_manager.py\", line 185, in f\n    \"This function was not imported properly.\")\nRuntimeError: This function was not imported properly."
     ]
    }
   ],
   "source": [
    "templates, clustering = pipeline.cluster_strainwise()"
   ]
  },
  {
   "cell_type": "code",
   "execution_count": null,
   "id": "0a9dc07e-6a52-4929-bf43-a6d9bcca1c87",
   "metadata": {},
   "outputs": [],
   "source": []
  }
 ],
 "metadata": {
  "kernelspec": {
   "display_name": "Python 3",
   "language": "python",
   "name": "python3"
  },
  "language_info": {
   "codemirror_mode": {
    "name": "ipython",
    "version": 3
   },
   "file_extension": ".py",
   "mimetype": "text/x-python",
   "name": "python",
   "nbconvert_exporter": "python",
   "pygments_lexer": "ipython3",
   "version": "3.7.9"
  }
 },
 "nbformat": 4,
 "nbformat_minor": 5
}
