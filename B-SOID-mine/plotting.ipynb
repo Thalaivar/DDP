{
 "cells": [
  {
   "cell_type": "code",
   "execution_count": 1,
   "metadata": {},
   "outputs": [],
   "source": [
    "import seaborn as sns\n",
    "import matplotlib.pyplot as plt\n",
    "%matplotlib inline\n",
    "\n",
    "from numpy import mean"
   ]
  },
  {
   "cell_type": "code",
   "execution_count": null,
   "metadata": {
    "scrolled": true
   },
   "outputs": [
    {
     "name": "stderr",
     "output_type": "stream",
     "text": [
      " 10%|█████████████                                                                                                                  | 13/126 [00:16<02:14,  1.19s/it]"
     ]
    }
   ],
   "source": [
    "from analysis import *\n",
    "info = calculate_behaviour_info_for_all_strains(data_lookup_file='bsoid_strain_data.csv', min_bout_len=round(200 * FPS / 1000))"
   ]
  },
  {
   "cell_type": "code",
   "execution_count": null,
   "metadata": {},
   "outputs": [],
   "source": [
    "info_ = info.copy(deep=True)\n",
    "info_['Total Duration'] = info['Total Duration']/60\n",
    "info_['Average Bout Length'] = info['Average Bout Length']"
   ]
  },
  {
   "cell_type": "markdown",
   "metadata": {},
   "source": [
    "# plotting routines"
   ]
  },
  {
   "cell_type": "code",
   "execution_count": null,
   "metadata": {},
   "outputs": [],
   "source": [
    "def sort_info_df(info, metric):\n",
    "    N = info.shape[0]\n",
    "    strains = {}\n",
    "    for strain in info['Strain']:\n",
    "        strains[strain] = []\n",
    "        \n",
    "    for i in range(N):\n",
    "        data = info.iloc[i]\n",
    "        strains[data['Strain']].append(data[metric])\n",
    "    \n",
    "    for key, value in strains.items():\n",
    "        strains[key] = sum(value)/len(value)\n",
    "    \n",
    "    strains = dict(sorted(strains.items(), key=lambda item: item[1]))\n",
    "    return strains.keys()\n",
    "\n",
    "def plot_behaviour_metric(info, metric, order, ylabel=None):        \n",
    "    ylabel = metric if ylabel is None else ylabel\n",
    "    \n",
    "    fig = plt.figure(figsize=(10, 100))\n",
    "    g = sns.catplot(x='Strain', y=metric, data=info, hue='Sex', jitter=False, legend=False, order=order)\n",
    "    ax = g.axes[0,0]\n",
    "    ax.tick_params(grid_color='gray', grid_alpha=0.3, labelrotation=90, labelsize=8)\n",
    "    ax.grid(True)\n",
    "    ax.set_ylabel(ylabel, fontsize=12)\n",
    "    ax.set_xlabel('Strain', fontsize=12)\n",
    "    ax.legend(loc='upper left')\n",
    "    plt.gcf().set_size_inches(15, 2.2)\n",
    "    return fig, ax"
   ]
  },
  {
   "cell_type": "code",
   "execution_count": null,
   "metadata": {},
   "outputs": [],
   "source": [
    "strains = list(sort_info_df(info_, 'Total Duration'))\n",
    "plot_behaviour_metric(info_, 'Total Duration', strains, 'Total Duration (min)', )"
   ]
  },
  {
   "cell_type": "code",
   "execution_count": null,
   "metadata": {},
   "outputs": [],
   "source": [
    "strains = list(sort_info_df(info_, 'Average Bout Length'))\n",
    "plot_behaviour_metric(info_, 'Average Bout Length', strains, 'Average Bout Length (s)', )"
   ]
  },
  {
   "cell_type": "code",
   "execution_count": null,
   "metadata": {},
   "outputs": [],
   "source": [
    "strains = list(sort_info_df(info_, 'No. of Bouts'))\n",
    "fig, ax = plot_behaviour_metric(info_, 'No. of Bouts', strains, 'No. of Bouts', )\n",
    "ax.tick_params(axis='y', labelrotation=0, labelsize=8)\n",
    "fig"
   ]
  },
  {
   "cell_type": "code",
   "execution_count": null,
   "metadata": {},
   "outputs": [],
   "source": []
  }
 ],
 "metadata": {
  "kernelspec": {
   "display_name": "Python 3",
   "language": "python",
   "name": "python3"
  },
  "language_info": {
   "codemirror_mode": {
    "name": "ipython",
    "version": 3
   },
   "file_extension": ".py",
   "mimetype": "text/x-python",
   "name": "python",
   "nbconvert_exporter": "python",
   "pygments_lexer": "ipython3",
   "version": "3.8.3"
  }
 },
 "nbformat": 4,
 "nbformat_minor": 4
}
